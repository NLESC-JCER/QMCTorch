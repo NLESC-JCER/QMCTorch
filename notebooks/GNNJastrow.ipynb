{
 "cells": [
  {
   "cell_type": "code",
   "execution_count": 1,
   "metadata": {},
   "outputs": [
    {
     "name": "stdout",
     "output_type": "stream",
     "text": [
      "INFO:QMCTorch|  ____    __  ______________             _\n",
      "INFO:QMCTorch| / __ \\  /  |/  / ___/_  __/__  ________/ /  \n",
      "INFO:QMCTorch|/ /_/ / / /|_/ / /__  / / / _ \\/ __/ __/ _ \\ \n",
      "INFO:QMCTorch|\\___\\_\\/_/  /_/\\___/ /_/  \\___/_/  \\__/_//_/ \n"
     ]
    }
   ],
   "source": [
    "import qmctorch"
   ]
  },
  {
   "cell_type": "markdown",
   "metadata": {},
   "source": [
    "# Graph Neural Networks\n",
    "\n",
    "There has been a lot of work done on graph neural networks. See for example the Deep Graph Library (https://www.dgl.ai/) and its application to chemistry https://github.com/awslabs/dgl-lifesci \n",
    "\n",
    "In particular the paper Molecular Property Prediction: A Multilevel Quantum Interactions Modeling Perspective (https://arxiv.org/abs/1906.11081) already implemented in dgl-lifesci (https://github.com/awslabs/dgl-lifesci/blob/master/examples/README.md) offers an interesting way of extending the defintion of the Jastrow Factors"
   ]
  },
  {
   "cell_type": "markdown",
   "metadata": {},
   "source": [
    "# GNN Jastrow Factors\n",
    "\n",
    "\n",
    "Instead of defining the Electorn-Electron Jastrow factor through the Pade Jastrow or the FullyConnected Netowrk we can consider the different connection graphs and use these graph as an input of graph network. \n",
    "\n",
    "\n",
    "\n",
    "W can first consider the connection graph between all the elctrons. In this input graph each node represent a given electron and an edge exists between all electron pairs. The distance between two electron can be used as an edge feature to encode the relative positions of the electrons\n",
    "\n",
    "We can also consider the connection graphs between the electrons and the nuclei. In this graph each electron is represented by a node and each atom is also represented by a node. Edges exists only between electron and atoms biut not between electron pairs (we can optionally consider edges between nuclei)\n",
    "\n",
    "Expressing the structure of the electron/nuclei system as a graph allows expressing different interactions, e.g. elec-elec terms, elec-elec-elec termsn, elec-nuclei, elec-elec-nuclei, etc ... in a very flexible way through convolution over the graphs. (see https://arxiv.org/abs/1906.11081)\n",
    "\n",
    "The `JastrowFactorGraph` orchestrate the calculation of such Jastrow factor and accept different graph neural network for the elec-elec graphs and the elec-nuc graphs"
   ]
  },
  {
   "cell_type": "code",
   "execution_count": 5,
   "metadata": {},
   "outputs": [],
   "source": [
    "import torch\n",
    "from qmctorch.wavefunction.jastrows.graph.jastrow_graph import JastrowFactorGraph\n",
    "from qmctorch.wavefunction.jastrows.graph.mgcn.mgcn_predictor import MGCNPredictor\n",
    "\n",
    "nup, ndown = 2, 2\n",
    "nelec = nup + ndown\n",
    "\n",
    "atom_types = [\"Li\", \"H\"]\n",
    "atomic_pos = torch.tensor([[0., 0., 0.],\n",
    "                           [0., 0., 3.015]])\n",
    "\n",
    "\n",
    "jastrow = JastrowFactorGraph(nup, ndown,\n",
    "                                  atomic_pos,\n",
    "                                  atom_types,\n",
    "                                  ee_model=MGCNPredictor,\n",
    "                                  ee_model_kwargs={'n_layers': 3,\n",
    "                                                   'feats': 32,\n",
    "                                                   'cutoff': 5.0,\n",
    "                                                   'gap': 1.},\n",
    "                                  en_model=MGCNPredictor,\n",
    "                                  en_model_kwargs={'n_layers': 3,\n",
    "                                                   'feats': 32,\n",
    "                                                   'cutoff': 5.0,\n",
    "                                                   'gap': 1.0})\n"
   ]
  },
  {
   "cell_type": "markdown",
   "metadata": {},
   "source": [
    "# SlaterJastrow wave function with MGCN\n",
    "\n",
    "The `SlaterJastrowGraph` class allows using GNN Jastrows in Slater-Jastrow wave function "
   ]
  },
  {
   "cell_type": "code",
   "execution_count": 10,
   "metadata": {},
   "outputs": [
    {
     "name": "stdout",
     "output_type": "stream",
     "text": [
      "INFO:QMCTorch|\n",
      "INFO:QMCTorch| SCF Calculation\n",
      "INFO:QMCTorch|  Removing LiH_pyscf_sto-3g.hdf5 and redo SCF calculations\n",
      "INFO:QMCTorch|  Running scf  calculation\n",
      "converged SCF energy = -7.85928101642664\n",
      "INFO:QMCTorch|  Molecule name       : LiH\n",
      "INFO:QMCTorch|  Number of electrons : 4\n",
      "INFO:QMCTorch|  SCF calculator      : pyscf\n",
      "INFO:QMCTorch|  Basis set           : sto-3g\n",
      "INFO:QMCTorch|  SCF                 : HF\n",
      "INFO:QMCTorch|  Number of AOs       : 6\n",
      "INFO:QMCTorch|  Number of MOs       : 6\n",
      "INFO:QMCTorch|  SCF Energy          : -7.859 Hartree\n",
      "INFO:QMCTorch|\n",
      "INFO:QMCTorch| Wave Function\n",
      "INFO:QMCTorch|  Jastrow factor      : False\n",
      "INFO:QMCTorch|  Highest MO included : 3\n",
      "INFO:QMCTorch|  Configurations      : single_double(2,2)\n",
      "INFO:QMCTorch|  Number of confs     : 4\n",
      "INFO:QMCTorch|  Kinetic energy      : auto\n",
      "INFO:QMCTorch|  Number var  param   : 37\n",
      "INFO:QMCTorch|  Cuda support        : False\n",
      "INFO:QMCTorch|\n",
      "INFO:QMCTorch| Wave Function\n",
      "INFO:QMCTorch|  Jastrow factor      : True\n",
      "INFO:QMCTorch|  Jastrow kernel      : Graph(ee:MGCNPredictor, en:MGCNPredictor)\n",
      "INFO:QMCTorch|  Highest MO included : 3\n",
      "INFO:QMCTorch|  Configurations      : single_double(2,2)\n",
      "INFO:QMCTorch|  Number of confs     : 4\n",
      "INFO:QMCTorch|  Kinetic energy      : auto\n",
      "INFO:QMCTorch|  Number var  param   : 56263\n",
      "INFO:QMCTorch|  Cuda support        : False\n"
     ]
    }
   ],
   "source": [
    "import torch\n",
    "from qmctorch.scf import Molecule\n",
    "from qmctorch.wavefunction import SlaterJastrowGraph\n",
    "from qmctorch.wavefunction.jastrows.graph.mgcn.mgcn_predictor import MGCNPredictor\n",
    "\n",
    "\n",
    "mol = Molecule(\n",
    "    atom='Li 0 0 0; H 0 0 3.14',\n",
    "    unit='bohr',\n",
    "    calculator='pyscf',\n",
    "    basis='sto-3g',\n",
    "    redo_scf=True)\n",
    "\n",
    "wf = SlaterJastrowGraph( mol,\n",
    "                         kinetic='auto',\n",
    "                         include_all_mo=False,\n",
    "                         configs='single_double(2,2)',\n",
    "                         ee_model=MGCNPredictor,\n",
    "                         ee_model_kwargs={'n_layers': 3,\n",
    "                                          'feats': 32,\n",
    "                                          'cutoff': 5.0,\n",
    "                                          'gap': 1.},\n",
    "                         en_model=MGCNPredictor,\n",
    "                         en_model_kwargs={'n_layers': 3,\n",
    "                                          'feats': 32,\n",
    "                                          'cutoff': 5.0,\n",
    "                                          'gap': 1.0})\n",
    "\n",
    "nbatch = 10\n",
    "pos = torch.rand(nbatch,  wf.nelec*3)\n",
    "\n",
    "wfval = wf(pos)"
   ]
  },
  {
   "cell_type": "markdown",
   "metadata": {},
   "source": [
    "# TODO Explore the different architectures of MGCN \n",
    "\n",
    "As for the Fully connected networks, it would be great assess the performance of MGCN jastrow factors in predicting the total energy of the test molecules (H2, LiH, Li2, N2). Of course MGCN are only one of the possible options and we can also define new GNN to compute the jastrows."
   ]
  },
  {
   "cell_type": "code",
   "execution_count": null,
   "metadata": {},
   "outputs": [],
   "source": []
  }
 ],
 "metadata": {
  "kernelspec": {
   "display_name": "qmctorch",
   "language": "python",
   "name": "qmctorch"
  },
  "language_info": {
   "codemirror_mode": {
    "name": "ipython",
    "version": 3
   },
   "file_extension": ".py",
   "mimetype": "text/x-python",
   "name": "python",
   "nbconvert_exporter": "python",
   "pygments_lexer": "ipython3",
   "version": "3.8.0"
  }
 },
 "nbformat": 4,
 "nbformat_minor": 4
}
