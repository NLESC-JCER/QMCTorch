{
 "cells": [
  {
   "attachments": {},
   "cell_type": "markdown",
   "metadata": {},
   "source": [
    "# GPUs and multi-GPUs Support\n",
    "\n",
    "> **Warning** \n",
    "> The use of GPU and mutli-GPU is under developpement and hasn't been thoroughly tested yet. Proceed with caution !\n",
    "\n",
    "Using pytorch as a backend, QMCTorch can leverage GPU cards available on your hardware.\n",
    "You of course must have the CUDA version of pytorch installed (https://pytorch.org/)\n",
    "\n",
    "\n",
    "Let's first import everything and create a molecule\n"
   ]
  },
  {
   "cell_type": "code",
   "execution_count": 13,
   "metadata": {},
   "outputs": [
    {
     "name": "stdout",
     "output_type": "stream",
     "text": [
      "INFO:QMCTorch|\n",
      "INFO:QMCTorch| SCF Calculation\n",
      "INFO:QMCTorch|  Removing H2_pyscf_sto-3g.hdf5 and redo SCF calculations\n",
      "INFO:QMCTorch|  Running scf  calculation\n",
      "converged SCF energy = -1.06599946214331\n",
      "INFO:QMCTorch|  Molecule name       : H2\n",
      "INFO:QMCTorch|  Number of electrons : 2\n",
      "INFO:QMCTorch|  SCF calculator      : pyscf\n",
      "INFO:QMCTorch|  Basis set           : sto-3g\n",
      "INFO:QMCTorch|  SCF                 : HF\n",
      "INFO:QMCTorch|  Number of AOs       : 2\n",
      "INFO:QMCTorch|  Number of MOs       : 2\n",
      "INFO:QMCTorch|  SCF Energy          : -1.066 Hartree\n"
     ]
    }
   ],
   "source": [
    "import torch\n",
    "from torch import optim\n",
    "from qmctorch.scf import Molecule\n",
    "from qmctorch.wavefunction import SlaterJastrow\n",
    "from qmctorch.sampler import Metropolis\n",
    "from qmctorch.utils import (plot_energy, plot_data)\n",
    "mol = Molecule(atom='H 0. 0. 0; H 0. 0. 1.', unit='bohr', redo_scf=True)"
   ]
  },
  {
   "attachments": {},
   "cell_type": "markdown",
   "metadata": {},
   "source": [
    "## Running on a single GPU\n",
    "\n",
    "The use of GPU acceleration has been streamlined in QMCTorch, the only modification\n",
    "you need to do on your code is to specify `cuda=True` in the declaration of the wave function and sampler, this will automatically port all the necesaary tensors to the GPU and offload all the corresponding operation there."
   ]
  },
  {
   "cell_type": "code",
   "execution_count": 9,
   "metadata": {},
   "outputs": [
    {
     "name": "stdout",
     "output_type": "stream",
     "text": [
      "CUDA not available, install torch with cuda support to proceed\n"
     ]
    }
   ],
   "source": [
    "if torch.cuda.is_available():\n",
    "    wf = SlaterJastrow(mol, cuda=True)\n",
    "    sampler = Metropolis(nwalkers=100, nstep=500, step_size=0.25,\n",
    "                     nelec=wf.nelec, ndim=wf.ndim,\n",
    "                     init=mol.domain('atomic'),\n",
    "                     move={'type': 'all-elec', 'proba': 'normal'},\n",
    "                     cuda=True)\n",
    "else:\n",
    "    print('CUDA not available, install torch with cuda support to proceed')"
   ]
  },
  {
   "cell_type": "code",
   "execution_count": null,
   "metadata": {},
   "outputs": [],
   "source": [
    "lr_dict = [{'params': wf.jastrow.parameters(), 'lr': 3E-3},\n",
    "           {'params': wf.ao.parameters(), 'lr': 1E-6},\n",
    "           {'params': wf.mo.parameters(), 'lr': 1E-3},\n",
    "           {'params': wf.fc.parameters(), 'lr': 2E-3}]\n",
    "opt = optim.Adam(lr_dict, lr=1E-3)"
   ]
  },
  {
   "attachments": {},
   "cell_type": "markdown",
   "metadata": {},
   "source": [
    "## Multi GPU Support\n",
    "\n",
    "The use of multiple GPUs is made possible through the `Horovod` library : https://github.com/horovod/horovod\n",
    "A dedicated QMCTorch Solver has been developped to handle multiple GPU. To use this solver simply import it\n",
    "and use is as the normal solver and only a few modifications are required to use horovod :"
   ]
  },
  {
   "cell_type": "code",
   "execution_count": 12,
   "metadata": {},
   "outputs": [
    {
     "name": "stdout",
     "output_type": "stream",
     "text": [
      "CUDA not available, install torch with cuda support to proceed\n"
     ]
    }
   ],
   "source": [
    "import horovod.torch as hvd\n",
    "from qmctorch.solver import SolverSlaterJastrowHorovod\n",
    "\n",
    "hvd.init()\n",
    "if torch.cuda.is_available():\n",
    "    torch.cuda.set_device(hvd.rank())\n",
    "    solver = SolverSlaterJastrowHorovod(wf=wf, sampler=sampler,\n",
    "                                        optimizer=opt,\n",
    "                                        rank=hvd.rank())\n",
    "    \n",
    "else:\n",
    "    print('CUDA not available, install torch with cuda support to proceed')"
   ]
  },
  {
   "cell_type": "code",
   "execution_count": null,
   "metadata": {},
   "outputs": [],
   "source": [
    "# configure the solver\n",
    "if torch.cuda.is_available():\n",
    "    solver.configure(track=['local_energy'], freeze=['ao', 'mo'],\n",
    "                    loss='energy', grad='auto',\n",
    "                    ortho_mo=False, clip_loss=False,\n",
    "                    resampling={'mode': 'update',\n",
    "                                'resample_every': 1,\n",
    "                                'nstep_update': 50})\n",
    "\n",
    "    # optimize the wave function\n",
    "    obs = solver.run(250)\n",
    "\n",
    "    if hvd.rank() == 0:\n",
    "        plot_energy(obs.local_energy, e0=-1.1645, show_variance=True)\n",
    "        plot_data(solver.observable, obsname='jastrow.weight')\n",
    "else:\n",
    "    print('CUDA not available, install torch with cuda support to proceed')"
   ]
  },
  {
   "attachments": {},
   "cell_type": "markdown",
   "metadata": {},
   "source": [
    "As you can see some classes need the rank of the process when they are defined. This is simply\n",
    "to insure that only the master process generates the HDF5 files containing the information relative to the calculation.\n",
    "\n",
    "It is currently difficult to use Horovod on mutliple node through a jupyter notebook. To do so, one should have a python file with all the code and execute the code  with the following command\n",
    "\n",
    "\n",
    "\n",
    "```\n",
    "horovodrun -np 2 python <example>.py\n",
    "```\n",
    "\n",
    "See the horovod documentation for more details : https://github.com/horovod/horovod\n",
    "\n",
    "\n",
    "This solver distribute the `Nw` walkers over the `Np` process . For example specifying 2000 walkers\n",
    "and using 4 process will lead to each process using only 500 walkers. During the optimizaiton of the wavefunction\n",
    "each process will compute the gradients of the variational parameter using their local 500 walkers.\n",
    "The gradients are then averaged over all the processes before the optimization step takes place. This data parallel\n",
    "model has been greatly succesfull in machine learning applications (http://jmlr.org/papers/volume20/18-789/18-789.pdf)"
   ]
  },
  {
   "cell_type": "markdown",
   "metadata": {},
   "source": []
  }
 ],
 "metadata": {
  "kernelspec": {
   "display_name": "qmctorch",
   "language": "python",
   "name": "python3"
  },
  "language_info": {
   "codemirror_mode": {
    "name": "ipython",
    "version": 3
   },
   "file_extension": ".py",
   "mimetype": "text/x-python",
   "name": "python",
   "nbconvert_exporter": "python",
   "pygments_lexer": "ipython3",
   "version": "3.8.0"
  },
  "orig_nbformat": 4
 },
 "nbformat": 4,
 "nbformat_minor": 2
}
