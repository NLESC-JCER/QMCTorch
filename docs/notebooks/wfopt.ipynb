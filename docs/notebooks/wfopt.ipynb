{
 "cells": [
  {
   "attachments": {},
   "cell_type": "markdown",
   "metadata": {},
   "source": [
    "# Wave Function Optimization\n",
    "\n",
    "We present here a complete example on how to use QMCTorch on a H2 molecule.\n",
    "We first need to import all the relevant modules :"
   ]
  },
  {
   "cell_type": "code",
   "execution_count": 2,
   "metadata": {},
   "outputs": [],
   "source": [
    "from torch import optim\n",
    "from qmctorch.scf import Molecule\n",
    "from qmctorch.wavefunction import SlaterJastrow\n",
    "from qmctorch.solver import SolverSlaterJastrow\n",
    "from qmctorch.sampler import Metropolis\n",
    "from qmctorch.utils import set_torch_double_precision\n",
    "from qmctorch.utils import (plot_energy, plot_data)\n",
    "set_torch_double_precision()"
   ]
  },
  {
   "attachments": {},
   "cell_type": "markdown",
   "metadata": {},
   "source": [
    "## Creating the system\n",
    "\n",
    "The first step is to define a molecule. We here use a H2 molecule with both hydrgen atoms\n",
    "on the z-axis and separated by 1.38 atomic unit. We choose here to use Slater orbitals that can be otained via `ADF`. We simply here reload calculations to create the molecule"
   ]
  },
  {
   "cell_type": "code",
   "execution_count": 3,
   "metadata": {},
   "outputs": [
    {
     "name": "stdout",
     "output_type": "stream",
     "text": [
      "INFO:QMCTorch|\n",
      "INFO:QMCTorch| SCF Calculation\n",
      "INFO:QMCTorch|  Loading data from H2_adf_dzp.hdf5\n"
     ]
    }
   ],
   "source": [
    "mol = Molecule(load='./hdf5/H2_adf_dzp.hdf5')"
   ]
  },
  {
   "attachments": {},
   "cell_type": "markdown",
   "metadata": {},
   "source": [
    "We then define the wave function relative to this molecule. We also specify here\n",
    "the determinants we want to use in the CI expansion. We use here a to include all the single\n",
    "and double excitation with 2 electrons and 2 orbitals"
   ]
  },
  {
   "cell_type": "code",
   "execution_count": 5,
   "metadata": {},
   "outputs": [
    {
     "name": "stdout",
     "output_type": "stream",
     "text": [
      "INFO:QMCTorch|\n",
      "INFO:QMCTorch| Wave Function\n",
      "INFO:QMCTorch|  Jastrow factor      : True\n",
      "INFO:QMCTorch|  Jastrow kernel      : PadeJastrowKernel\n",
      "INFO:QMCTorch|  Highest MO included : 10\n",
      "INFO:QMCTorch|  Configurations      : single_double(2,2)\n",
      "INFO:QMCTorch|  Number of confs     : 4\n",
      "INFO:QMCTorch|  Kinetic energy      : jacobi\n",
      "INFO:QMCTorch|  Number var  param   : 121\n",
      "INFO:QMCTorch|  Cuda support        : False\n"
     ]
    }
   ],
   "source": [
    "wf = SlaterJastrow(mol, configs='single_double(2,2)')"
   ]
  },
  {
   "attachments": {},
   "cell_type": "markdown",
   "metadata": {},
   "source": [
    "As a sampler we use a simple Metropolis Hasting with 1000 walkers. The walkers are initially localized around the atoms.\n",
    "Each walker will perform 2000 steps of size 0.2 atomic unit and will only keep the last position of each walker (`ntherm=-1`).\n",
    "During each move all the the electrons are moved simultaneously within a normal distribution centered around their current location."
   ]
  },
  {
   "cell_type": "code",
   "execution_count": 6,
   "metadata": {},
   "outputs": [
    {
     "name": "stdout",
     "output_type": "stream",
     "text": [
      "INFO:QMCTorch|\n",
      "INFO:QMCTorch| Monte-Carlo Sampler\n",
      "INFO:QMCTorch|  Number of walkers   : 1000\n",
      "INFO:QMCTorch|  Number of steps     : 2000\n",
      "INFO:QMCTorch|  Step size           : 0.2\n",
      "INFO:QMCTorch|  Thermalization steps: -1\n",
      "INFO:QMCTorch|  Decorelation steps  : 100\n",
      "INFO:QMCTorch|  Walkers init pos    : atomic\n",
      "INFO:QMCTorch|  Move type           : all-elec\n",
      "INFO:QMCTorch|  Move proba          : normal\n"
     ]
    }
   ],
   "source": [
    "sampler = Metropolis(nwalkers=1000,\n",
    "                     nstep=2000, step_size=0.2,\n",
    "                     ntherm=-1, ndecor=100,\n",
    "                     nelec=wf.nelec, init=mol.domain('atomic'),\n",
    "                     move={'type': 'all-elec', 'proba': 'normal'})"
   ]
  },
  {
   "attachments": {},
   "cell_type": "markdown",
   "metadata": {},
   "source": [
    "We will use the ADAM optimizer implemented in pytorch with custom learning rate for each layer.\n",
    "We also define a linear scheduler that will decrease the learning rate after 100 steps"
   ]
  },
  {
   "cell_type": "code",
   "execution_count": 7,
   "metadata": {},
   "outputs": [],
   "source": [
    "lr_dict = [{'params': wf.jastrow.parameters(), 'lr': 1E-3},\n",
    "           {'params': wf.ao.parameters(), 'lr': 1E-6},\n",
    "           {'params': wf.mo.parameters(), 'lr': 1E-3},\n",
    "           {'params': wf.fc.parameters(), 'lr': 1E-3}]\n",
    "opt = optim.Adam(lr_dict, lr=1E-3)"
   ]
  },
  {
   "attachments": {},
   "cell_type": "markdown",
   "metadata": {},
   "source": [
    "A scheduler can also be used to progressively decrease the value of the learning rate during the optimization."
   ]
  },
  {
   "cell_type": "code",
   "execution_count": 9,
   "metadata": {},
   "outputs": [],
   "source": [
    "scheduler = optim.lr_scheduler.StepLR(opt, step_size=100, gamma=0.90)"
   ]
  },
  {
   "cell_type": "markdown",
   "metadata": {},
   "source": [
    "We can now assemble the solver"
   ]
  },
  {
   "cell_type": "code",
   "execution_count": 10,
   "metadata": {},
   "outputs": [
    {
     "name": "stdout",
     "output_type": "stream",
     "text": [
      "INFO:QMCTorch|\n",
      "INFO:QMCTorch| QMC Solver \n",
      "INFO:QMCTorch|  WaveFunction        : SlaterJastrow\n",
      "INFO:QMCTorch|  Sampler             : Metropolis\n",
      "INFO:QMCTorch|  Optimizer           : Adam\n"
     ]
    }
   ],
   "source": [
    "solver = SolverSlaterJastrow(wf=wf, sampler=sampler, optimizer=opt, scheduler=None)"
   ]
  },
  {
   "attachments": {},
   "cell_type": "markdown",
   "metadata": {},
   "source": [
    "## Comfiguring the solver\n",
    "\n",
    "Many parameters of the optimization can be controlled. We can specify which observale to track during the optimization. Here only the local energies will be recorded but one can also record the variational parameters"
   ]
  },
  {
   "cell_type": "code",
   "execution_count": 11,
   "metadata": {},
   "outputs": [],
   "source": [
    "solver.configure(track=['local_energy'])"
   ]
  },
  {
   "attachments": {},
   "cell_type": "markdown",
   "metadata": {},
   "source": [
    "Some variational parameters can be frozen and therefore not optimized. We here freeze the MO coefficients and the AO parameters\n",
    "and therefore only the jastrow parametres and the CI coefficients will be optmized"
   ]
  },
  {
   "cell_type": "code",
   "execution_count": 12,
   "metadata": {},
   "outputs": [],
   "source": [
    "solver.configure(freeze=['ao', 'mo'])"
   ]
  },
  {
   "attachments": {},
   "cell_type": "markdown",
   "metadata": {},
   "source": [
    "Either the mean or the variance of local energies can be used as a loss function. We choose here to minimize the energy to optimize the wave function"
   ]
  },
  {
   "cell_type": "code",
   "execution_count": 13,
   "metadata": {},
   "outputs": [],
   "source": [
    "solver.configure(loss='energy')"
   ]
  },
  {
   "attachments": {},
   "cell_type": "markdown",
   "metadata": {},
   "source": [
    "The gradients of the wave function w.r.t. the variational parameters can be computed directly via automatic differntiation (`grad='auto'`)or manually (`grad='auto'`) via a reduced noise formula. We pick here a manual calculation"
   ]
  },
  {
   "cell_type": "code",
   "execution_count": 14,
   "metadata": {},
   "outputs": [],
   "source": [
    "solver.configure(grad='manual')"
   ]
  },
  {
   "cell_type": "markdown",
   "metadata": {},
   "source": [
    "We also configure the resampling so that the positions of the walkers are updated by performing\n",
    "25 MC steps from their previous positions after each optimization step."
   ]
  },
  {
   "cell_type": "code",
   "execution_count": 15,
   "metadata": {},
   "outputs": [],
   "source": [
    "solver.configure(resampling={'mode': 'update',\n",
    "                            'resample_every': 1,\n",
    "                            'nstep_update': 25})"
   ]
  },
  {
   "attachments": {},
   "cell_type": "markdown",
   "metadata": {},
   "source": [
    "## Running the wave function optimization\n",
    "\n",
    "We can now run the optimization. We use here 250 optimization steps (epoch), using all the points\n",
    "in a single mini-batch."
   ]
  },
  {
   "cell_type": "code",
   "execution_count": 16,
   "metadata": {},
   "outputs": [
    {
     "name": "stdout",
     "output_type": "stream",
     "text": [
      "INFO:QMCTorch|\n",
      "INFO:QMCTorch|  Optimization\n",
      "INFO:QMCTorch|  Task                :\n",
      "INFO:QMCTorch|  Number Parameters   : 115\n",
      "INFO:QMCTorch|  Number of epoch     : 250\n",
      "INFO:QMCTorch|  Batch size          : 1000\n",
      "INFO:QMCTorch|  Loss function       : energy\n",
      "INFO:QMCTorch|  Clip Loss           : False\n",
      "INFO:QMCTorch|  Gradients           : manual\n",
      "INFO:QMCTorch|  Resampling mode     : update\n",
      "INFO:QMCTorch|  Resampling every    : 1\n",
      "INFO:QMCTorch|  Resampling steps    : 25\n",
      "INFO:QMCTorch|  Output file         : H2_adf_dzp_QMCTorch.hdf5\n",
      "INFO:QMCTorch|  Checkpoint every    : None\n",
      "INFO:QMCTorch|\n",
      "INFO:QMCTorch|\n",
      "INFO:QMCTorch|  epoch 0\n",
      "INFO:QMCTorch|  energy   : -1.157424 +/- 0.007778\n",
      "INFO:QMCTorch|  variance : 0.245959\n",
      "INFO:QMCTorch|  epoch done in 0.15 sec.\n",
      "INFO:QMCTorch|\n",
      "INFO:QMCTorch|  epoch 1\n",
      "INFO:QMCTorch|  energy   : -1.144750 +/- 0.007154\n",
      "INFO:QMCTorch|  variance : 0.226236\n",
      "INFO:QMCTorch|  epoch done in 0.17 sec.\n",
      "INFO:QMCTorch|\n",
      "INFO:QMCTorch|  epoch 2\n",
      "INFO:QMCTorch|  energy   : -1.147760 +/- 0.007500\n",
      "INFO:QMCTorch|  variance : 0.237167\n",
      "INFO:QMCTorch|  epoch done in 0.12 sec.\n",
      "INFO:QMCTorch|\n",
      "INFO:QMCTorch|  epoch 3\n",
      "INFO:QMCTorch|  energy   : -1.165220 +/- 0.007091\n",
      "INFO:QMCTorch|  variance : 0.224222\n",
      "INFO:QMCTorch|  epoch done in 0.16 sec.\n",
      "INFO:QMCTorch|\n",
      "INFO:QMCTorch|  epoch 4\n",
      "INFO:QMCTorch|  energy   : -1.145917 +/- 0.007073\n",
      "INFO:QMCTorch|  variance : 0.223654\n",
      "INFO:QMCTorch|  epoch done in 0.18 sec.\n",
      "INFO:QMCTorch|\n",
      "INFO:QMCTorch|  epoch 5\n",
      "INFO:QMCTorch|  energy   : -1.162512 +/- 0.006794\n",
      "INFO:QMCTorch|  variance : 0.214833\n",
      "INFO:QMCTorch|  epoch done in 0.13 sec.\n",
      "INFO:QMCTorch|\n",
      "INFO:QMCTorch|  epoch 6\n",
      "INFO:QMCTorch|  energy   : -1.171627 +/- 0.006855\n",
      "INFO:QMCTorch|  variance : 0.216782\n",
      "INFO:QMCTorch|  epoch done in 0.11 sec.\n",
      "INFO:QMCTorch|\n",
      "INFO:QMCTorch|  epoch 7\n",
      "INFO:QMCTorch|  energy   : -1.144413 +/- 0.007385\n",
      "INFO:QMCTorch|  variance : 0.233527\n",
      "INFO:QMCTorch|  epoch done in 0.14 sec.\n",
      "INFO:QMCTorch|\n",
      "INFO:QMCTorch|  epoch 8\n",
      "INFO:QMCTorch|  energy   : -1.162099 +/- 0.006648\n",
      "INFO:QMCTorch|  variance : 0.210223\n",
      "INFO:QMCTorch|  epoch done in 0.18 sec.\n",
      "INFO:QMCTorch|\n",
      "INFO:QMCTorch|  epoch 9\n",
      "INFO:QMCTorch|  energy   : -1.153347 +/- 0.007326\n",
      "INFO:QMCTorch|  variance : 0.231676\n",
      "INFO:QMCTorch|  epoch done in 0.15 sec.\n",
      "INFO:QMCTorch|\n",
      "INFO:QMCTorch|  epoch 10\n",
      "INFO:QMCTorch|  energy   : -1.158722 +/- 0.007122\n",
      "INFO:QMCTorch|  variance : 0.225216\n",
      "INFO:QMCTorch|  epoch done in 0.12 sec.\n",
      "INFO:QMCTorch|\n",
      "INFO:QMCTorch|  epoch 11\n",
      "INFO:QMCTorch|  energy   : -1.148212 +/- 0.006826\n",
      "INFO:QMCTorch|  variance : 0.215869\n",
      "INFO:QMCTorch|  epoch done in 0.15 sec.\n",
      "INFO:QMCTorch|\n",
      "INFO:QMCTorch|  epoch 12\n",
      "INFO:QMCTorch|  energy   : -1.154345 +/- 0.007011\n",
      "INFO:QMCTorch|  variance : 0.221708\n",
      "INFO:QMCTorch|  epoch done in 0.18 sec.\n",
      "INFO:QMCTorch|\n",
      "INFO:QMCTorch|  epoch 13\n",
      "INFO:QMCTorch|  energy   : -1.144927 +/- 0.007614\n",
      "INFO:QMCTorch|  variance : 0.240761\n",
      "INFO:QMCTorch|  epoch done in 0.13 sec.\n",
      "INFO:QMCTorch|\n",
      "INFO:QMCTorch|  epoch 14\n",
      "INFO:QMCTorch|  energy   : -1.156202 +/- 0.007119\n",
      "INFO:QMCTorch|  variance : 0.225137\n",
      "INFO:QMCTorch|  epoch done in 0.12 sec.\n",
      "INFO:QMCTorch|\n",
      "INFO:QMCTorch|  epoch 15\n",
      "INFO:QMCTorch|  energy   : -1.154943 +/- 0.007165\n",
      "INFO:QMCTorch|  variance : 0.226589\n",
      "INFO:QMCTorch|  epoch done in 0.12 sec.\n",
      "INFO:QMCTorch|\n",
      "INFO:QMCTorch|  epoch 16\n",
      "INFO:QMCTorch|  energy   : -1.142662 +/- 0.007185\n",
      "INFO:QMCTorch|  variance : 0.227211\n",
      "INFO:QMCTorch|  epoch done in 0.21 sec.\n",
      "INFO:QMCTorch|\n",
      "INFO:QMCTorch|  epoch 17\n",
      "INFO:QMCTorch|  energy   : -1.144555 +/- 0.007216\n",
      "INFO:QMCTorch|  variance : 0.228192\n",
      "INFO:QMCTorch|  epoch done in 0.16 sec.\n",
      "INFO:QMCTorch|\n",
      "INFO:QMCTorch|  epoch 18\n",
      "INFO:QMCTorch|  energy   : -1.154208 +/- 0.007334\n",
      "INFO:QMCTorch|  variance : 0.231908\n",
      "INFO:QMCTorch|  epoch done in 0.12 sec.\n",
      "INFO:QMCTorch|\n",
      "INFO:QMCTorch|  epoch 19\n",
      "INFO:QMCTorch|  energy   : -1.164954 +/- 0.006917\n",
      "INFO:QMCTorch|  variance : 0.218723\n",
      "INFO:QMCTorch|  epoch done in 0.13 sec.\n",
      "INFO:QMCTorch|\n",
      "INFO:QMCTorch|  epoch 20\n",
      "INFO:QMCTorch|  energy   : -1.153332 +/- 0.006844\n",
      "INFO:QMCTorch|  variance : 0.216433\n",
      "INFO:QMCTorch|  epoch done in 0.18 sec.\n",
      "INFO:QMCTorch|\n",
      "INFO:QMCTorch|  epoch 21\n",
      "INFO:QMCTorch|  energy   : -1.152534 +/- 0.007219\n",
      "INFO:QMCTorch|  variance : 0.228299\n",
      "INFO:QMCTorch|  epoch done in 0.14 sec.\n",
      "INFO:QMCTorch|\n",
      "INFO:QMCTorch|  epoch 22\n",
      "INFO:QMCTorch|  energy   : -1.166929 +/- 0.006679\n",
      "INFO:QMCTorch|  variance : 0.211206\n",
      "INFO:QMCTorch|  epoch done in 0.11 sec.\n",
      "INFO:QMCTorch|\n",
      "INFO:QMCTorch|  epoch 23\n",
      "INFO:QMCTorch|  energy   : -1.148488 +/- 0.007180\n",
      "INFO:QMCTorch|  variance : 0.227040\n",
      "INFO:QMCTorch|  epoch done in 0.12 sec.\n",
      "INFO:QMCTorch|\n",
      "INFO:QMCTorch|  epoch 24\n",
      "INFO:QMCTorch|  energy   : -1.156524 +/- 0.006615\n",
      "INFO:QMCTorch|  variance : 0.209170\n",
      "INFO:QMCTorch|  epoch done in 0.13 sec.\n",
      "INFO:QMCTorch|\n",
      "INFO:QMCTorch|  epoch 25\n",
      "INFO:QMCTorch|  energy   : -1.141769 +/- 0.007182\n",
      "INFO:QMCTorch|  variance : 0.227104\n",
      "INFO:QMCTorch|  epoch done in 0.15 sec.\n",
      "INFO:QMCTorch|\n",
      "INFO:QMCTorch|  epoch 26\n",
      "INFO:QMCTorch|  energy   : -1.151539 +/- 0.006909\n",
      "INFO:QMCTorch|  variance : 0.218470\n",
      "INFO:QMCTorch|  epoch done in 0.15 sec.\n",
      "INFO:QMCTorch|\n",
      "INFO:QMCTorch|  epoch 27\n",
      "INFO:QMCTorch|  energy   : -1.154012 +/- 0.007186\n",
      "INFO:QMCTorch|  variance : 0.227251\n",
      "INFO:QMCTorch|  epoch done in 0.12 sec.\n",
      "INFO:QMCTorch|\n",
      "INFO:QMCTorch|  epoch 28\n",
      "INFO:QMCTorch|  energy   : -1.147551 +/- 0.007175\n",
      "INFO:QMCTorch|  variance : 0.226904\n",
      "INFO:QMCTorch|  epoch done in 0.13 sec.\n",
      "INFO:QMCTorch|\n",
      "INFO:QMCTorch|  epoch 29\n",
      "INFO:QMCTorch|  energy   : -1.149138 +/- 0.007194\n",
      "INFO:QMCTorch|  variance : 0.227484\n",
      "INFO:QMCTorch|  epoch done in 0.14 sec.\n",
      "INFO:QMCTorch|\n",
      "INFO:QMCTorch|  epoch 30\n",
      "INFO:QMCTorch|  energy   : -1.165577 +/- 0.006599\n",
      "INFO:QMCTorch|  variance : 0.208693\n",
      "INFO:QMCTorch|  epoch done in 0.14 sec.\n",
      "INFO:QMCTorch|\n",
      "INFO:QMCTorch|  epoch 31\n",
      "INFO:QMCTorch|  energy   : -1.158133 +/- 0.007037\n",
      "INFO:QMCTorch|  variance : 0.222535\n",
      "INFO:QMCTorch|  epoch done in 0.12 sec.\n",
      "INFO:QMCTorch|\n",
      "INFO:QMCTorch|  epoch 32\n",
      "INFO:QMCTorch|  energy   : -1.147951 +/- 0.007007\n",
      "INFO:QMCTorch|  variance : 0.221592\n",
      "INFO:QMCTorch|  epoch done in 0.15 sec.\n",
      "INFO:QMCTorch|\n",
      "INFO:QMCTorch|  epoch 33\n",
      "INFO:QMCTorch|  energy   : -1.150656 +/- 0.006560\n",
      "INFO:QMCTorch|  variance : 0.207431\n",
      "INFO:QMCTorch|  epoch done in 0.11 sec.\n",
      "INFO:QMCTorch|\n",
      "INFO:QMCTorch|  epoch 34\n",
      "INFO:QMCTorch|  energy   : -1.163865 +/- 0.006346\n",
      "INFO:QMCTorch|  variance : 0.200667\n",
      "INFO:QMCTorch|  epoch done in 0.12 sec.\n",
      "INFO:QMCTorch|\n",
      "INFO:QMCTorch|  epoch 35\n",
      "INFO:QMCTorch|  energy   : -1.156680 +/- 0.006807\n",
      "INFO:QMCTorch|  variance : 0.215264\n",
      "INFO:QMCTorch|  epoch done in 0.11 sec.\n",
      "INFO:QMCTorch|\n",
      "INFO:QMCTorch|  epoch 36\n",
      "INFO:QMCTorch|  energy   : -1.157133 +/- 0.006735\n",
      "INFO:QMCTorch|  variance : 0.212986\n",
      "INFO:QMCTorch|  epoch done in 0.12 sec.\n",
      "INFO:QMCTorch|\n",
      "INFO:QMCTorch|  epoch 37\n",
      "INFO:QMCTorch|  energy   : -1.161428 +/- 0.006731\n",
      "INFO:QMCTorch|  variance : 0.212867\n",
      "INFO:QMCTorch|  epoch done in 0.15 sec.\n",
      "INFO:QMCTorch|\n",
      "INFO:QMCTorch|  epoch 38\n",
      "INFO:QMCTorch|  energy   : -1.164430 +/- 0.006444\n",
      "INFO:QMCTorch|  variance : 0.203773\n",
      "INFO:QMCTorch|  epoch done in 0.14 sec.\n",
      "INFO:QMCTorch|\n",
      "INFO:QMCTorch|  epoch 39\n",
      "INFO:QMCTorch|  energy   : -1.174171 +/- 0.006647\n",
      "INFO:QMCTorch|  variance : 0.210203\n",
      "INFO:QMCTorch|  epoch done in 0.12 sec.\n",
      "INFO:QMCTorch|\n",
      "INFO:QMCTorch|  epoch 40\n",
      "INFO:QMCTorch|  energy   : -1.161669 +/- 0.006862\n",
      "INFO:QMCTorch|  variance : 0.216983\n",
      "INFO:QMCTorch|  epoch done in 0.12 sec.\n",
      "INFO:QMCTorch|\n",
      "INFO:QMCTorch|  epoch 41\n",
      "INFO:QMCTorch|  energy   : -1.162690 +/- 0.006510\n",
      "INFO:QMCTorch|  variance : 0.205850\n",
      "INFO:QMCTorch|  epoch done in 0.11 sec.\n",
      "INFO:QMCTorch|\n",
      "INFO:QMCTorch|  epoch 42\n",
      "INFO:QMCTorch|  energy   : -1.158848 +/- 0.006526\n",
      "INFO:QMCTorch|  variance : 0.206384\n",
      "INFO:QMCTorch|  epoch done in 0.13 sec.\n",
      "INFO:QMCTorch|\n",
      "INFO:QMCTorch|  epoch 43\n",
      "INFO:QMCTorch|  energy   : -1.160653 +/- 0.006919\n",
      "INFO:QMCTorch|  variance : 0.218785\n",
      "INFO:QMCTorch|  epoch done in 0.12 sec.\n",
      "INFO:QMCTorch|\n",
      "INFO:QMCTorch|  epoch 44\n",
      "INFO:QMCTorch|  energy   : -1.150943 +/- 0.007284\n",
      "INFO:QMCTorch|  variance : 0.230330\n",
      "INFO:QMCTorch|  epoch done in 0.12 sec.\n",
      "INFO:QMCTorch|\n",
      "INFO:QMCTorch|  epoch 45\n",
      "INFO:QMCTorch|  energy   : -1.158404 +/- 0.006791\n",
      "INFO:QMCTorch|  variance : 0.214758\n",
      "INFO:QMCTorch|  epoch done in 0.15 sec.\n",
      "INFO:QMCTorch|\n",
      "INFO:QMCTorch|  epoch 46\n",
      "INFO:QMCTorch|  energy   : -1.150479 +/- 0.007048\n",
      "INFO:QMCTorch|  variance : 0.222864\n",
      "INFO:QMCTorch|  epoch done in 0.16 sec.\n",
      "INFO:QMCTorch|\n",
      "INFO:QMCTorch|  epoch 47\n",
      "INFO:QMCTorch|  energy   : -1.167488 +/- 0.006471\n",
      "INFO:QMCTorch|  variance : 0.204621\n",
      "INFO:QMCTorch|  epoch done in 0.12 sec.\n",
      "INFO:QMCTorch|\n",
      "INFO:QMCTorch|  epoch 48\n",
      "INFO:QMCTorch|  energy   : -1.157469 +/- 0.007060\n",
      "INFO:QMCTorch|  variance : 0.223267\n",
      "INFO:QMCTorch|  epoch done in 0.12 sec.\n",
      "INFO:QMCTorch|\n",
      "INFO:QMCTorch|  epoch 49\n",
      "INFO:QMCTorch|  energy   : -1.140606 +/- 0.007609\n",
      "INFO:QMCTorch|  variance : 0.240619\n",
      "INFO:QMCTorch|  epoch done in 0.17 sec.\n",
      "INFO:QMCTorch|\n",
      "INFO:QMCTorch|  epoch 50\n",
      "INFO:QMCTorch|  energy   : -1.156710 +/- 0.006625\n",
      "INFO:QMCTorch|  variance : 0.209498\n",
      "INFO:QMCTorch|  epoch done in 0.15 sec.\n",
      "INFO:QMCTorch|\n",
      "INFO:QMCTorch|  epoch 51\n",
      "INFO:QMCTorch|  energy   : -1.160559 +/- 0.006899\n",
      "INFO:QMCTorch|  variance : 0.218159\n",
      "INFO:QMCTorch|  epoch done in 0.13 sec.\n",
      "INFO:QMCTorch|\n",
      "INFO:QMCTorch|  epoch 52\n",
      "INFO:QMCTorch|  energy   : -1.146387 +/- 0.007495\n",
      "INFO:QMCTorch|  variance : 0.237026\n",
      "INFO:QMCTorch|  epoch done in 0.11 sec.\n",
      "INFO:QMCTorch|\n",
      "INFO:QMCTorch|  epoch 53\n",
      "INFO:QMCTorch|  energy   : -1.165010 +/- 0.006535\n",
      "INFO:QMCTorch|  variance : 0.206650\n",
      "INFO:QMCTorch|  epoch done in 3.87 sec.\n",
      "INFO:QMCTorch|\n",
      "INFO:QMCTorch|  epoch 54\n",
      "INFO:QMCTorch|  energy   : -1.152066 +/- 0.006841\n",
      "INFO:QMCTorch|  variance : 0.216326\n",
      "INFO:QMCTorch|  epoch done in 0.12 sec.\n",
      "INFO:QMCTorch|\n",
      "INFO:QMCTorch|  epoch 55\n",
      "INFO:QMCTorch|  energy   : -1.148942 +/- 0.006871\n",
      "INFO:QMCTorch|  variance : 0.217277\n",
      "INFO:QMCTorch|  epoch done in 0.12 sec.\n",
      "INFO:QMCTorch|\n",
      "INFO:QMCTorch|  epoch 56\n",
      "INFO:QMCTorch|  energy   : -1.154055 +/- 0.006801\n",
      "INFO:QMCTorch|  variance : 0.215062\n",
      "INFO:QMCTorch|  epoch done in 0.13 sec.\n",
      "INFO:QMCTorch|\n",
      "INFO:QMCTorch|  epoch 57\n",
      "INFO:QMCTorch|  energy   : -1.156124 +/- 0.007214\n",
      "INFO:QMCTorch|  variance : 0.228125\n",
      "INFO:QMCTorch|  epoch done in 0.11 sec.\n",
      "INFO:QMCTorch|\n",
      "INFO:QMCTorch|  epoch 58\n",
      "INFO:QMCTorch|  energy   : -1.156564 +/- 0.007183\n",
      "INFO:QMCTorch|  variance : 0.227138\n",
      "INFO:QMCTorch|  epoch done in 0.12 sec.\n",
      "INFO:QMCTorch|\n",
      "INFO:QMCTorch|  epoch 59\n",
      "INFO:QMCTorch|  energy   : -1.157593 +/- 0.006677\n",
      "INFO:QMCTorch|  variance : 0.211154\n",
      "INFO:QMCTorch|  epoch done in 0.12 sec.\n",
      "INFO:QMCTorch|\n",
      "INFO:QMCTorch|  epoch 60\n",
      "INFO:QMCTorch|  energy   : -1.162501 +/- 0.006638\n",
      "INFO:QMCTorch|  variance : 0.209906\n",
      "INFO:QMCTorch|  epoch done in 0.11 sec.\n",
      "INFO:QMCTorch|\n",
      "INFO:QMCTorch|  epoch 61\n",
      "INFO:QMCTorch|  energy   : -1.155790 +/- 0.006503\n",
      "INFO:QMCTorch|  variance : 0.205650\n",
      "INFO:QMCTorch|  epoch done in 0.12 sec.\n",
      "INFO:QMCTorch|\n",
      "INFO:QMCTorch|  epoch 62\n",
      "INFO:QMCTorch|  energy   : -1.158895 +/- 0.006958\n",
      "INFO:QMCTorch|  variance : 0.220046\n",
      "INFO:QMCTorch|  epoch done in 0.12 sec.\n",
      "INFO:QMCTorch|\n",
      "INFO:QMCTorch|  epoch 63\n",
      "INFO:QMCTorch|  energy   : -1.151182 +/- 0.007023\n",
      "INFO:QMCTorch|  variance : 0.222099\n",
      "INFO:QMCTorch|  epoch done in 0.44 sec.\n",
      "INFO:QMCTorch|\n",
      "INFO:QMCTorch|  epoch 64\n",
      "INFO:QMCTorch|  energy   : -1.164533 +/- 0.006482\n",
      "INFO:QMCTorch|  variance : 0.204993\n",
      "INFO:QMCTorch|  epoch done in 7.25 sec.\n",
      "INFO:QMCTorch|\n",
      "INFO:QMCTorch|  epoch 65\n",
      "INFO:QMCTorch|  energy   : -1.154780 +/- 0.007259\n",
      "INFO:QMCTorch|  variance : 0.229550\n"
     ]
    },
    {
     "ename": "KeyboardInterrupt",
     "evalue": "",
     "output_type": "error",
     "traceback": [
      "\u001b[0;31m---------------------------------------------------------------------------\u001b[0m",
      "\u001b[0;31mKeyboardInterrupt\u001b[0m                         Traceback (most recent call last)",
      "Cell \u001b[0;32mIn[16], line 1\u001b[0m\n\u001b[0;32m----> 1\u001b[0m data \u001b[39m=\u001b[39m solver\u001b[39m.\u001b[39;49mrun(\u001b[39m250\u001b[39;49m)\n",
      "File \u001b[0;32m~/QMCTorch/qmctorch/solver/solver_slater_jastrow.py:253\u001b[0m, in \u001b[0;36mSolverSlaterJastrow.run\u001b[0;34m(self, nepoch, batchsize, hdf5_group, chkpt_every, tqdm)\u001b[0m\n\u001b[1;32m    250\u001b[0m \u001b[39mself\u001b[39m\u001b[39m.\u001b[39mlog_data_opt(nepoch, \u001b[39m'\u001b[39m\u001b[39mwave function optimization\u001b[39m\u001b[39m'\u001b[39m)\n\u001b[1;32m    252\u001b[0m \u001b[39m# run the epochs\u001b[39;00m\n\u001b[0;32m--> 253\u001b[0m \u001b[39mself\u001b[39;49m\u001b[39m.\u001b[39;49mrun_epochs(nepoch)\n\u001b[1;32m    255\u001b[0m \u001b[39m# restore the sampler number of step\u001b[39;00m\n\u001b[1;32m    256\u001b[0m \u001b[39mself\u001b[39m\u001b[39m.\u001b[39mrestore_sampling_parameters()\n",
      "File \u001b[0;32m~/QMCTorch/qmctorch/solver/solver_slater_jastrow.py:360\u001b[0m, in \u001b[0;36mSolverSlaterJastrow.run_epochs\u001b[0;34m(self, nepoch)\u001b[0m\n\u001b[1;32m    357\u001b[0m \u001b[39mself\u001b[39m\u001b[39m.\u001b[39mprint_observable(cumulative_loss, verbose\u001b[39m=\u001b[39m\u001b[39mFalse\u001b[39;00m)\n\u001b[1;32m    359\u001b[0m \u001b[39m# resample the data\u001b[39;00m\n\u001b[0;32m--> 360\u001b[0m \u001b[39mself\u001b[39m\u001b[39m.\u001b[39mdataset\u001b[39m.\u001b[39mdata \u001b[39m=\u001b[39m \u001b[39mself\u001b[39;49m\u001b[39m.\u001b[39;49mresample(n, \u001b[39mself\u001b[39;49m\u001b[39m.\u001b[39;49mdataset\u001b[39m.\u001b[39;49mdata)\n\u001b[1;32m    362\u001b[0m \u001b[39m# scheduler step\u001b[39;00m\n\u001b[1;32m    363\u001b[0m \u001b[39mif\u001b[39;00m \u001b[39mself\u001b[39m\u001b[39m.\u001b[39mscheduler \u001b[39mis\u001b[39;00m \u001b[39mnot\u001b[39;00m \u001b[39mNone\u001b[39;00m:\n",
      "File \u001b[0;32m~/QMCTorch/qmctorch/solver/solver_base.py:263\u001b[0m, in \u001b[0;36mSolverBase.resample\u001b[0;34m(self, n, pos)\u001b[0m\n\u001b[1;32m    260\u001b[0m         pos \u001b[39m=\u001b[39m \u001b[39mNone\u001b[39;00m\n\u001b[1;32m    262\u001b[0m     \u001b[39m# sample and update the dataset\u001b[39;00m\n\u001b[0;32m--> 263\u001b[0m     pos \u001b[39m=\u001b[39m \u001b[39mself\u001b[39;49m\u001b[39m.\u001b[39;49msampler(\n\u001b[1;32m    264\u001b[0m         \u001b[39mself\u001b[39;49m\u001b[39m.\u001b[39;49mwf\u001b[39m.\u001b[39;49mpdf, pos\u001b[39m=\u001b[39;49mpos, with_tqdm\u001b[39m=\u001b[39;49m\u001b[39mFalse\u001b[39;49;00m)\n\u001b[1;32m    265\u001b[0m     \u001b[39mself\u001b[39m\u001b[39m.\u001b[39mdataloader\u001b[39m.\u001b[39mdataset\u001b[39m.\u001b[39mdata \u001b[39m=\u001b[39m pos\n\u001b[1;32m    267\u001b[0m \u001b[39m# update the weight of the loss if needed\u001b[39;00m\n",
      "File \u001b[0;32m~/QMCTorch/qmctorch/sampler/metropolis.py:113\u001b[0m, in \u001b[0;36mMetropolis.__call__\u001b[0;34m(self, pdf, pos, with_tqdm)\u001b[0m\n\u001b[1;32m    110\u001b[0m Xn \u001b[39m=\u001b[39m \u001b[39mself\u001b[39m\u001b[39m.\u001b[39mmove(pdf, id_elec)\n\u001b[1;32m    112\u001b[0m \u001b[39m# new function\u001b[39;00m\n\u001b[0;32m--> 113\u001b[0m fxn \u001b[39m=\u001b[39m pdf(Xn)\n\u001b[1;32m    114\u001b[0m fxn[fxn \u001b[39m==\u001b[39m \u001b[39m0.\u001b[39m] \u001b[39m=\u001b[39m eps\n\u001b[1;32m    115\u001b[0m df \u001b[39m=\u001b[39m fxn \u001b[39m/\u001b[39m fx\n",
      "File \u001b[0;32m~/QMCTorch/qmctorch/wavefunction/wf_base.py:226\u001b[0m, in \u001b[0;36mWaveFunction.pdf\u001b[0;34m(self, pos, return_grad)\u001b[0m\n\u001b[1;32m    224\u001b[0m     \u001b[39mreturn\u001b[39;00m \u001b[39mself\u001b[39m\u001b[39m.\u001b[39mgradients(pos, pdf\u001b[39m=\u001b[39m\u001b[39mTrue\u001b[39;00m)\n\u001b[1;32m    225\u001b[0m \u001b[39melse\u001b[39;00m:\n\u001b[0;32m--> 226\u001b[0m     \u001b[39mreturn\u001b[39;00m (\u001b[39mself\u001b[39;49m\u001b[39m.\u001b[39;49mforward(pos)\u001b[39m*\u001b[39m\u001b[39m*\u001b[39m\u001b[39m2\u001b[39m)\u001b[39m.\u001b[39mreshape(\u001b[39m-\u001b[39m\u001b[39m1\u001b[39m)\n",
      "File \u001b[0;32m~/QMCTorch/qmctorch/wavefunction/slater_jastrow.py:84\u001b[0m, in \u001b[0;36mSlaterJastrow.forward\u001b[0;34m(self, x, ao)\u001b[0m\n\u001b[1;32m     81\u001b[0m x \u001b[39m=\u001b[39m \u001b[39mself\u001b[39m\u001b[39m.\u001b[39mmo_scf(x)\n\u001b[1;32m     83\u001b[0m \u001b[39m# mix the mos\u001b[39;00m\n\u001b[0;32m---> 84\u001b[0m x \u001b[39m=\u001b[39m \u001b[39mself\u001b[39;49m\u001b[39m.\u001b[39;49mmo(x)\n\u001b[1;32m     86\u001b[0m \u001b[39m# pool the mos\u001b[39;00m\n\u001b[1;32m     87\u001b[0m x \u001b[39m=\u001b[39m \u001b[39mself\u001b[39m\u001b[39m.\u001b[39mpool(x)\n",
      "File \u001b[0;32m~/miniconda3/envs/qmctorch/lib/python3.8/site-packages/torch/nn/modules/module.py:1501\u001b[0m, in \u001b[0;36mModule._call_impl\u001b[0;34m(self, *args, **kwargs)\u001b[0m\n\u001b[1;32m   1496\u001b[0m \u001b[39m# If we don't have any hooks, we want to skip the rest of the logic in\u001b[39;00m\n\u001b[1;32m   1497\u001b[0m \u001b[39m# this function, and just call forward.\u001b[39;00m\n\u001b[1;32m   1498\u001b[0m \u001b[39mif\u001b[39;00m \u001b[39mnot\u001b[39;00m (\u001b[39mself\u001b[39m\u001b[39m.\u001b[39m_backward_hooks \u001b[39mor\u001b[39;00m \u001b[39mself\u001b[39m\u001b[39m.\u001b[39m_backward_pre_hooks \u001b[39mor\u001b[39;00m \u001b[39mself\u001b[39m\u001b[39m.\u001b[39m_forward_hooks \u001b[39mor\u001b[39;00m \u001b[39mself\u001b[39m\u001b[39m.\u001b[39m_forward_pre_hooks\n\u001b[1;32m   1499\u001b[0m         \u001b[39mor\u001b[39;00m _global_backward_pre_hooks \u001b[39mor\u001b[39;00m _global_backward_hooks\n\u001b[1;32m   1500\u001b[0m         \u001b[39mor\u001b[39;00m _global_forward_hooks \u001b[39mor\u001b[39;00m _global_forward_pre_hooks):\n\u001b[0;32m-> 1501\u001b[0m     \u001b[39mreturn\u001b[39;00m forward_call(\u001b[39m*\u001b[39;49margs, \u001b[39m*\u001b[39;49m\u001b[39m*\u001b[39;49mkwargs)\n\u001b[1;32m   1502\u001b[0m \u001b[39m# Do not call functions when jit is used\u001b[39;00m\n\u001b[1;32m   1503\u001b[0m full_backward_hooks, non_full_backward_hooks \u001b[39m=\u001b[39m [], []\n",
      "File \u001b[0;32m~/miniconda3/envs/qmctorch/lib/python3.8/site-packages/torch/nn/modules/linear.py:114\u001b[0m, in \u001b[0;36mLinear.forward\u001b[0;34m(self, input)\u001b[0m\n\u001b[1;32m    113\u001b[0m \u001b[39mdef\u001b[39;00m \u001b[39mforward\u001b[39m(\u001b[39mself\u001b[39m, \u001b[39minput\u001b[39m: Tensor) \u001b[39m-\u001b[39m\u001b[39m>\u001b[39m Tensor:\n\u001b[0;32m--> 114\u001b[0m     \u001b[39mreturn\u001b[39;00m F\u001b[39m.\u001b[39;49mlinear(\u001b[39minput\u001b[39;49m, \u001b[39mself\u001b[39;49m\u001b[39m.\u001b[39;49mweight, \u001b[39mself\u001b[39;49m\u001b[39m.\u001b[39;49mbias)\n",
      "\u001b[0;31mKeyboardInterrupt\u001b[0m: "
     ]
    }
   ],
   "source": [
    "solver.run(50)"
   ]
  },
  {
   "cell_type": "code",
   "execution_count": null,
   "metadata": {},
   "outputs": [],
   "source": []
  }
 ],
 "metadata": {
  "kernelspec": {
   "display_name": "qmctorch",
   "language": "python",
   "name": "python3"
  },
  "language_info": {
   "codemirror_mode": {
    "name": "ipython",
    "version": 3
   },
   "file_extension": ".py",
   "mimetype": "text/x-python",
   "name": "python",
   "nbconvert_exporter": "python",
   "pygments_lexer": "ipython3",
   "version": "3.8.0"
  },
  "orig_nbformat": 4
 },
 "nbformat": 4,
 "nbformat_minor": 2
}
