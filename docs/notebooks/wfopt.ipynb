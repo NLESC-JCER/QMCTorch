{
 "cells": [
  {
   "cell_type": "markdown",
   "metadata": {},
   "source": [
    "# Wave Function Optimization\n",
    "\n",
    "We present here a complete example on how to use QMCTorch on a H2 molecule.\n",
    "We first need to import all the relevant modules :"
   ]
  },
  {
   "cell_type": "code",
   "execution_count": null,
   "metadata": {},
   "outputs": [],
   "source": [
    "from torch import optim\n",
    "from qmctorch.scf import Molecule\n",
    "from qmctorch.wavefunction import SlaterJastrow\n",
    "from qmctorch.solver import Solver\n",
    "from qmctorch.sampler import Metropolis\n",
    "from qmctorch.utils import set_torch_double_precision\n",
    "from qmctorch.utils.plot_data import plot_energy\n",
    "set_torch_double_precision()"
   ]
  },
  {
   "cell_type": "markdown",
   "metadata": {},
   "source": [
    "## Creating the system\n",
    "\n",
    "The first step is to define a molecule. We here use a H2 molecule with both hydrgen atoms\n",
    "on the z-axis and separated by 1.38 atomic unit. We choose here to use Slater orbitals that can be otained via `ADF`. We simply here reload calculations to create the molecule"
   ]
  },
  {
   "cell_type": "code",
   "execution_count": null,
   "metadata": {},
   "outputs": [],
   "source": [
    "mol = Molecule(load='./hdf5/H2_adf_dzp.hdf5')"
   ]
  },
  {
   "cell_type": "markdown",
   "metadata": {},
   "source": [
    "We then define the wave function relative to this molecule. We also specify here\n",
    "the determinants we want to use in the CI expansion. We use here a to include all the single\n",
    "and double excitation with 2 electrons and 2 orbitals"
   ]
  },
  {
   "cell_type": "code",
   "execution_count": null,
   "metadata": {},
   "outputs": [],
   "source": [
    "wf = SlaterJastrow(mol, configs='single_double(2,2)')"
   ]
  },
  {
   "cell_type": "markdown",
   "metadata": {},
   "source": [
    "As a sampler we use a simple Metropolis Hasting with 1000 walkers. The walkers are initially localized around the atoms.\n",
    "Each walker will perform 2000 steps of size 0.2 atomic unit and will only keep the last position of each walker (`ntherm=-1`).\n",
    "During each move all the the electrons are moved simultaneously within a normal distribution centered around their current location."
   ]
  },
  {
   "cell_type": "code",
   "execution_count": null,
   "metadata": {},
   "outputs": [],
   "source": [
    "sampler = Metropolis(nwalkers=5000,\n",
    "                     nstep=200, step_size=0.2,\n",
    "                     ntherm=-1, ndecor=100,\n",
    "                     nelec=wf.nelec, init=mol.domain('atomic'),\n",
    "                     move={'type': 'all-elec', 'proba': 'normal'})"
   ]
  },
  {
   "cell_type": "markdown",
   "metadata": {},
   "source": [
    "We will use the ADAM optimizer implemented in pytorch with custom learning rate for each layer.\n",
    "We also define a linear scheduler that will decrease the learning rate after 100 steps"
   ]
  },
  {
   "cell_type": "code",
   "execution_count": null,
   "metadata": {},
   "outputs": [],
   "source": [
    "lr_dict = [{'params': wf.jastrow.parameters(), 'lr': 1E-2},\n",
    "           {'params': wf.ao.parameters(), 'lr': 1E-6},\n",
    "           {'params': wf.mo.parameters(), 'lr': 2E-3},\n",
    "           {'params': wf.fc.parameters(), 'lr': 2E-3}]\n",
    "opt = optim.Adam(lr_dict, lr=1E-3)\n"
   ]
  },
  {
   "cell_type": "markdown",
   "metadata": {},
   "source": [
    "A scheduler can also be used to progressively decrease the value of the learning rate during the optimization."
   ]
  },
  {
   "cell_type": "code",
   "execution_count": null,
   "metadata": {},
   "outputs": [],
   "source": [
    "scheduler = optim.lr_scheduler.StepLR(opt, step_size=100, gamma=0.90)"
   ]
  },
  {
   "cell_type": "markdown",
   "metadata": {},
   "source": [
    "We can now assemble the solver"
   ]
  },
  {
   "cell_type": "code",
   "execution_count": null,
   "metadata": {},
   "outputs": [],
   "source": [
    "solver = Solver(wf=wf, sampler=sampler, optimizer=opt, scheduler=None)"
   ]
  },
  {
   "cell_type": "markdown",
   "metadata": {},
   "source": [
    "## Comfiguring the solver\n",
    "\n",
    "Many parameters of the optimization can be controlled. We can specify which observale to track during the optimization. Here only the local energies will be recorded but one can also record the variational parameters"
   ]
  },
  {
   "cell_type": "code",
   "execution_count": null,
   "metadata": {},
   "outputs": [],
   "source": [
    "solver.configure(track=['local_energy', 'parameters'])"
   ]
  },
  {
   "cell_type": "markdown",
   "metadata": {},
   "source": [
    "Some variational parameters can be frozen and therefore not optimized. We here freeze the MO coefficients and the AO parameters\n",
    "and therefore only the jastrow parametres and the CI coefficients will be optmized"
   ]
  },
  {
   "cell_type": "code",
   "execution_count": null,
   "metadata": {},
   "outputs": [],
   "source": [
    "solver.configure(freeze=['ao'])"
   ]
  },
  {
   "cell_type": "markdown",
   "metadata": {},
   "source": [
    "Either the mean or the variance of local energies can be used as a loss function. We choose here to minimize the energy to optimize the wave function"
   ]
  },
  {
   "cell_type": "code",
   "execution_count": null,
   "metadata": {},
   "outputs": [],
   "source": [
    "solver.configure(loss='energy')"
   ]
  },
  {
   "cell_type": "markdown",
   "metadata": {},
   "source": [
    "The gradients of the wave function w.r.t. the variational parameters can be computed directly via automatic differntiation (`grad='auto'`)or manually (`grad='auto'`) via a reduced noise formula. We pick here a manual calculation"
   ]
  },
  {
   "cell_type": "code",
   "execution_count": null,
   "metadata": {},
   "outputs": [],
   "source": [
    "solver.configure(grad='manual')"
   ]
  },
  {
   "cell_type": "markdown",
   "metadata": {},
   "source": [
    "We also configure the resampling so that the positions of the walkers are updated by performing\n",
    "25 MC steps from their previous positions after each optimization step."
   ]
  },
  {
   "cell_type": "code",
   "execution_count": null,
   "metadata": {},
   "outputs": [],
   "source": [
    "solver.configure(resampling={'mode': 'update',\n",
    "                            'resample_every': 1,\n",
    "                            'nstep_update': 25})"
   ]
  },
  {
   "cell_type": "markdown",
   "metadata": {},
   "source": [
    "## Running the wave function optimization\n",
    "\n",
    "We can now run the optimization. We use here 50 optimization steps (epoch), using all the points\n",
    "in a single mini-batch."
   ]
  },
  {
   "cell_type": "code",
   "execution_count": null,
   "metadata": {},
   "outputs": [],
   "source": [
    "obs = solver.run(50)"
   ]
  },
  {
   "cell_type": "code",
   "execution_count": null,
   "metadata": {},
   "outputs": [],
   "source": [
    "plot_energy(obs.local_energy, e0=-1.1645, show_variance=True)"
   ]
  }
 ],
 "metadata": {
  "kernelspec": {
   "display_name": "Python 3 (ipykernel)",
   "language": "python",
   "name": "python3"
  },
  "language_info": {
   "codemirror_mode": {
    "name": "ipython",
    "version": 3
   },
   "file_extension": ".py",
   "mimetype": "text/x-python",
   "name": "python",
   "nbconvert_exporter": "python",
   "pygments_lexer": "ipython3",
   "version": "3.8.0"
  }
 },
 "nbformat": 4,
 "nbformat_minor": 2
}
