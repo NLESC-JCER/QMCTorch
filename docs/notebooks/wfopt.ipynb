{
 "cells": [
  {
   "cell_type": "markdown",
   "metadata": {},
   "source": [
    "# Wave Function Optimization\n",
    "\n",
    "We present here a complete example on how to use QMCTorch on a H2 molecule.\n",
    "We first need to import all the relevant modules :"
   ]
  },
  {
   "cell_type": "code",
   "execution_count": 1,
   "metadata": {},
   "outputs": [
    {
     "name": "stdout",
     "output_type": "stream",
     "text": [
      "INFO:QMCTorch|  ____    __  ______________             _\n",
      "INFO:QMCTorch| / __ \\  /  |/  / ___/_  __/__  ________/ /  \n",
      "INFO:QMCTorch|/ /_/ / / /|_/ / /__  / / / _ \\/ __/ __/ _ \\ \n",
      "INFO:QMCTorch|\\___\\_\\/_/  /_/\\___/ /_/  \\___/_/  \\__/_//_/ \n"
     ]
    }
   ],
   "source": [
    "from torch import optim\n",
    "from qmctorch.scf import Molecule\n",
    "from qmctorch.wavefunction import SlaterJastrow\n",
    "from qmctorch.solver import Solver\n",
    "from qmctorch.sampler import Metropolis\n",
    "from qmctorch.utils import set_torch_double_precision\n",
    "from qmctorch.utils.plot_data import plot_energy\n",
    "set_torch_double_precision()"
   ]
  },
  {
   "cell_type": "markdown",
   "metadata": {},
   "source": [
    "## Creating the system\n",
    "\n",
    "The first step is to define a molecule. We here use a H2 molecule with both hydrgen atoms\n",
    "on the z-axis and separated by 1.38 atomic unit. We choose here to use Slater orbitals that can be otained via `ADF`. We simply here reload calculations to create the molecule"
   ]
  },
  {
   "cell_type": "code",
   "execution_count": 2,
   "metadata": {},
   "outputs": [
    {
     "name": "stdout",
     "output_type": "stream",
     "text": [
      "INFO:QMCTorch|\n",
      "INFO:QMCTorch| SCF Calculation\n",
      "INFO:QMCTorch|  Loading data from ./hdf5/H2_adf_dzp.hdf5\n"
     ]
    }
   ],
   "source": [
    "mol = Molecule(load='./hdf5/H2_adf_dzp.hdf5')"
   ]
  },
  {
   "cell_type": "markdown",
   "metadata": {},
   "source": [
    "We then define the wave function relative to this molecule. We also specify here\n",
    "the determinants we want to use in the CI expansion. We use here a to include all the single\n",
    "and double excitation with 2 electrons and 2 orbitals"
   ]
  },
  {
   "cell_type": "code",
   "execution_count": 3,
   "metadata": {},
   "outputs": [
    {
     "name": "stdout",
     "output_type": "stream",
     "text": [
      "INFO:QMCTorch|\n",
      "INFO:QMCTorch| Wave Function\n",
      "INFO:QMCTorch|  Jastrow factor      : True\n",
      "INFO:QMCTorch|  Jastrow kernel      : ee -> PadeJastrowKernel\n",
      "INFO:QMCTorch|  Highest MO included : 10\n",
      "INFO:QMCTorch|  Configurations      : single_double(2,2)\n",
      "INFO:QMCTorch|  Number of confs     : 4\n",
      "INFO:QMCTorch|  Kinetic energy      : jacobi\n",
      "INFO:QMCTorch|  Number var  param   : 121\n",
      "INFO:QMCTorch|  Cuda support        : False\n"
     ]
    }
   ],
   "source": [
    "wf = SlaterJastrow(mol, configs='single_double(2,2)')"
   ]
  },
  {
   "cell_type": "markdown",
   "metadata": {},
   "source": [
    "As a sampler we use a simple Metropolis Hasting with 1000 walkers. The walkers are initially localized around the atoms.\n",
    "Each walker will perform 2000 steps of size 0.2 atomic unit and will only keep the last position of each walker (`ntherm=-1`).\n",
    "During each move all the the electrons are moved simultaneously within a normal distribution centered around their current location."
   ]
  },
  {
   "cell_type": "code",
   "execution_count": 5,
   "metadata": {},
   "outputs": [
    {
     "name": "stdout",
     "output_type": "stream",
     "text": [
      "INFO:QMCTorch|\n",
      "INFO:QMCTorch| Monte-Carlo Sampler\n",
      "INFO:QMCTorch|  Number of walkers   : 5000\n",
      "INFO:QMCTorch|  Number of steps     : 200\n",
      "INFO:QMCTorch|  Step size           : 0.2\n",
      "INFO:QMCTorch|  Thermalization steps: -1\n",
      "INFO:QMCTorch|  Decorelation steps  : 100\n",
      "INFO:QMCTorch|  Walkers init pos    : atomic\n",
      "INFO:QMCTorch|  Move type           : all-elec\n",
      "INFO:QMCTorch|  Move proba          : normal\n"
     ]
    }
   ],
   "source": [
    "sampler = Metropolis(nwalkers=5000,\n",
    "                     nstep=200, step_size=0.2,\n",
    "                     ntherm=-1, ndecor=100,\n",
    "                     nelec=wf.nelec, init=mol.domain('atomic'),\n",
    "                     move={'type': 'all-elec', 'proba': 'normal'})"
   ]
  },
  {
   "cell_type": "markdown",
   "metadata": {},
   "source": [
    "We will use the ADAM optimizer implemented in pytorch with custom learning rate for each layer.\n",
    "We also define a linear scheduler that will decrease the learning rate after 100 steps"
   ]
  },
  {
   "cell_type": "code",
   "execution_count": 6,
   "metadata": {},
   "outputs": [],
   "source": [
    "lr_dict = [{'params': wf.jastrow.parameters(), 'lr': 1E-2},\n",
    "           {'params': wf.ao.parameters(), 'lr': 1E-6},\n",
    "           {'params': wf.mo.parameters(), 'lr': 2E-3},\n",
    "           {'params': wf.fc.parameters(), 'lr': 2E-3}]\n",
    "opt = optim.Adam(lr_dict, lr=1E-3)\n"
   ]
  },
  {
   "cell_type": "markdown",
   "metadata": {},
   "source": [
    "A scheduler can also be used to progressively decrease the value of the learning rate during the optimization."
   ]
  },
  {
   "cell_type": "code",
   "execution_count": 7,
   "metadata": {},
   "outputs": [],
   "source": [
    "scheduler = optim.lr_scheduler.StepLR(opt, step_size=100, gamma=0.90)"
   ]
  },
  {
   "cell_type": "markdown",
   "metadata": {},
   "source": [
    "We can now assemble the solver"
   ]
  },
  {
   "cell_type": "code",
   "execution_count": 8,
   "metadata": {},
   "outputs": [
    {
     "name": "stdout",
     "output_type": "stream",
     "text": [
      "INFO:QMCTorch|\n",
      "INFO:QMCTorch| QMC Solver \n",
      "INFO:QMCTorch|  WaveFunction        : SlaterJastrow\n",
      "INFO:QMCTorch|  Sampler             : Metropolis\n",
      "INFO:QMCTorch|  Optimizer           : Adam\n"
     ]
    }
   ],
   "source": [
    "solver = Solver(wf=wf, sampler=sampler, optimizer=opt, scheduler=None)"
   ]
  },
  {
   "cell_type": "markdown",
   "metadata": {},
   "source": [
    "## Configuring the solver\n",
    "\n",
    "Many parameters of the optimization can be controlled. We can specify which observale to track during the optimization. Here only the local energies will be recorded but one can also record the variational parameters"
   ]
  },
  {
   "cell_type": "code",
   "execution_count": 9,
   "metadata": {},
   "outputs": [],
   "source": [
    "solver.configure(track=['local_energy', 'parameters'])"
   ]
  },
  {
   "cell_type": "markdown",
   "metadata": {},
   "source": [
    "Some variational parameters can be frozen and therefore not optimized. We here freeze the MO coefficients and the AO parameters\n",
    "and therefore only the jastrow parametres and the CI coefficients will be optmized"
   ]
  },
  {
   "cell_type": "code",
   "execution_count": 10,
   "metadata": {},
   "outputs": [],
   "source": [
    "solver.configure(freeze=['ao'])"
   ]
  },
  {
   "cell_type": "markdown",
   "metadata": {},
   "source": [
    "Either the mean or the variance of local energies can be used as a loss function. We choose here to minimize the energy to optimize the wave function"
   ]
  },
  {
   "cell_type": "code",
   "execution_count": 11,
   "metadata": {},
   "outputs": [],
   "source": [
    "solver.configure(loss='energy')"
   ]
  },
  {
   "attachments": {},
   "cell_type": "markdown",
   "metadata": {},
   "source": [
    "The gradients of the wave function w.r.t. the variational parameters can be computed directly via automatic differntiation (`grad='auto'`) or manually (`grad='manual'`) via a reduced noise formula. We pick here a manual calculation"
   ]
  },
  {
   "cell_type": "code",
   "execution_count": 12,
   "metadata": {},
   "outputs": [],
   "source": [
    "solver.configure(grad='manual')"
   ]
  },
  {
   "cell_type": "markdown",
   "metadata": {},
   "source": [
    "We also configure the resampling so that the positions of the walkers are updated by performing\n",
    "25 MC steps from their previous positions after each optimization step."
   ]
  },
  {
   "cell_type": "code",
   "execution_count": 13,
   "metadata": {},
   "outputs": [],
   "source": [
    "solver.configure(resampling={'mode': 'update',\n",
    "                            'resample_every': 1,\n",
    "                            'nstep_update': 25})"
   ]
  },
  {
   "cell_type": "markdown",
   "metadata": {},
   "source": [
    "## Running the wave function optimization\n",
    "\n",
    "We can now run the optimization. We use here 50 optimization steps (epoch), using all the points\n",
    "in a single mini-batch."
   ]
  },
  {
   "cell_type": "code",
   "execution_count": 14,
   "metadata": {},
   "outputs": [
    {
     "name": "stdout",
     "output_type": "stream",
     "text": [
      "INFO:QMCTorch|\n",
      "INFO:QMCTorch|  Optimization\n",
      "INFO:QMCTorch|  Task                :\n",
      "INFO:QMCTorch|  Number Parameters   : 115\n",
      "INFO:QMCTorch|  Number of epoch     : 50\n",
      "INFO:QMCTorch|  Batch size          : 5000\n",
      "INFO:QMCTorch|  Loss function       : energy\n",
      "INFO:QMCTorch|  Clip Loss           : False\n",
      "INFO:QMCTorch|  Gradients           : manual\n",
      "INFO:QMCTorch|  Resampling mode     : update\n",
      "INFO:QMCTorch|  Resampling every    : 1\n",
      "INFO:QMCTorch|  Resampling steps    : 25\n",
      "INFO:QMCTorch|  Output file         : H2_adf_dzp_QMCTorch.hdf5\n",
      "INFO:QMCTorch|  Checkpoint every    : None\n",
      "INFO:QMCTorch|\n",
      "INFO:QMCTorch|\n",
      "INFO:QMCTorch|  epoch 0 | 5000 sampling points\n",
      "INFO:QMCTorch|  energy   : -1.155820 +/- 0.003248\n",
      "INFO:QMCTorch|  variance : 0.229678\n",
      "INFO:QMCTorch|  epoch done in 0.17 sec.\n",
      "INFO:QMCTorch|\n",
      "INFO:QMCTorch|  epoch 1 | 5000 sampling points\n",
      "INFO:QMCTorch|  energy   : -1.154966 +/- 0.003175\n",
      "INFO:QMCTorch|  variance : 0.224524\n",
      "INFO:QMCTorch|  epoch done in 0.23 sec.\n",
      "INFO:QMCTorch|\n",
      "INFO:QMCTorch|  epoch 2 | 5000 sampling points\n",
      "INFO:QMCTorch|  energy   : -1.153755 +/- 0.003123\n",
      "INFO:QMCTorch|  variance : 0.220823\n",
      "INFO:QMCTorch|  epoch done in 0.25 sec.\n",
      "INFO:QMCTorch|\n",
      "INFO:QMCTorch|  epoch 3 | 5000 sampling points\n",
      "INFO:QMCTorch|  energy   : -1.152865 +/- 0.003169\n",
      "INFO:QMCTorch|  variance : 0.224055\n",
      "INFO:QMCTorch|  epoch done in 0.22 sec.\n",
      "INFO:QMCTorch|\n",
      "INFO:QMCTorch|  epoch 4 | 5000 sampling points\n",
      "INFO:QMCTorch|  energy   : -1.155440 +/- 0.003123\n",
      "INFO:QMCTorch|  variance : 0.220856\n",
      "INFO:QMCTorch|  epoch done in 0.20 sec.\n",
      "INFO:QMCTorch|\n",
      "INFO:QMCTorch|  epoch 5 | 5000 sampling points\n",
      "INFO:QMCTorch|  energy   : -1.152281 +/- 0.003132\n",
      "INFO:QMCTorch|  variance : 0.221490\n",
      "INFO:QMCTorch|  epoch done in 0.19 sec.\n",
      "INFO:QMCTorch|\n",
      "INFO:QMCTorch|  epoch 6 | 5000 sampling points\n",
      "INFO:QMCTorch|  energy   : -1.155656 +/- 0.003057\n",
      "INFO:QMCTorch|  variance : 0.216128\n",
      "INFO:QMCTorch|  epoch done in 0.21 sec.\n",
      "INFO:QMCTorch|\n",
      "INFO:QMCTorch|  epoch 7 | 5000 sampling points\n",
      "INFO:QMCTorch|  energy   : -1.155033 +/- 0.003072\n",
      "INFO:QMCTorch|  variance : 0.217255\n",
      "INFO:QMCTorch|  epoch done in 0.21 sec.\n",
      "INFO:QMCTorch|\n",
      "INFO:QMCTorch|  epoch 8 | 5000 sampling points\n",
      "INFO:QMCTorch|  energy   : -1.156729 +/- 0.003055\n",
      "INFO:QMCTorch|  variance : 0.216035\n",
      "INFO:QMCTorch|  epoch done in 0.20 sec.\n",
      "INFO:QMCTorch|\n",
      "INFO:QMCTorch|  epoch 9 | 5000 sampling points\n",
      "INFO:QMCTorch|  energy   : -1.157059 +/- 0.003023\n",
      "INFO:QMCTorch|  variance : 0.213726\n",
      "INFO:QMCTorch|  epoch done in 0.21 sec.\n",
      "INFO:QMCTorch|\n",
      "INFO:QMCTorch|  epoch 10 | 5000 sampling points\n",
      "INFO:QMCTorch|  energy   : -1.155099 +/- 0.003046\n",
      "INFO:QMCTorch|  variance : 0.215355\n",
      "INFO:QMCTorch|  epoch done in 0.46 sec.\n",
      "INFO:QMCTorch|\n",
      "INFO:QMCTorch|  epoch 11 | 5000 sampling points\n",
      "INFO:QMCTorch|  energy   : -1.157807 +/- 0.002978\n",
      "INFO:QMCTorch|  variance : 0.210545\n",
      "INFO:QMCTorch|  epoch done in 0.19 sec.\n",
      "INFO:QMCTorch|\n",
      "INFO:QMCTorch|  epoch 12 | 5000 sampling points\n",
      "INFO:QMCTorch|  energy   : -1.155917 +/- 0.002920\n",
      "INFO:QMCTorch|  variance : 0.206467\n",
      "INFO:QMCTorch|  epoch done in 0.25 sec.\n",
      "INFO:QMCTorch|\n",
      "INFO:QMCTorch|  epoch 13 | 5000 sampling points\n",
      "INFO:QMCTorch|  energy   : -1.160233 +/- 0.002908\n",
      "INFO:QMCTorch|  variance : 0.205608\n",
      "INFO:QMCTorch|  epoch done in 0.20 sec.\n",
      "INFO:QMCTorch|\n",
      "INFO:QMCTorch|  epoch 14 | 5000 sampling points\n",
      "INFO:QMCTorch|  energy   : -1.155051 +/- 0.003021\n",
      "INFO:QMCTorch|  variance : 0.213640\n",
      "INFO:QMCTorch|  epoch done in 0.19 sec.\n",
      "INFO:QMCTorch|\n",
      "INFO:QMCTorch|  epoch 15 | 5000 sampling points\n",
      "INFO:QMCTorch|  energy   : -1.157552 +/- 0.002922\n",
      "INFO:QMCTorch|  variance : 0.206606\n",
      "INFO:QMCTorch|  epoch done in 0.20 sec.\n",
      "INFO:QMCTorch|\n",
      "INFO:QMCTorch|  epoch 16 | 5000 sampling points\n",
      "INFO:QMCTorch|  energy   : -1.150777 +/- 0.002986\n",
      "INFO:QMCTorch|  variance : 0.211157\n",
      "INFO:QMCTorch|  epoch done in 0.21 sec.\n",
      "INFO:QMCTorch|\n",
      "INFO:QMCTorch|  epoch 17 | 5000 sampling points\n",
      "INFO:QMCTorch|  energy   : -1.153752 +/- 0.002926\n",
      "INFO:QMCTorch|  variance : 0.206869\n",
      "INFO:QMCTorch|  epoch done in 0.18 sec.\n",
      "INFO:QMCTorch|\n",
      "INFO:QMCTorch|  epoch 18 | 5000 sampling points\n",
      "INFO:QMCTorch|  energy   : -1.154157 +/- 0.002893\n",
      "INFO:QMCTorch|  variance : 0.204567\n",
      "INFO:QMCTorch|  epoch done in 0.20 sec.\n",
      "INFO:QMCTorch|\n",
      "INFO:QMCTorch|  epoch 19 | 5000 sampling points\n",
      "INFO:QMCTorch|  energy   : -1.156157 +/- 0.002824\n",
      "INFO:QMCTorch|  variance : 0.199705\n",
      "INFO:QMCTorch|  epoch done in 0.43 sec.\n",
      "INFO:QMCTorch|\n",
      "INFO:QMCTorch|  epoch 20 | 5000 sampling points\n",
      "INFO:QMCTorch|  energy   : -1.161703 +/- 0.002866\n",
      "INFO:QMCTorch|  variance : 0.202681\n",
      "INFO:QMCTorch|  epoch done in 0.22 sec.\n",
      "INFO:QMCTorch|\n",
      "INFO:QMCTorch|  epoch 21 | 5000 sampling points\n",
      "INFO:QMCTorch|  energy   : -1.156807 +/- 0.002791\n",
      "INFO:QMCTorch|  variance : 0.197351\n",
      "INFO:QMCTorch|  epoch done in 0.22 sec.\n",
      "INFO:QMCTorch|\n",
      "INFO:QMCTorch|  epoch 22 | 5000 sampling points\n",
      "INFO:QMCTorch|  energy   : -1.156593 +/- 0.002774\n",
      "INFO:QMCTorch|  variance : 0.196173\n",
      "INFO:QMCTorch|  epoch done in 0.18 sec.\n",
      "INFO:QMCTorch|\n",
      "INFO:QMCTorch|  epoch 23 | 5000 sampling points\n",
      "INFO:QMCTorch|  energy   : -1.155829 +/- 0.002814\n",
      "INFO:QMCTorch|  variance : 0.199004\n",
      "INFO:QMCTorch|  epoch done in 0.20 sec.\n",
      "INFO:QMCTorch|\n",
      "INFO:QMCTorch|  epoch 24 | 5000 sampling points\n",
      "INFO:QMCTorch|  energy   : -1.158552 +/- 0.002720\n",
      "INFO:QMCTorch|  variance : 0.192327\n",
      "INFO:QMCTorch|  epoch done in 0.19 sec.\n",
      "INFO:QMCTorch|\n",
      "INFO:QMCTorch|  epoch 25 | 5000 sampling points\n",
      "INFO:QMCTorch|  energy   : -1.157268 +/- 0.002651\n",
      "INFO:QMCTorch|  variance : 0.187444\n",
      "INFO:QMCTorch|  epoch done in 0.20 sec.\n",
      "INFO:QMCTorch|\n",
      "INFO:QMCTorch|  epoch 26 | 5000 sampling points\n",
      "INFO:QMCTorch|  energy   : -1.160739 +/- 0.002627\n",
      "INFO:QMCTorch|  variance : 0.185774\n",
      "INFO:QMCTorch|  epoch done in 0.19 sec.\n",
      "INFO:QMCTorch|\n",
      "INFO:QMCTorch|  epoch 27 | 5000 sampling points\n",
      "INFO:QMCTorch|  energy   : -1.156840 +/- 0.002650\n",
      "INFO:QMCTorch|  variance : 0.187409\n",
      "INFO:QMCTorch|  epoch done in 0.19 sec.\n",
      "INFO:QMCTorch|\n",
      "INFO:QMCTorch|  epoch 28 | 5000 sampling points\n",
      "INFO:QMCTorch|  energy   : -1.160052 +/- 0.002668\n",
      "INFO:QMCTorch|  variance : 0.188656\n",
      "INFO:QMCTorch|  epoch done in 0.19 sec.\n",
      "INFO:QMCTorch|\n",
      "INFO:QMCTorch|  epoch 29 | 5000 sampling points\n",
      "INFO:QMCTorch|  energy   : -1.161738 +/- 0.002561\n",
      "INFO:QMCTorch|  variance : 0.181082\n",
      "INFO:QMCTorch|  epoch done in 0.19 sec.\n",
      "INFO:QMCTorch|\n",
      "INFO:QMCTorch|  epoch 30 | 5000 sampling points\n",
      "INFO:QMCTorch|  energy   : -1.163425 +/- 0.002620\n",
      "INFO:QMCTorch|  variance : 0.185234\n",
      "INFO:QMCTorch|  epoch done in 0.21 sec.\n",
      "INFO:QMCTorch|\n",
      "INFO:QMCTorch|  epoch 31 | 5000 sampling points\n",
      "INFO:QMCTorch|  energy   : -1.167101 +/- 0.002546\n",
      "INFO:QMCTorch|  variance : 0.180017\n",
      "INFO:QMCTorch|  epoch done in 0.19 sec.\n",
      "INFO:QMCTorch|\n",
      "INFO:QMCTorch|  epoch 32 | 5000 sampling points\n",
      "INFO:QMCTorch|  energy   : -1.157386 +/- 0.002624\n",
      "INFO:QMCTorch|  variance : 0.185573\n",
      "INFO:QMCTorch|  epoch done in 0.19 sec.\n",
      "INFO:QMCTorch|\n",
      "INFO:QMCTorch|  epoch 33 | 5000 sampling points\n",
      "INFO:QMCTorch|  energy   : -1.163439 +/- 0.002552\n",
      "INFO:QMCTorch|  variance : 0.180488\n",
      "INFO:QMCTorch|  epoch done in 0.20 sec.\n",
      "INFO:QMCTorch|\n",
      "INFO:QMCTorch|  epoch 34 | 5000 sampling points\n",
      "INFO:QMCTorch|  energy   : -1.161475 +/- 0.002532\n",
      "INFO:QMCTorch|  variance : 0.179012\n",
      "INFO:QMCTorch|  epoch done in 0.20 sec.\n",
      "INFO:QMCTorch|\n",
      "INFO:QMCTorch|  epoch 35 | 5000 sampling points\n",
      "INFO:QMCTorch|  energy   : -1.162207 +/- 0.002483\n",
      "INFO:QMCTorch|  variance : 0.175559\n",
      "INFO:QMCTorch|  epoch done in 0.21 sec.\n",
      "INFO:QMCTorch|\n",
      "INFO:QMCTorch|  epoch 36 | 5000 sampling points\n",
      "INFO:QMCTorch|  energy   : -1.160581 +/- 0.002549\n",
      "INFO:QMCTorch|  variance : 0.180231\n",
      "INFO:QMCTorch|  epoch done in 0.21 sec.\n",
      "INFO:QMCTorch|\n",
      "INFO:QMCTorch|  epoch 37 | 5000 sampling points\n",
      "INFO:QMCTorch|  energy   : -1.160479 +/- 0.002471\n",
      "INFO:QMCTorch|  variance : 0.174733\n",
      "INFO:QMCTorch|  epoch done in 0.19 sec.\n",
      "INFO:QMCTorch|\n",
      "INFO:QMCTorch|  epoch 38 | 5000 sampling points\n",
      "INFO:QMCTorch|  energy   : -1.162336 +/- 0.002502\n",
      "INFO:QMCTorch|  variance : 0.176936\n",
      "INFO:QMCTorch|  epoch done in 0.19 sec.\n",
      "INFO:QMCTorch|\n",
      "INFO:QMCTorch|  epoch 39 | 5000 sampling points\n",
      "INFO:QMCTorch|  energy   : -1.163931 +/- 0.002522\n",
      "INFO:QMCTorch|  variance : 0.178305\n",
      "INFO:QMCTorch|  epoch done in 0.19 sec.\n",
      "INFO:QMCTorch|\n",
      "INFO:QMCTorch|  epoch 40 | 5000 sampling points\n",
      "INFO:QMCTorch|  energy   : -1.162977 +/- 0.002429\n",
      "INFO:QMCTorch|  variance : 0.171763\n",
      "INFO:QMCTorch|  epoch done in 0.21 sec.\n",
      "INFO:QMCTorch|\n",
      "INFO:QMCTorch|  epoch 41 | 5000 sampling points\n",
      "INFO:QMCTorch|  energy   : -1.162803 +/- 0.002436\n",
      "INFO:QMCTorch|  variance : 0.172285\n",
      "INFO:QMCTorch|  epoch done in 0.18 sec.\n",
      "INFO:QMCTorch|\n",
      "INFO:QMCTorch|  epoch 42 | 5000 sampling points\n",
      "INFO:QMCTorch|  energy   : -1.162275 +/- 0.002436\n",
      "INFO:QMCTorch|  variance : 0.172260\n",
      "INFO:QMCTorch|  epoch done in 0.21 sec.\n",
      "INFO:QMCTorch|\n",
      "INFO:QMCTorch|  epoch 43 | 5000 sampling points\n",
      "INFO:QMCTorch|  energy   : -1.161893 +/- 0.002421\n",
      "INFO:QMCTorch|  variance : 0.171202\n",
      "INFO:QMCTorch|  epoch done in 0.21 sec.\n",
      "INFO:QMCTorch|\n",
      "INFO:QMCTorch|  epoch 44 | 5000 sampling points\n",
      "INFO:QMCTorch|  energy   : -1.161169 +/- 0.002388\n",
      "INFO:QMCTorch|  variance : 0.168865\n",
      "INFO:QMCTorch|  epoch done in 0.18 sec.\n",
      "INFO:QMCTorch|\n",
      "INFO:QMCTorch|  epoch 45 | 5000 sampling points\n",
      "INFO:QMCTorch|  energy   : -1.163101 +/- 0.002353\n",
      "INFO:QMCTorch|  variance : 0.166373\n",
      "INFO:QMCTorch|  epoch done in 1.37 sec.\n",
      "INFO:QMCTorch|\n",
      "INFO:QMCTorch|  epoch 46 | 5000 sampling points\n",
      "INFO:QMCTorch|  energy   : -1.161588 +/- 0.002367\n",
      "INFO:QMCTorch|  variance : 0.167382\n",
      "INFO:QMCTorch|  epoch done in 0.18 sec.\n",
      "INFO:QMCTorch|\n",
      "INFO:QMCTorch|  epoch 47 | 5000 sampling points\n",
      "INFO:QMCTorch|  energy   : -1.164853 +/- 0.002345\n",
      "INFO:QMCTorch|  variance : 0.165804\n",
      "INFO:QMCTorch|  epoch done in 0.22 sec.\n",
      "INFO:QMCTorch|\n",
      "INFO:QMCTorch|  epoch 48 | 5000 sampling points\n",
      "INFO:QMCTorch|  energy   : -1.167272 +/- 0.002287\n",
      "INFO:QMCTorch|  variance : 0.161681\n",
      "INFO:QMCTorch|  epoch done in 0.20 sec.\n",
      "INFO:QMCTorch|\n",
      "INFO:QMCTorch|  epoch 49 | 5000 sampling points\n",
      "INFO:QMCTorch|  energy   : -1.157956 +/- 0.002319\n",
      "INFO:QMCTorch|  variance : 0.164008\n",
      "INFO:QMCTorch|  epoch done in 0.22 sec.\n"
     ]
    }
   ],
   "source": [
    "obs = solver.run(50)"
   ]
  },
  {
   "cell_type": "code",
   "execution_count": 15,
   "metadata": {},
   "outputs": [
    {
     "data": {
      "image/png": "[encoded data removed]",
      "text/plain": [
       "<Figure size 640x480 with 2 Axes>"
      ]
     },
     "metadata": {},
     "output_type": "display_data"
    }
   ],
   "source": [
    "plot_energy(obs.local_energy, e0=-1.1645, show_variance=True)"
   ]
  },
  {
   "cell_type": "code",
   "execution_count": null,
   "metadata": {},
   "outputs": [],
   "source": []
  }
 ],
 "metadata": {
  "kernelspec": {
   "display_name": "Python 3 (ipykernel)",
   "language": "python",
   "name": "python3"
  },
  "language_info": {
   "codemirror_mode": {
    "name": "ipython",
    "version": 3
   },
   "file_extension": ".py",
   "mimetype": "text/x-python",
   "name": "python",
   "nbconvert_exporter": "python",
   "pygments_lexer": "ipython3",
   "version": "3.8.0"
  }
 },
 "nbformat": 4,
 "nbformat_minor": 4
}
