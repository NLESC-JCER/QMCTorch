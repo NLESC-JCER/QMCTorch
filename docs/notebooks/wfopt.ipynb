{
 "cells": [
  {
   "cell_type": "markdown",
   "metadata": {},
   "source": [
    "# Wave Function Optimization\n",
    "\n",
    "We present here a complete example on how to use QMCTorch on a H2 molecule.\n",
    "We first need to import all the relevant modules :"
   ]
  },
  {
   "cell_type": "code",
   "execution_count": 1,
   "metadata": {},
   "outputs": [
    {
     "name": "stdout",
     "output_type": "stream",
     "text": [
      "INFO:QMCTorch|  ____    __  ______________             _\n",
      "INFO:QMCTorch| / __ \\  /  |/  / ___/_  __/__  ________/ /  \n",
      "INFO:QMCTorch|/ /_/ / / /|_/ / /__  / / / _ \\/ __/ __/ _ \\ \n",
      "INFO:QMCTorch|\\___\\_\\/_/  /_/\\___/ /_/  \\___/_/  \\__/_//_/ \n"
     ]
    }
   ],
   "source": [
    "from torch import optim\n",
    "from qmctorch.scf import Molecule\n",
    "from qmctorch.wavefunction import SlaterJastrow\n",
    "from qmctorch.solver import Solver\n",
    "from qmctorch.sampler import Metropolis\n",
    "from qmctorch.utils import set_torch_double_precision\n",
    "from qmctorch.utils import (plot_energy, plot_data)\n",
    "set_torch_double_precision()"
   ]
  },
  {
   "cell_type": "markdown",
   "metadata": {},
   "source": [
    "## Creating the system\n",
    "\n",
    "The first step is to define a molecule. We here use a H2 molecule with both hydrgen atoms\n",
    "on the z-axis and separated by 1.38 atomic unit. We choose here to use Slater orbitals that can be otained via `ADF`. We simply here reload calculations to create the molecule"
   ]
  },
  {
   "cell_type": "code",
   "execution_count": 2,
   "metadata": {},
   "outputs": [
    {
     "name": "stdout",
     "output_type": "stream",
     "text": [
      "INFO:QMCTorch|\n",
      "INFO:QMCTorch| SCF Calculation\n",
      "INFO:QMCTorch|  Loading data from ./hdf5/H2_adf_dzp.hdf5\n"
     ]
    }
   ],
   "source": [
    "mol = Molecule(load='./hdf5/H2_adf_dzp.hdf5')"
   ]
  },
  {
   "cell_type": "markdown",
   "metadata": {},
   "source": [
    "We then define the wave function relative to this molecule. We also specify here\n",
    "the determinants we want to use in the CI expansion. We use here a to include all the single\n",
    "and double excitation with 2 electrons and 2 orbitals"
   ]
  },
  {
   "cell_type": "code",
   "execution_count": 3,
   "metadata": {},
   "outputs": [
    {
     "name": "stdout",
     "output_type": "stream",
     "text": [
      "INFO:QMCTorch|\n",
      "INFO:QMCTorch| Wave Function\n",
      "INFO:QMCTorch|  Jastrow factor      : True\n",
      "INFO:QMCTorch|  Jastrow kernel      : PadeJastrowKernel\n",
      "INFO:QMCTorch|  Highest MO included : 10\n",
      "INFO:QMCTorch|  Configurations      : single_double(2,2)\n",
      "INFO:QMCTorch|  Number of confs     : 4\n",
      "INFO:QMCTorch|  Kinetic energy      : jacobi\n",
      "INFO:QMCTorch|  Number var  param   : 121\n",
      "INFO:QMCTorch|  Cuda support        : False\n"
     ]
    }
   ],
   "source": [
    "wf = SlaterJastrow(mol, configs='single_double(2,2)')"
   ]
  },
  {
   "cell_type": "markdown",
   "metadata": {},
   "source": [
    "As a sampler we use a simple Metropolis Hasting with 1000 walkers. The walkers are initially localized around the atoms.\n",
    "Each walker will perform 2000 steps of size 0.2 atomic unit and will only keep the last position of each walker (`ntherm=-1`).\n",
    "During each move all the the electrons are moved simultaneously within a normal distribution centered around their current location."
   ]
  },
  {
   "cell_type": "code",
   "execution_count": 4,
   "metadata": {},
   "outputs": [
    {
     "name": "stdout",
     "output_type": "stream",
     "text": [
      "INFO:QMCTorch|\n",
      "INFO:QMCTorch| Monte-Carlo Sampler\n",
      "INFO:QMCTorch|  Number of walkers   : 5000\n",
      "INFO:QMCTorch|  Number of steps     : 200\n",
      "INFO:QMCTorch|  Step size           : 0.2\n",
      "INFO:QMCTorch|  Thermalization steps: -1\n",
      "INFO:QMCTorch|  Decorelation steps  : 100\n",
      "INFO:QMCTorch|  Walkers init pos    : atomic\n",
      "INFO:QMCTorch|  Move type           : all-elec\n",
      "INFO:QMCTorch|  Move proba          : normal\n"
     ]
    }
   ],
   "source": [
    "sampler = Metropolis(nwalkers=5000,\n",
    "                     nstep=200, step_size=0.2,\n",
    "                     ntherm=-1, ndecor=100,\n",
    "                     nelec=wf.nelec, init=mol.domain('atomic'),\n",
    "                     move={'type': 'all-elec', 'proba': 'normal'})"
   ]
  },
  {
   "cell_type": "markdown",
   "metadata": {},
   "source": [
    "We will use the ADAM optimizer implemented in pytorch with custom learning rate for each layer.\n",
    "We also define a linear scheduler that will decrease the learning rate after 100 steps"
   ]
  },
  {
   "cell_type": "code",
   "execution_count": 5,
   "metadata": {},
   "outputs": [],
   "source": [
    "lr_dict = [{'params': wf.jastrow.parameters(), 'lr': 1E-2},\n",
    "           {'params': wf.ao.parameters(), 'lr': 1E-6},\n",
    "           {'params': wf.mo.parameters(), 'lr': 2E-3},\n",
    "           {'params': wf.fc.parameters(), 'lr': 2E-3}]\n",
    "opt = optim.Adam(lr_dict, lr=1E-3)\n"
   ]
  },
  {
   "cell_type": "markdown",
   "metadata": {},
   "source": [
    "A scheduler can also be used to progressively decrease the value of the learning rate during the optimization."
   ]
  },
  {
   "cell_type": "code",
   "execution_count": 6,
   "metadata": {},
   "outputs": [],
   "source": [
    "scheduler = optim.lr_scheduler.StepLR(opt, step_size=100, gamma=0.90)"
   ]
  },
  {
   "cell_type": "markdown",
   "metadata": {},
   "source": [
    "We can now assemble the solver"
   ]
  },
  {
   "cell_type": "code",
   "execution_count": 7,
   "metadata": {},
   "outputs": [
    {
     "name": "stdout",
     "output_type": "stream",
     "text": [
      "INFO:QMCTorch|\n",
      "INFO:QMCTorch| Warning : dump to hdf5\n",
      "INFO:QMCTorch| Object Solver already exists in H2_adf_dzp_QMCTorch.hdf5\n",
      "INFO:QMCTorch| Object name changed to SolverSlaterJastrow_7\n",
      "INFO:QMCTorch|\n",
      "INFO:QMCTorch|\n",
      "INFO:QMCTorch| QMC Solver \n",
      "INFO:QMCTorch|  WaveFunction        : SlaterJastrow\n",
      "INFO:QMCTorch|  Sampler             : Metropolis\n",
      "INFO:QMCTorch|  Optimizer           : Adam\n"
     ]
    }
   ],
   "source": [
    "solver = Solver(wf=wf, sampler=sampler, optimizer=opt, scheduler=None)"
   ]
  },
  {
   "cell_type": "markdown",
   "metadata": {},
   "source": [
    "## Comfiguring the solver\n",
    "\n",
    "Many parameters of the optimization can be controlled. We can specify which observale to track during the optimization. Here only the local energies will be recorded but one can also record the variational parameters"
   ]
  },
  {
   "cell_type": "code",
   "execution_count": 8,
   "metadata": {},
   "outputs": [],
   "source": [
    "solver.configure(track=['local_energy', 'parameters'])"
   ]
  },
  {
   "cell_type": "markdown",
   "metadata": {},
   "source": [
    "Some variational parameters can be frozen and therefore not optimized. We here freeze the MO coefficients and the AO parameters\n",
    "and therefore only the jastrow parametres and the CI coefficients will be optmized"
   ]
  },
  {
   "cell_type": "code",
   "execution_count": 9,
   "metadata": {},
   "outputs": [],
   "source": [
    "solver.configure(freeze=['ao'])"
   ]
  },
  {
   "cell_type": "markdown",
   "metadata": {},
   "source": [
    "Either the mean or the variance of local energies can be used as a loss function. We choose here to minimize the energy to optimize the wave function"
   ]
  },
  {
   "cell_type": "code",
   "execution_count": 10,
   "metadata": {},
   "outputs": [],
   "source": [
    "solver.configure(loss='energy')"
   ]
  },
  {
   "cell_type": "markdown",
   "metadata": {},
   "source": [
    "The gradients of the wave function w.r.t. the variational parameters can be computed directly via automatic differntiation (`grad='auto'`)or manually (`grad='auto'`) via a reduced noise formula. We pick here a manual calculation"
   ]
  },
  {
   "cell_type": "code",
   "execution_count": 11,
   "metadata": {},
   "outputs": [],
   "source": [
    "solver.configure(grad='manual')"
   ]
  },
  {
   "cell_type": "markdown",
   "metadata": {},
   "source": [
    "We also configure the resampling so that the positions of the walkers are updated by performing\n",
    "25 MC steps from their previous positions after each optimization step."
   ]
  },
  {
   "cell_type": "code",
   "execution_count": 12,
   "metadata": {},
   "outputs": [],
   "source": [
    "solver.configure(resampling={'mode': 'update',\n",
    "                            'resample_every': 1,\n",
    "                            'nstep_update': 25})"
   ]
  },
  {
   "cell_type": "markdown",
   "metadata": {},
   "source": [
    "## Running the wave function optimization\n",
    "\n",
    "We can now run the optimization. We use here 250 optimization steps (epoch), using all the points\n",
    "in a single mini-batch."
   ]
  },
  {
   "cell_type": "code",
   "execution_count": 13,
   "metadata": {},
   "outputs": [
    {
     "name": "stdout",
     "output_type": "stream",
     "text": [
      "INFO:QMCTorch|\n",
      "INFO:QMCTorch|  Optimization\n",
      "INFO:QMCTorch|  Task                :\n",
      "INFO:QMCTorch|  Number Parameters   : 115\n",
      "INFO:QMCTorch|  Number of epoch     : 50\n",
      "INFO:QMCTorch|  Batch size          : 5000\n",
      "INFO:QMCTorch|  Loss function       : energy\n",
      "INFO:QMCTorch|  Clip Loss           : False\n",
      "INFO:QMCTorch|  Gradients           : manual\n",
      "INFO:QMCTorch|  Resampling mode     : update\n",
      "INFO:QMCTorch|  Resampling every    : 1\n",
      "INFO:QMCTorch|  Resampling steps    : 25\n",
      "INFO:QMCTorch|  Output file         : H2_adf_dzp_QMCTorch.hdf5\n",
      "INFO:QMCTorch|  Checkpoint every    : None\n",
      "INFO:QMCTorch|\n",
      "INFO:QMCTorch|\n",
      "INFO:QMCTorch|  epoch 0\n",
      "INFO:QMCTorch|  energy   : -1.155363 +/- 0.003267\n",
      "INFO:QMCTorch|  variance : 0.231010\n",
      "INFO:QMCTorch|  epoch done in 0.49 sec.\n",
      "INFO:QMCTorch|\n",
      "INFO:QMCTorch|  epoch 1\n",
      "INFO:QMCTorch|  energy   : -1.149161 +/- 0.003279\n",
      "INFO:QMCTorch|  variance : 0.231844\n",
      "INFO:QMCTorch|  epoch done in 0.59 sec.\n",
      "INFO:QMCTorch|\n",
      "INFO:QMCTorch|  epoch 2\n",
      "INFO:QMCTorch|  energy   : -1.150710 +/- 0.003106\n",
      "INFO:QMCTorch|  variance : 0.219625\n",
      "INFO:QMCTorch|  epoch done in 0.94 sec.\n",
      "INFO:QMCTorch|\n",
      "INFO:QMCTorch|  epoch 3\n",
      "INFO:QMCTorch|  energy   : -1.156548 +/- 0.003170\n",
      "INFO:QMCTorch|  variance : 0.224149\n",
      "INFO:QMCTorch|  epoch done in 0.50 sec.\n",
      "INFO:QMCTorch|\n",
      "INFO:QMCTorch|  epoch 4\n",
      "INFO:QMCTorch|  energy   : -1.155115 +/- 0.003221\n",
      "INFO:QMCTorch|  variance : 0.227777\n",
      "INFO:QMCTorch|  epoch done in 0.51 sec.\n",
      "INFO:QMCTorch|\n",
      "INFO:QMCTorch|  epoch 5\n",
      "INFO:QMCTorch|  energy   : -1.156112 +/- 0.003083\n",
      "INFO:QMCTorch|  variance : 0.217972\n",
      "INFO:QMCTorch|  epoch done in 0.51 sec.\n",
      "INFO:QMCTorch|\n",
      "INFO:QMCTorch|  epoch 6\n",
      "INFO:QMCTorch|  energy   : -1.155542 +/- 0.003070\n",
      "INFO:QMCTorch|  variance : 0.217062\n",
      "INFO:QMCTorch|  epoch done in 0.94 sec.\n",
      "INFO:QMCTorch|\n",
      "INFO:QMCTorch|  epoch 7\n",
      "INFO:QMCTorch|  energy   : -1.157297 +/- 0.003046\n",
      "INFO:QMCTorch|  variance : 0.215387\n",
      "INFO:QMCTorch|  epoch done in 0.48 sec.\n",
      "INFO:QMCTorch|\n",
      "INFO:QMCTorch|  epoch 8\n",
      "INFO:QMCTorch|  energy   : -1.150183 +/- 0.003147\n",
      "INFO:QMCTorch|  variance : 0.222538\n",
      "INFO:QMCTorch|  epoch done in 0.50 sec.\n",
      "INFO:QMCTorch|\n",
      "INFO:QMCTorch|  epoch 9\n",
      "INFO:QMCTorch|  energy   : -1.155700 +/- 0.003062\n",
      "INFO:QMCTorch|  variance : 0.216530\n",
      "INFO:QMCTorch|  epoch done in 0.50 sec.\n",
      "INFO:QMCTorch|\n",
      "INFO:QMCTorch|  epoch 10\n",
      "INFO:QMCTorch|  energy   : -1.154875 +/- 0.003005\n",
      "INFO:QMCTorch|  variance : 0.212476\n",
      "INFO:QMCTorch|  epoch done in 0.60 sec.\n",
      "INFO:QMCTorch|\n",
      "INFO:QMCTorch|  epoch 11\n",
      "INFO:QMCTorch|  energy   : -1.154984 +/- 0.003024\n",
      "INFO:QMCTorch|  variance : 0.213820\n",
      "INFO:QMCTorch|  epoch done in 0.50 sec.\n",
      "INFO:QMCTorch|\n",
      "INFO:QMCTorch|  epoch 12\n",
      "INFO:QMCTorch|  energy   : -1.154497 +/- 0.002974\n",
      "INFO:QMCTorch|  variance : 0.210262\n",
      "INFO:QMCTorch|  epoch done in 0.50 sec.\n",
      "INFO:QMCTorch|\n",
      "INFO:QMCTorch|  epoch 13\n",
      "INFO:QMCTorch|  energy   : -1.157227 +/- 0.003000\n",
      "INFO:QMCTorch|  variance : 0.212123\n",
      "INFO:QMCTorch|  epoch done in 0.57 sec.\n",
      "INFO:QMCTorch|\n",
      "INFO:QMCTorch|  epoch 14\n",
      "INFO:QMCTorch|  energy   : -1.156778 +/- 0.002914\n",
      "INFO:QMCTorch|  variance : 0.206054\n",
      "INFO:QMCTorch|  epoch done in 0.75 sec.\n",
      "INFO:QMCTorch|\n",
      "INFO:QMCTorch|  epoch 15\n",
      "INFO:QMCTorch|  energy   : -1.152052 +/- 0.003022\n",
      "INFO:QMCTorch|  variance : 0.213717\n",
      "INFO:QMCTorch|  epoch done in 0.49 sec.\n",
      "INFO:QMCTorch|\n",
      "INFO:QMCTorch|  epoch 16\n",
      "INFO:QMCTorch|  energy   : -1.158149 +/- 0.002847\n",
      "INFO:QMCTorch|  variance : 0.201333\n",
      "INFO:QMCTorch|  epoch done in 0.50 sec.\n",
      "INFO:QMCTorch|\n",
      "INFO:QMCTorch|  epoch 17\n",
      "INFO:QMCTorch|  energy   : -1.158337 +/- 0.002852\n",
      "INFO:QMCTorch|  variance : 0.201654\n",
      "INFO:QMCTorch|  epoch done in 0.48 sec.\n",
      "INFO:QMCTorch|\n",
      "INFO:QMCTorch|  epoch 18\n",
      "INFO:QMCTorch|  energy   : -1.158138 +/- 0.002793\n",
      "INFO:QMCTorch|  variance : 0.197500\n",
      "INFO:QMCTorch|  epoch done in 0.89 sec.\n",
      "INFO:QMCTorch|\n",
      "INFO:QMCTorch|  epoch 19\n",
      "INFO:QMCTorch|  energy   : -1.157327 +/- 0.002869\n",
      "INFO:QMCTorch|  variance : 0.202897\n",
      "INFO:QMCTorch|  epoch done in 0.99 sec.\n",
      "INFO:QMCTorch|\n",
      "INFO:QMCTorch|  epoch 20\n",
      "INFO:QMCTorch|  energy   : -1.155671 +/- 0.002901\n",
      "INFO:QMCTorch|  variance : 0.205139\n",
      "INFO:QMCTorch|  epoch done in 0.52 sec.\n",
      "INFO:QMCTorch|\n",
      "INFO:QMCTorch|  epoch 21\n",
      "INFO:QMCTorch|  energy   : -1.156606 +/- 0.002863\n",
      "INFO:QMCTorch|  variance : 0.202470\n",
      "INFO:QMCTorch|  epoch done in 0.48 sec.\n",
      "INFO:QMCTorch|\n",
      "INFO:QMCTorch|  epoch 22\n",
      "INFO:QMCTorch|  energy   : -1.164993 +/- 0.002852\n",
      "INFO:QMCTorch|  variance : 0.201661\n",
      "INFO:QMCTorch|  epoch done in 0.51 sec.\n",
      "INFO:QMCTorch|\n",
      "INFO:QMCTorch|  epoch 23\n",
      "INFO:QMCTorch|  energy   : -1.157040 +/- 0.002765\n",
      "INFO:QMCTorch|  variance : 0.195510\n",
      "INFO:QMCTorch|  epoch done in 0.50 sec.\n",
      "INFO:QMCTorch|\n",
      "INFO:QMCTorch|  epoch 24\n",
      "INFO:QMCTorch|  energy   : -1.163667 +/- 0.002707\n",
      "INFO:QMCTorch|  variance : 0.191386\n",
      "INFO:QMCTorch|  epoch done in 0.57 sec.\n",
      "INFO:QMCTorch|\n",
      "INFO:QMCTorch|  epoch 25\n",
      "INFO:QMCTorch|  energy   : -1.159113 +/- 0.002700\n",
      "INFO:QMCTorch|  variance : 0.190943\n",
      "INFO:QMCTorch|  epoch done in 0.51 sec.\n",
      "INFO:QMCTorch|\n",
      "INFO:QMCTorch|  epoch 26\n",
      "INFO:QMCTorch|  energy   : -1.162071 +/- 0.002661\n",
      "INFO:QMCTorch|  variance : 0.188190\n",
      "INFO:QMCTorch|  epoch done in 0.53 sec.\n",
      "INFO:QMCTorch|\n",
      "INFO:QMCTorch|  epoch 27\n",
      "INFO:QMCTorch|  energy   : -1.158837 +/- 0.002642\n",
      "INFO:QMCTorch|  variance : 0.186836\n",
      "INFO:QMCTorch|  epoch done in 0.49 sec.\n",
      "INFO:QMCTorch|\n",
      "INFO:QMCTorch|  epoch 28\n",
      "INFO:QMCTorch|  energy   : -1.155956 +/- 0.002649\n",
      "INFO:QMCTorch|  variance : 0.187284\n",
      "INFO:QMCTorch|  epoch done in 0.50 sec.\n",
      "INFO:QMCTorch|\n",
      "INFO:QMCTorch|  epoch 29\n",
      "INFO:QMCTorch|  energy   : -1.162127 +/- 0.002609\n",
      "INFO:QMCTorch|  variance : 0.184491\n",
      "INFO:QMCTorch|  epoch done in 0.73 sec.\n",
      "INFO:QMCTorch|\n",
      "INFO:QMCTorch|  epoch 30\n",
      "INFO:QMCTorch|  energy   : -1.163752 +/- 0.002560\n",
      "INFO:QMCTorch|  variance : 0.181025\n",
      "INFO:QMCTorch|  epoch done in 0.52 sec.\n",
      "INFO:QMCTorch|\n",
      "INFO:QMCTorch|  epoch 31\n",
      "INFO:QMCTorch|  energy   : -1.159163 +/- 0.002590\n",
      "INFO:QMCTorch|  variance : 0.183165\n",
      "INFO:QMCTorch|  epoch done in 0.56 sec.\n",
      "INFO:QMCTorch|\n",
      "INFO:QMCTorch|  epoch 32\n",
      "INFO:QMCTorch|  energy   : -1.163472 +/- 0.002603\n",
      "INFO:QMCTorch|  variance : 0.184072\n",
      "INFO:QMCTorch|  epoch done in 0.50 sec.\n",
      "INFO:QMCTorch|\n",
      "INFO:QMCTorch|  epoch 33\n",
      "INFO:QMCTorch|  energy   : -1.165384 +/- 0.002563\n",
      "INFO:QMCTorch|  variance : 0.181214\n",
      "INFO:QMCTorch|  epoch done in 0.51 sec.\n",
      "INFO:QMCTorch|\n",
      "INFO:QMCTorch|  epoch 34\n",
      "INFO:QMCTorch|  energy   : -1.163774 +/- 0.002527\n",
      "INFO:QMCTorch|  variance : 0.178661\n",
      "INFO:QMCTorch|  epoch done in 0.50 sec.\n",
      "INFO:QMCTorch|\n",
      "INFO:QMCTorch|  epoch 35\n",
      "INFO:QMCTorch|  energy   : -1.161995 +/- 0.002472\n",
      "INFO:QMCTorch|  variance : 0.174763\n",
      "INFO:QMCTorch|  epoch done in 0.51 sec.\n",
      "INFO:QMCTorch|\n",
      "INFO:QMCTorch|  epoch 36\n",
      "INFO:QMCTorch|  energy   : -1.161698 +/- 0.002521\n",
      "INFO:QMCTorch|  variance : 0.178254\n",
      "INFO:QMCTorch|  epoch done in 0.50 sec.\n",
      "INFO:QMCTorch|\n",
      "INFO:QMCTorch|  epoch 37\n",
      "INFO:QMCTorch|  energy   : -1.162856 +/- 0.002532\n",
      "INFO:QMCTorch|  variance : 0.179051\n",
      "INFO:QMCTorch|  epoch done in 0.50 sec.\n",
      "INFO:QMCTorch|\n",
      "INFO:QMCTorch|  epoch 38\n",
      "INFO:QMCTorch|  energy   : -1.157138 +/- 0.002535\n",
      "INFO:QMCTorch|  variance : 0.179220\n",
      "INFO:QMCTorch|  epoch done in 0.50 sec.\n",
      "INFO:QMCTorch|\n",
      "INFO:QMCTorch|  epoch 39\n",
      "INFO:QMCTorch|  energy   : -1.163320 +/- 0.002536\n",
      "INFO:QMCTorch|  variance : 0.179332\n",
      "INFO:QMCTorch|  epoch done in 0.74 sec.\n",
      "INFO:QMCTorch|\n",
      "INFO:QMCTorch|  epoch 40\n",
      "INFO:QMCTorch|  energy   : -1.161880 +/- 0.002464\n",
      "INFO:QMCTorch|  variance : 0.174239\n",
      "INFO:QMCTorch|  epoch done in 0.48 sec.\n",
      "INFO:QMCTorch|\n",
      "INFO:QMCTorch|  epoch 41\n",
      "INFO:QMCTorch|  energy   : -1.158324 +/- 0.002542\n",
      "INFO:QMCTorch|  variance : 0.179777\n",
      "INFO:QMCTorch|  epoch done in 0.51 sec.\n",
      "INFO:QMCTorch|\n",
      "INFO:QMCTorch|  epoch 42\n",
      "INFO:QMCTorch|  energy   : -1.158298 +/- 0.002442\n",
      "INFO:QMCTorch|  variance : 0.172696\n",
      "INFO:QMCTorch|  epoch done in 0.50 sec.\n",
      "INFO:QMCTorch|\n",
      "INFO:QMCTorch|  epoch 43\n",
      "INFO:QMCTorch|  energy   : -1.160970 +/- 0.002371\n",
      "INFO:QMCTorch|  variance : 0.167662\n",
      "INFO:QMCTorch|  epoch done in 0.79 sec.\n",
      "INFO:QMCTorch|\n",
      "INFO:QMCTorch|  epoch 44\n",
      "INFO:QMCTorch|  energy   : -1.159741 +/- 0.002362\n",
      "INFO:QMCTorch|  variance : 0.166993\n",
      "INFO:QMCTorch|  epoch done in 0.51 sec.\n",
      "INFO:QMCTorch|\n",
      "INFO:QMCTorch|  epoch 45\n",
      "INFO:QMCTorch|  energy   : -1.162254 +/- 0.002349\n",
      "INFO:QMCTorch|  variance : 0.166119\n",
      "INFO:QMCTorch|  epoch done in 0.73 sec.\n",
      "INFO:QMCTorch|\n",
      "INFO:QMCTorch|  epoch 46\n"
     ]
    },
    {
     "name": "stdout",
     "output_type": "stream",
     "text": [
      "INFO:QMCTorch|  energy   : -1.160540 +/- 0.002314\n",
      "INFO:QMCTorch|  variance : 0.163611\n",
      "INFO:QMCTorch|  epoch done in 0.49 sec.\n",
      "INFO:QMCTorch|\n",
      "INFO:QMCTorch|  epoch 47\n",
      "INFO:QMCTorch|  energy   : -1.162938 +/- 0.002316\n",
      "INFO:QMCTorch|  variance : 0.163749\n",
      "INFO:QMCTorch|  epoch done in 0.49 sec.\n",
      "INFO:QMCTorch|\n",
      "INFO:QMCTorch|  epoch 48\n",
      "INFO:QMCTorch|  energy   : -1.163674 +/- 0.002214\n",
      "INFO:QMCTorch|  variance : 0.156522\n",
      "INFO:QMCTorch|  epoch done in 0.51 sec.\n",
      "INFO:QMCTorch|\n",
      "INFO:QMCTorch|  epoch 49\n",
      "INFO:QMCTorch|  energy   : -1.163112 +/- 0.002278\n",
      "INFO:QMCTorch|  variance : 0.161065\n",
      "INFO:QMCTorch|  epoch done in 0.50 sec.\n",
      "INFO:QMCTorch|\n",
      "INFO:QMCTorch| Warning : dump to hdf5\n",
      "INFO:QMCTorch| Object wf_opt already exists in H2_adf_dzp_QMCTorch.hdf5\n",
      "INFO:QMCTorch| Object name changed to wf_opt_7\n",
      "INFO:QMCTorch|\n"
     ]
    }
   ],
   "source": [
    "obs = solver.run(50)"
   ]
  },
  {
   "cell_type": "code",
   "execution_count": 14,
   "metadata": {},
   "outputs": [
    {
     "data": {
      "image/png": "[encoded data removed]",
      "text/plain": [
       "<Figure size 640x480 with 2 Axes>"
      ]
     },
     "metadata": {},
     "output_type": "display_data"
    }
   ],
   "source": [
    "plot_energy(obs.local_energy, e0=-1.1645, show_variance=True)"
   ]
  },
  {
   "cell_type": "code",
   "execution_count": null,
   "metadata": {},
   "outputs": [],
   "source": []
  }
 ],
 "metadata": {
  "kernelspec": {
   "display_name": "Python 3 (ipykernel)",
   "language": "python",
   "name": "python3"
  },
  "language_info": {
   "codemirror_mode": {
    "name": "ipython",
    "version": 3
   },
   "file_extension": ".py",
   "mimetype": "text/x-python",
   "name": "python",
   "nbconvert_exporter": "python",
   "pygments_lexer": "ipython3",
   "version": "3.8.0"
  }
 },
 "nbformat": 4,
 "nbformat_minor": 2
}
