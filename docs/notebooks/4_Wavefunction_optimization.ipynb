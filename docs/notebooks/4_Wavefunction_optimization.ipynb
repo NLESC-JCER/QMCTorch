{
 "cells": [
  {
   "cell_type": "markdown",
   "metadata": {},
   "source": [
    "# Wave Function Optimization\n",
    "\n",
    "We present here a complete example on how to use QMCTorch on a H2 molecule.\n",
    "We first need to import all the relevant modules :"
   ]
  },
  {
   "cell_type": "code",
   "execution_count": 1,
   "metadata": {},
   "outputs": [
    {
     "name": "stdout",
     "output_type": "stream",
     "text": [
      "INFO:QMCTorch|  ____    __  ______________             _\n",
      "INFO:QMCTorch| / __ \\  /  |/  / ___/_  __/__  ________/ /  \n",
      "INFO:QMCTorch|/ /_/ / / /|_/ / /__  / / / _ \\/ __/ __/ _ \\ \n",
      "INFO:QMCTorch|\\___\\_\\/_/  /_/\\___/ /_/  \\___/_/  \\__/_//_/ \n",
      "INFO:QMCTorch|\n",
      "INFO:QMCTorch|0.4.0\n"
     ]
    }
   ],
   "source": [
    "from torch import optim\n",
    "from qmctorch.scf import Molecule\n",
    "from qmctorch.wavefunction import SlaterJastrow\n",
    "from qmctorch.solver import Solver\n",
    "from qmctorch.sampler import Metropolis\n",
    "from qmctorch.utils import set_torch_double_precision\n",
    "from qmctorch.utils.plot_data import plot_energy\n",
    "set_torch_double_precision()"
   ]
  },
  {
   "cell_type": "markdown",
   "metadata": {},
   "source": [
    "## Creating the system\n",
    "\n",
    "The first step is to define a molecule. We here use a H2 molecule with both hydrgen atoms\n",
    "on the z-axis and separated by 1.38 atomic unit. We choose here to use Slater orbitals that can be otained via `ADF`. We simply here reload calculations to create the molecule"
   ]
  },
  {
   "cell_type": "code",
   "execution_count": 2,
   "metadata": {},
   "outputs": [
    {
     "name": "stdout",
     "output_type": "stream",
     "text": [
      "INFO:QMCTorch|\n",
      "INFO:QMCTorch| SCF Calculation\n",
      "INFO:QMCTorch|  Loading data from ./hdf5/H2_adf_dzp.hdf5\n"
     ]
    }
   ],
   "source": [
    "mol = Molecule(load='./hdf5/H2_adf_dzp.hdf5')"
   ]
  },
  {
   "cell_type": "markdown",
   "metadata": {},
   "source": [
    "We then define the wave function relative to this molecule. We also specify here\n",
    "the determinants we want to use in the CI expansion. We use here a to include all the single\n",
    "and double excitation with 2 electrons and 2 orbitals"
   ]
  },
  {
   "cell_type": "code",
   "execution_count": 3,
   "metadata": {},
   "outputs": [
    {
     "name": "stdout",
     "output_type": "stream",
     "text": [
      "INFO:QMCTorch|\n",
      "INFO:QMCTorch| Wave Function\n",
      "INFO:QMCTorch|  Backflow            : False\n",
      "INFO:QMCTorch|  Jastrow factor      : True\n",
      "INFO:QMCTorch|  Jastrow kernel      : ee -> PadeJastrowKernel\n",
      "INFO:QMCTorch|  Highest MO included : 10\n",
      "INFO:QMCTorch|  Configurations      : single_double(2,2)\n",
      "INFO:QMCTorch|  Number of confs     : 4\n",
      "INFO:QMCTorch|  Kinetic energy      : jacobi\n",
      "INFO:QMCTorch|  Number var  param   : 121\n",
      "INFO:QMCTorch|  Cuda support        : False\n"
     ]
    }
   ],
   "source": [
    "wf = SlaterJastrow(mol, configs='single_double(2,2)')"
   ]
  },
  {
   "cell_type": "markdown",
   "metadata": {},
   "source": [
    "As a sampler we use a simple Metropolis Hasting with 1000 walkers. The walkers are initially localized around the atoms.\n",
    "Each walker will perform 2000 steps of size 0.2 atomic unit and will only keep the last position of each walker (`ntherm=-1`).\n",
    "During each move all the the electrons are moved simultaneously within a normal distribution centered around their current location."
   ]
  },
  {
   "cell_type": "code",
   "execution_count": 4,
   "metadata": {},
   "outputs": [
    {
     "name": "stdout",
     "output_type": "stream",
     "text": [
      "INFO:QMCTorch|\n",
      "INFO:QMCTorch| Monte-Carlo Sampler\n",
      "INFO:QMCTorch|  Number of walkers   : 5000\n",
      "INFO:QMCTorch|  Number of steps     : 200\n",
      "INFO:QMCTorch|  Step size           : 0.2\n",
      "INFO:QMCTorch|  Thermalization steps: -1\n",
      "INFO:QMCTorch|  Decorelation steps  : 100\n",
      "INFO:QMCTorch|  Walkers init pos    : atomic\n",
      "INFO:QMCTorch|  Move type           : all-elec\n",
      "INFO:QMCTorch|  Move proba          : normal\n"
     ]
    }
   ],
   "source": [
    "sampler = Metropolis(nwalkers=5000,\n",
    "                     nstep=200, step_size=0.2,\n",
    "                     ntherm=-1, ndecor=100,\n",
    "                     nelec=wf.nelec, init=mol.domain('atomic'),\n",
    "                     move={'type': 'all-elec', 'proba': 'normal'})"
   ]
  },
  {
   "cell_type": "markdown",
   "metadata": {},
   "source": [
    "We will use the ADAM optimizer implemented in pytorch with custom learning rate for each layer.\n",
    "We also define a linear scheduler that will decrease the learning rate after 100 steps"
   ]
  },
  {
   "cell_type": "code",
   "execution_count": 5,
   "metadata": {},
   "outputs": [],
   "source": [
    "lr_dict = [{'params': wf.jastrow.parameters(), 'lr': 1E-2},\n",
    "           {'params': wf.ao.parameters(), 'lr': 1E-6},\n",
    "           {'params': wf.mo.parameters(), 'lr': 2E-3},\n",
    "           {'params': wf.fc.parameters(), 'lr': 2E-3}]\n",
    "opt = optim.Adam(lr_dict, lr=1E-3)\n"
   ]
  },
  {
   "cell_type": "markdown",
   "metadata": {},
   "source": [
    "A scheduler can also be used to progressively decrease the value of the learning rate during the optimization."
   ]
  },
  {
   "cell_type": "code",
   "execution_count": 6,
   "metadata": {},
   "outputs": [],
   "source": [
    "scheduler = optim.lr_scheduler.StepLR(opt, step_size=100, gamma=0.90)"
   ]
  },
  {
   "cell_type": "markdown",
   "metadata": {},
   "source": [
    "We can now assemble the solver"
   ]
  },
  {
   "cell_type": "code",
   "execution_count": 7,
   "metadata": {},
   "outputs": [
    {
     "name": "stdout",
     "output_type": "stream",
     "text": [
      "INFO:QMCTorch|\n",
      "INFO:QMCTorch| QMC Solver \n",
      "INFO:QMCTorch|  WaveFunction        : SlaterJastrow\n",
      "INFO:QMCTorch|  Sampler             : Metropolis\n",
      "INFO:QMCTorch|  Optimizer           : Adam\n"
     ]
    }
   ],
   "source": [
    "solver = Solver(wf=wf, sampler=sampler, optimizer=opt, scheduler=None)"
   ]
  },
  {
   "cell_type": "markdown",
   "metadata": {},
   "source": [
    "## Configuring the solver\n",
    "\n",
    "Many parameters of the optimization can be controlled. We can specify which observale to track during the optimization. Here only the local energies will be recorded but one can also record the variational parameters"
   ]
  },
  {
   "cell_type": "code",
   "execution_count": 8,
   "metadata": {},
   "outputs": [],
   "source": [
    "solver.configure(track=['local_energy', 'parameters'])"
   ]
  },
  {
   "cell_type": "markdown",
   "metadata": {},
   "source": [
    "Some variational parameters can be frozen and therefore not optimized. We here freeze the MO coefficients and the AO parameters\n",
    "and therefore only the jastrow parametres and the CI coefficients will be optmized"
   ]
  },
  {
   "cell_type": "code",
   "execution_count": 9,
   "metadata": {},
   "outputs": [],
   "source": [
    "solver.configure(freeze=['ao'])"
   ]
  },
  {
   "cell_type": "markdown",
   "metadata": {},
   "source": [
    "Either the mean or the variance of local energies can be used as a loss function. We choose here to minimize the energy to optimize the wave function"
   ]
  },
  {
   "cell_type": "code",
   "execution_count": 10,
   "metadata": {},
   "outputs": [],
   "source": [
    "solver.configure(loss='energy')"
   ]
  },
  {
   "attachments": {},
   "cell_type": "markdown",
   "metadata": {},
   "source": [
    "The gradients of the wave function w.r.t. the variational parameters can be computed directly via automatic differntiation (`grad='auto'`) or manually (`grad='manual'`) via a reduced noise formula. We pick here a manual calculation"
   ]
  },
  {
   "cell_type": "code",
   "execution_count": 11,
   "metadata": {},
   "outputs": [],
   "source": [
    "solver.configure(grad='manual')"
   ]
  },
  {
   "cell_type": "markdown",
   "metadata": {},
   "source": [
    "We also configure the resampling so that the positions of the walkers are updated by performing\n",
    "25 MC steps from their previous positions after each optimization step."
   ]
  },
  {
   "cell_type": "code",
   "execution_count": 12,
   "metadata": {},
   "outputs": [],
   "source": [
    "solver.configure(resampling={'mode': 'update',\n",
    "                            'resample_every': 1,\n",
    "                            'nstep_update': 25})"
   ]
  },
  {
   "cell_type": "markdown",
   "metadata": {},
   "source": [
    "## Running the wave function optimization\n",
    "\n",
    "We can now run the optimization. We use here 50 optimization steps (epoch), using all the points\n",
    "in a single mini-batch."
   ]
  },
  {
   "cell_type": "code",
   "execution_count": 13,
   "metadata": {},
   "outputs": [
    {
     "name": "stdout",
     "output_type": "stream",
     "text": [
      "INFO:QMCTorch|  Initial Sampling    :\n",
      "INFO:QMCTorch|  done in 8.98 sec.\n",
      "INFO:QMCTorch|\n",
      "INFO:QMCTorch|  Optimization\n",
      "INFO:QMCTorch|  Task                :\n",
      "INFO:QMCTorch|  Number Parameters   : 115\n",
      "INFO:QMCTorch|  Number of epoch     : 50\n",
      "INFO:QMCTorch|  Batch size          : 5000\n",
      "INFO:QMCTorch|  Loss function       : energy\n",
      "INFO:QMCTorch|  Clip Loss           : False\n",
      "INFO:QMCTorch|  Gradients           : manual\n",
      "INFO:QMCTorch|  Resampling mode     : update\n",
      "INFO:QMCTorch|  Resampling every    : 1\n",
      "INFO:QMCTorch|  Resampling steps    : 25\n",
      "INFO:QMCTorch|  Output file         : H2_adf_dzp_QMCTorch.hdf5\n",
      "INFO:QMCTorch|  Checkpoint every    : None\n",
      "INFO:QMCTorch|\n",
      "INFO:QMCTorch|\n",
      "INFO:QMCTorch|  epoch 0 | 5000 sampling points\n",
      "INFO:QMCTorch|  energy   : -1.153304 +/- 0.003101\n",
      "INFO:QMCTorch|  variance : 0.219293\n",
      "INFO:QMCTorch|  epoch done in 0.90 sec.\n",
      "INFO:QMCTorch|\n",
      "INFO:QMCTorch|  epoch 1 | 5000 sampling points\n",
      "INFO:QMCTorch|  energy   : -1.155659 +/- 0.003169\n",
      "INFO:QMCTorch|  variance : 0.224092\n",
      "INFO:QMCTorch|  epoch done in 0.93 sec.\n",
      "INFO:QMCTorch|\n",
      "INFO:QMCTorch|  epoch 2 | 5000 sampling points\n",
      "INFO:QMCTorch|  energy   : -1.152185 +/- 0.003200\n",
      "INFO:QMCTorch|  variance : 0.226294\n",
      "INFO:QMCTorch|  epoch done in 0.94 sec.\n",
      "INFO:QMCTorch|\n",
      "INFO:QMCTorch|  epoch 3 | 5000 sampling points\n",
      "INFO:QMCTorch|  energy   : -1.153211 +/- 0.003131\n",
      "INFO:QMCTorch|  variance : 0.221362\n",
      "INFO:QMCTorch|  epoch done in 1.47 sec.\n",
      "INFO:QMCTorch|\n",
      "INFO:QMCTorch|  epoch 4 | 5000 sampling points\n",
      "INFO:QMCTorch|  energy   : -1.150649 +/- 0.003155\n",
      "INFO:QMCTorch|  variance : 0.223121\n",
      "INFO:QMCTorch|  epoch done in 1.99 sec.\n",
      "INFO:QMCTorch|\n",
      "INFO:QMCTorch|  epoch 5 | 5000 sampling points\n",
      "INFO:QMCTorch|  energy   : -1.155522 +/- 0.002993\n",
      "INFO:QMCTorch|  variance : 0.211605\n",
      "INFO:QMCTorch|  epoch done in 1.34 sec.\n",
      "INFO:QMCTorch|\n",
      "INFO:QMCTorch|  epoch 6 | 5000 sampling points\n",
      "INFO:QMCTorch|  energy   : -1.156894 +/- 0.003068\n",
      "INFO:QMCTorch|  variance : 0.216916\n",
      "INFO:QMCTorch|  epoch done in 0.94 sec.\n",
      "INFO:QMCTorch|\n",
      "INFO:QMCTorch|  epoch 7 | 5000 sampling points\n",
      "INFO:QMCTorch|  energy   : -1.151258 +/- 0.003171\n",
      "INFO:QMCTorch|  variance : 0.224249\n",
      "INFO:QMCTorch|  epoch done in 0.96 sec.\n",
      "INFO:QMCTorch|\n",
      "INFO:QMCTorch|  epoch 8 | 5000 sampling points\n",
      "INFO:QMCTorch|  energy   : -1.155236 +/- 0.003047\n",
      "INFO:QMCTorch|  variance : 0.215430\n",
      "INFO:QMCTorch|  epoch done in 1.09 sec.\n",
      "INFO:QMCTorch|\n",
      "INFO:QMCTorch|  epoch 9 | 5000 sampling points\n",
      "INFO:QMCTorch|  energy   : -1.159789 +/- 0.003029\n",
      "INFO:QMCTorch|  variance : 0.214214\n",
      "INFO:QMCTorch|  epoch done in 1.72 sec.\n",
      "INFO:QMCTorch|\n",
      "INFO:QMCTorch|  epoch 10 | 5000 sampling points\n",
      "INFO:QMCTorch|  energy   : -1.158574 +/- 0.002988\n",
      "INFO:QMCTorch|  variance : 0.211313\n",
      "INFO:QMCTorch|  epoch done in 1.05 sec.\n",
      "INFO:QMCTorch|\n",
      "INFO:QMCTorch|  epoch 11 | 5000 sampling points\n",
      "INFO:QMCTorch|  energy   : -1.150902 +/- 0.003044\n",
      "INFO:QMCTorch|  variance : 0.215222\n",
      "INFO:QMCTorch|  epoch done in 1.27 sec.\n",
      "INFO:QMCTorch|\n",
      "INFO:QMCTorch|  epoch 12 | 5000 sampling points\n",
      "INFO:QMCTorch|  energy   : -1.160083 +/- 0.002948\n",
      "INFO:QMCTorch|  variance : 0.208476\n",
      "INFO:QMCTorch|  epoch done in 1.82 sec.\n",
      "INFO:QMCTorch|\n",
      "INFO:QMCTorch|  epoch 13 | 5000 sampling points\n",
      "INFO:QMCTorch|  energy   : -1.153387 +/- 0.002933\n",
      "INFO:QMCTorch|  variance : 0.207402\n",
      "INFO:QMCTorch|  epoch done in 1.34 sec.\n",
      "INFO:QMCTorch|\n",
      "INFO:QMCTorch|  epoch 14 | 5000 sampling points\n",
      "INFO:QMCTorch|  energy   : -1.153635 +/- 0.002918\n",
      "INFO:QMCTorch|  variance : 0.206356\n",
      "INFO:QMCTorch|  epoch done in 3.69 sec.\n",
      "INFO:QMCTorch|\n",
      "INFO:QMCTorch|  epoch 15 | 5000 sampling points\n",
      "INFO:QMCTorch|  energy   : -1.155746 +/- 0.002946\n",
      "INFO:QMCTorch|  variance : 0.208307\n",
      "INFO:QMCTorch|  epoch done in 0.78 sec.\n",
      "INFO:QMCTorch|\n",
      "INFO:QMCTorch|  epoch 16 | 5000 sampling points\n",
      "INFO:QMCTorch|  energy   : -1.154100 +/- 0.002910\n",
      "INFO:QMCTorch|  variance : 0.205770\n",
      "INFO:QMCTorch|  epoch done in 1.01 sec.\n",
      "INFO:QMCTorch|\n",
      "INFO:QMCTorch|  epoch 17 | 5000 sampling points\n",
      "INFO:QMCTorch|  energy   : -1.153269 +/- 0.002961\n",
      "INFO:QMCTorch|  variance : 0.209391\n",
      "INFO:QMCTorch|  epoch done in 0.49 sec.\n",
      "INFO:QMCTorch|\n",
      "INFO:QMCTorch|  epoch 18 | 5000 sampling points\n",
      "INFO:QMCTorch|  energy   : -1.156582 +/- 0.002938\n",
      "INFO:QMCTorch|  variance : 0.207766\n",
      "INFO:QMCTorch|  epoch done in 0.57 sec.\n",
      "INFO:QMCTorch|\n",
      "INFO:QMCTorch|  epoch 19 | 5000 sampling points\n",
      "INFO:QMCTorch|  energy   : -1.155612 +/- 0.002848\n",
      "INFO:QMCTorch|  variance : 0.201404\n",
      "INFO:QMCTorch|  epoch done in 2.44 sec.\n",
      "INFO:QMCTorch|\n",
      "INFO:QMCTorch|  epoch 20 | 5000 sampling points\n",
      "INFO:QMCTorch|  energy   : -1.158437 +/- 0.002826\n",
      "INFO:QMCTorch|  variance : 0.199820\n",
      "INFO:QMCTorch|  epoch done in 2.86 sec.\n",
      "INFO:QMCTorch|\n",
      "INFO:QMCTorch|  epoch 21 | 5000 sampling points\n",
      "INFO:QMCTorch|  energy   : -1.160127 +/- 0.002771\n",
      "INFO:QMCTorch|  variance : 0.195917\n",
      "INFO:QMCTorch|  epoch done in 2.74 sec.\n",
      "INFO:QMCTorch|\n",
      "INFO:QMCTorch|  epoch 22 | 5000 sampling points\n",
      "INFO:QMCTorch|  energy   : -1.158174 +/- 0.002818\n",
      "INFO:QMCTorch|  variance : 0.199230\n",
      "INFO:QMCTorch|  epoch done in 2.26 sec.\n",
      "INFO:QMCTorch|\n",
      "INFO:QMCTorch|  epoch 23 | 5000 sampling points\n",
      "INFO:QMCTorch|  energy   : -1.161115 +/- 0.002796\n",
      "INFO:QMCTorch|  variance : 0.197693\n",
      "INFO:QMCTorch|  epoch done in 1.74 sec.\n",
      "INFO:QMCTorch|\n",
      "INFO:QMCTorch|  epoch 24 | 5000 sampling points\n",
      "INFO:QMCTorch|  energy   : -1.155997 +/- 0.002812\n",
      "INFO:QMCTorch|  variance : 0.198845\n",
      "INFO:QMCTorch|  epoch done in 2.08 sec.\n",
      "INFO:QMCTorch|\n",
      "INFO:QMCTorch|  epoch 25 | 5000 sampling points\n",
      "INFO:QMCTorch|  energy   : -1.160737 +/- 0.002724\n",
      "INFO:QMCTorch|  variance : 0.192616\n",
      "INFO:QMCTorch|  epoch done in 1.85 sec.\n",
      "INFO:QMCTorch|\n",
      "INFO:QMCTorch|  epoch 26 | 5000 sampling points\n",
      "INFO:QMCTorch|  energy   : -1.157945 +/- 0.002757\n",
      "INFO:QMCTorch|  variance : 0.194926\n",
      "INFO:QMCTorch|  epoch done in 1.20 sec.\n",
      "INFO:QMCTorch|\n",
      "INFO:QMCTorch|  epoch 27 | 5000 sampling points\n",
      "INFO:QMCTorch|  energy   : -1.155539 +/- 0.002749\n",
      "INFO:QMCTorch|  variance : 0.194393\n",
      "INFO:QMCTorch|  epoch done in 1.16 sec.\n",
      "INFO:QMCTorch|\n",
      "INFO:QMCTorch|  epoch 28 | 5000 sampling points\n",
      "INFO:QMCTorch|  energy   : -1.161800 +/- 0.002678\n",
      "INFO:QMCTorch|  variance : 0.189366\n",
      "INFO:QMCTorch|  epoch done in 1.18 sec.\n",
      "INFO:QMCTorch|\n",
      "INFO:QMCTorch|  epoch 29 | 5000 sampling points\n",
      "INFO:QMCTorch|  energy   : -1.162515 +/- 0.002736\n",
      "INFO:QMCTorch|  variance : 0.193450\n",
      "INFO:QMCTorch|  epoch done in 1.01 sec.\n",
      "INFO:QMCTorch|\n",
      "INFO:QMCTorch|  epoch 30 | 5000 sampling points\n",
      "INFO:QMCTorch|  energy   : -1.160824 +/- 0.002692\n",
      "INFO:QMCTorch|  variance : 0.190386\n",
      "INFO:QMCTorch|  epoch done in 0.96 sec.\n",
      "INFO:QMCTorch|\n",
      "INFO:QMCTorch|  epoch 31 | 5000 sampling points\n",
      "INFO:QMCTorch|  energy   : -1.161604 +/- 0.002610\n",
      "INFO:QMCTorch|  variance : 0.184571\n",
      "INFO:QMCTorch|  epoch done in 0.83 sec.\n",
      "INFO:QMCTorch|\n",
      "INFO:QMCTorch|  epoch 32 | 5000 sampling points\n",
      "INFO:QMCTorch|  energy   : -1.159206 +/- 0.002689\n",
      "INFO:QMCTorch|  variance : 0.190137\n",
      "INFO:QMCTorch|  epoch done in 1.42 sec.\n",
      "INFO:QMCTorch|\n",
      "INFO:QMCTorch|  epoch 33 | 5000 sampling points\n",
      "INFO:QMCTorch|  energy   : -1.157388 +/- 0.002722\n",
      "INFO:QMCTorch|  variance : 0.192486\n",
      "INFO:QMCTorch|  epoch done in 1.17 sec.\n",
      "INFO:QMCTorch|\n",
      "INFO:QMCTorch|  epoch 34 | 5000 sampling points\n",
      "INFO:QMCTorch|  energy   : -1.156440 +/- 0.002609\n",
      "INFO:QMCTorch|  variance : 0.184452\n",
      "INFO:QMCTorch|  epoch done in 1.15 sec.\n",
      "INFO:QMCTorch|\n",
      "INFO:QMCTorch|  epoch 35 | 5000 sampling points\n",
      "INFO:QMCTorch|  energy   : -1.160243 +/- 0.002627\n",
      "INFO:QMCTorch|  variance : 0.185752\n",
      "INFO:QMCTorch|  epoch done in 0.94 sec.\n",
      "INFO:QMCTorch|\n",
      "INFO:QMCTorch|  epoch 36 | 5000 sampling points\n",
      "INFO:QMCTorch|  energy   : -1.159007 +/- 0.002648\n",
      "INFO:QMCTorch|  variance : 0.187254\n",
      "INFO:QMCTorch|  epoch done in 0.98 sec.\n",
      "INFO:QMCTorch|\n",
      "INFO:QMCTorch|  epoch 37 | 5000 sampling points\n",
      "INFO:QMCTorch|  energy   : -1.158291 +/- 0.002599\n",
      "INFO:QMCTorch|  variance : 0.183759\n",
      "INFO:QMCTorch|  epoch done in 1.18 sec.\n",
      "INFO:QMCTorch|\n",
      "INFO:QMCTorch|  epoch 38 | 5000 sampling points\n",
      "INFO:QMCTorch|  energy   : -1.157650 +/- 0.002551\n",
      "INFO:QMCTorch|  variance : 0.180350\n",
      "INFO:QMCTorch|  epoch done in 2.74 sec.\n",
      "INFO:QMCTorch|\n",
      "INFO:QMCTorch|  epoch 39 | 5000 sampling points\n",
      "INFO:QMCTorch|  energy   : -1.159827 +/- 0.002525\n",
      "INFO:QMCTorch|  variance : 0.178522\n",
      "INFO:QMCTorch|  epoch done in 2.30 sec.\n",
      "INFO:QMCTorch|\n",
      "INFO:QMCTorch|  epoch 40 | 5000 sampling points\n",
      "INFO:QMCTorch|  energy   : -1.157584 +/- 0.002504\n",
      "INFO:QMCTorch|  variance : 0.177035\n",
      "INFO:QMCTorch|  epoch done in 2.91 sec.\n",
      "INFO:QMCTorch|\n",
      "INFO:QMCTorch|  epoch 41 | 5000 sampling points\n",
      "INFO:QMCTorch|  energy   : -1.158806 +/- 0.002519\n",
      "INFO:QMCTorch|  variance : 0.178098\n",
      "INFO:QMCTorch|  epoch done in 1.46 sec.\n",
      "INFO:QMCTorch|\n",
      "INFO:QMCTorch|  epoch 42 | 5000 sampling points\n",
      "INFO:QMCTorch|  energy   : -1.161551 +/- 0.002507\n",
      "INFO:QMCTorch|  variance : 0.177290\n",
      "INFO:QMCTorch|  epoch done in 1.45 sec.\n",
      "INFO:QMCTorch|\n",
      "INFO:QMCTorch|  epoch 43 | 5000 sampling points\n",
      "INFO:QMCTorch|  energy   : -1.163030 +/- 0.002499\n",
      "INFO:QMCTorch|  variance : 0.176710\n",
      "INFO:QMCTorch|  epoch done in 2.92 sec.\n",
      "INFO:QMCTorch|\n",
      "INFO:QMCTorch|  epoch 44 | 5000 sampling points\n",
      "INFO:QMCTorch|  energy   : -1.160648 +/- 0.002490\n",
      "INFO:QMCTorch|  variance : 0.176093\n",
      "INFO:QMCTorch|  epoch done in 1.26 sec.\n",
      "INFO:QMCTorch|\n",
      "INFO:QMCTorch|  epoch 45 | 5000 sampling points\n",
      "INFO:QMCTorch|  energy   : -1.163787 +/- 0.002421\n",
      "INFO:QMCTorch|  variance : 0.171166\n",
      "INFO:QMCTorch|  epoch done in 0.32 sec.\n",
      "INFO:QMCTorch|\n",
      "INFO:QMCTorch|  epoch 46 | 5000 sampling points\n",
      "INFO:QMCTorch|  energy   : -1.162756 +/- 0.002442\n",
      "INFO:QMCTorch|  variance : 0.172642\n",
      "INFO:QMCTorch|  epoch done in 0.28 sec.\n",
      "INFO:QMCTorch|\n",
      "INFO:QMCTorch|  epoch 47 | 5000 sampling points\n",
      "INFO:QMCTorch|  energy   : -1.157566 +/- 0.002421\n",
      "INFO:QMCTorch|  variance : 0.171162\n",
      "INFO:QMCTorch|  epoch done in 0.27 sec.\n",
      "INFO:QMCTorch|\n",
      "INFO:QMCTorch|  epoch 48 | 5000 sampling points\n",
      "INFO:QMCTorch|  energy   : -1.166451 +/- 0.002426\n",
      "INFO:QMCTorch|  variance : 0.171512\n",
      "INFO:QMCTorch|  epoch done in 0.28 sec.\n",
      "INFO:QMCTorch|\n",
      "INFO:QMCTorch|  epoch 49 | 5000 sampling points\n",
      "INFO:QMCTorch|  energy   : -1.163040 +/- 0.002371\n",
      "INFO:QMCTorch|  variance : 0.167653\n",
      "INFO:QMCTorch|  epoch done in 0.26 sec.\n"
     ]
    }
   ],
   "source": [
    "obs = solver.run(50)"
   ]
  },
  {
   "cell_type": "code",
   "execution_count": 14,
   "metadata": {},
   "outputs": [
    {
     "data": {
      "image/png": "[encoded data removed]",
      "text/plain": [
       "<Figure size 640x480 with 2 Axes>"
      ]
     },
     "metadata": {},
     "output_type": "display_data"
    }
   ],
   "source": [
    "plot_energy(obs.local_energy, e0=-1.1645, show_variance=True)"
   ]
  },
  {
   "cell_type": "code",
   "execution_count": null,
   "metadata": {},
   "outputs": [],
   "source": []
  }
 ],
 "metadata": {
  "kernelspec": {
   "display_name": "Python 3 (ipykernel)",
   "language": "python",
   "name": "python3"
  },
  "language_info": {
   "codemirror_mode": {
    "name": "ipython",
    "version": 3
   },
   "file_extension": ".py",
   "mimetype": "text/x-python",
   "name": "python",
   "nbconvert_exporter": "python",
   "pygments_lexer": "ipython3",
   "version": "3.8.0"
  }
 },
 "nbformat": 4,
 "nbformat_minor": 4
}
