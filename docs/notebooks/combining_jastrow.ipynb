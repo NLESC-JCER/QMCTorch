{
 "cells": [
  {
   "attachments": {},
   "cell_type": "markdown",
   "metadata": {},
   "source": [
    "# Combining several Jastrow Factors\n",
    "\n",
    "It is often useful to use mutliple jastrow factors to go beyond the simple electron-electron Jastrow. We show here how to do that easily through our "
   ]
  },
  {
   "cell_type": "code",
   "execution_count": null,
   "metadata": {},
   "outputs": [],
   "source": [
    "from qmctorch.scf import Molecule\n",
    "from qmctorch.wavefunction import SlaterJastrow\n",
    "\n",
    "from qmctorch.wavefunction.jastrows.elec_elec import (\n",
    "    JastrowFactor as JastrowFactorElecElec,\n",
    "    FullyConnectedJastrowKernel as FCEE,\n",
    ")\n",
    "from qmctorch.wavefunction.jastrows.elec_nuclei import (\n",
    "    JastrowFactor as JastrowFactorElecNuclei,\n",
    "    FullyConnectedJastrowKernel as FCEN,\n",
    ")"
   ]
  },
  {
   "attachments": {},
   "cell_type": "markdown",
   "metadata": {},
   "source": [
    "We can then use this base class to create a new Jastrow Factor. This is done in the same way one would create\n",
    "a new neural network layer in pytorch."
   ]
  },
  {
   "attachments": {},
   "cell_type": "markdown",
   "metadata": {},
   "source": [
    "We first need a molecule"
   ]
  },
  {
   "cell_type": "code",
   "execution_count": null,
   "metadata": {},
   "outputs": [],
   "source": [
    "mol = Molecule(\n",
    "        atom=\"Li 0 0 0; H 0 0 3.14\", \n",
    "        unit='bohr', \n",
    "        calculator=\"pyscf\",\n",
    "        basis=\"sto-3g\",\n",
    "        redo_scf=True)"
   ]
  },
  {
   "attachments": {},
   "cell_type": "markdown",
   "metadata": {},
   "source": [
    "We are going to use here to predefined Jastrow factors, one for electron-electron interactions and one for electon-nuclei interactions. Both use a fully connected neural network "
   ]
  },
  {
   "cell_type": "code",
   "execution_count": null,
   "metadata": {},
   "outputs": [],
   "source": [
    "# elec-elec jastrow factor\n",
    "jastrow_ee = JastrowFactorElecElec(mol, FCEE)\n",
    "\n",
    "# elec-nuclei jastrow factor\n",
    "jastrow_en = JastrowFactorElecNuclei(mol, FCEN)"
   ]
  },
  {
   "attachments": {},
   "cell_type": "markdown",
   "metadata": {},
   "source": [
    "We can then pass a list containing these two jastrow factors to the wave function to combine them"
   ]
  },
  {
   "cell_type": "code",
   "execution_count": null,
   "metadata": {},
   "outputs": [],
   "source": [
    "wf = SlaterJastrow(mol, jastrow=[jastrow_ee, jastrow_en])"
   ]
  }
 ],
 "metadata": {
  "kernelspec": {
   "display_name": "qmctorch",
   "language": "python",
   "name": "python3"
  },
  "language_info": {
   "codemirror_mode": {
    "name": "ipython",
    "version": 3
   },
   "file_extension": ".py",
   "mimetype": "text/x-python",
   "name": "python",
   "nbconvert_exporter": "python",
   "pygments_lexer": "ipython3",
   "version": "3.8.0"
  },
  "orig_nbformat": 4
 },
 "nbformat": 4,
 "nbformat_minor": 2
}
