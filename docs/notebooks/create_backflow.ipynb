{
 "cells": [
  {
   "attachments": {},
   "cell_type": "markdown",
   "metadata": {},
   "source": [
    "# Creating your own Backflow transformation\n",
    "\n",
    "We present here how to create your own backflow transformation and use it in QMCTorch.\n",
    "During the import you must import the base class of the backflow kernel. We aso create a H2 molecule"
   ]
  },
  {
   "cell_type": "code",
   "execution_count": 4,
   "metadata": {},
   "outputs": [
    {
     "name": "stdout",
     "output_type": "stream",
     "text": [
      "INFO:QMCTorch|\n",
      "INFO:QMCTorch| SCF Calculation\n",
      "INFO:QMCTorch|  Running scf  calculation\n",
      "converged SCF energy = -1.06599946214331\n",
      "INFO:QMCTorch|  Molecule name       : H2\n",
      "INFO:QMCTorch|  Number of electrons : 2\n",
      "INFO:QMCTorch|  SCF calculator      : pyscf\n",
      "INFO:QMCTorch|  Basis set           : sto-3g\n",
      "INFO:QMCTorch|  SCF                 : HF\n",
      "INFO:QMCTorch|  Number of AOs       : 2\n",
      "INFO:QMCTorch|  Number of MOs       : 2\n",
      "INFO:QMCTorch|  SCF Energy          : -1.066 Hartree\n"
     ]
    }
   ],
   "source": [
    "import torch\n",
    "from qmctorch.scf import Molecule\n",
    "from qmctorch.wavefunction import SlaterJastrowBackFlow\n",
    "from qmctorch.wavefunction.orbitals.backflow.kernels import BackFlowKernelBase\n",
    "mol = Molecule(atom='H 0. 0. 0; H 0. 0. 1.', unit='bohr', redo_scf=True)"
   ]
  },
  {
   "attachments": {},
   "cell_type": "markdown",
   "metadata": {},
   "source": [
    "We can then use this base class to create a new backflow transformation kernel.\n",
    "This is done in the same way one would create a new neural network layer in pytorch"
   ]
  },
  {
   "cell_type": "code",
   "execution_count": 5,
   "metadata": {},
   "outputs": [],
   "source": [
    "from torch import nn \n",
    "class MyBackflow(BackFlowKernelBase):\n",
    "    def __init__(self, mol, cuda, size=16):\n",
    "        super().__init__(mol, cuda)\n",
    "        self.fc1 = nn.Linear(1, size, bias=False)\n",
    "        self.fc2 = nn.Linear(size, 1, bias=False)\n",
    "    def forward(self, x):\n",
    "        original_shape = x.shape\n",
    "        x = x.reshape(-1,1)\n",
    "        x = self.fc2(self.fc1(x))\n",
    "        return x.reshape(*original_shape)"
   ]
  },
  {
   "attachments": {},
   "cell_type": "markdown",
   "metadata": {},
   "source": [
    "This backflow transformation consists of two fully connected layers. The calculation of the first and second derivative are then done via automatic differentiation\n",
    "as implemented in the `BackFlowKernelBase` class. To use this new kernel in the `SlaterJastrowBackFlow` wave function ansatz we simply pass the class name as argument of the `backflow_kernel` keyword argument :"
   ]
  },
  {
   "cell_type": "code",
   "execution_count": 6,
   "metadata": {},
   "outputs": [
    {
     "name": "stdout",
     "output_type": "stream",
     "text": [
      "INFO:QMCTorch|\n",
      "INFO:QMCTorch| Wave Function\n",
      "INFO:QMCTorch|  Jastrow factor      : True\n",
      "INFO:QMCTorch|  Jastrow kernel      : PadeJastrowKernel\n",
      "INFO:QMCTorch|  Highest MO included : 2\n",
      "INFO:QMCTorch|  Configurations      : ground_state\n",
      "INFO:QMCTorch|  Number of confs     : 1\n",
      "INFO:QMCTorch|  Kinetic energy      : jacobi\n",
      "INFO:QMCTorch|  Number var  param   : 146\n",
      "INFO:QMCTorch|  Cuda support        : False\n"
     ]
    }
   ],
   "source": [
    "wf = SlaterJastrowBackFlow(mol, \n",
    "                   backflow_kernel=MyBackflow,\n",
    "                   backflow_kernel_kwargs={'size' : 64})"
   ]
  },
  {
   "cell_type": "code",
   "execution_count": 7,
   "metadata": {},
   "outputs": [
    {
     "name": "stdout",
     "output_type": "stream",
     "text": [
      "tensor([[0.1134],\n",
      "        [0.1509],\n",
      "        [0.1096],\n",
      "        [0.1093],\n",
      "        [0.2632],\n",
      "        [0.1523],\n",
      "        [0.1253],\n",
      "        [0.1424],\n",
      "        [0.1324],\n",
      "        [0.0665]], grad_fn=<MulBackward0>)\n"
     ]
    }
   ],
   "source": [
    "pos = torch.rand(10, wf.nelec*3)\n",
    "print(wf(pos))"
   ]
  },
  {
   "cell_type": "code",
   "execution_count": null,
   "metadata": {},
   "outputs": [],
   "source": []
  }
 ],
 "metadata": {
  "kernelspec": {
   "display_name": "qmctorch",
   "language": "python",
   "name": "python3"
  },
  "language_info": {
   "codemirror_mode": {
    "name": "ipython",
    "version": 3
   },
   "file_extension": ".py",
   "mimetype": "text/x-python",
   "name": "python",
   "nbconvert_exporter": "python",
   "pygments_lexer": "ipython3",
   "version": "3.8.0"
  },
  "orig_nbformat": 4
 },
 "nbformat": 4,
 "nbformat_minor": 2
}
