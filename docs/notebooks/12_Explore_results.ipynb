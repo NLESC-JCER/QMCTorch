{
 "cells": [
  {
   "cell_type": "code",
   "execution_count": 8,
   "metadata": {},
   "outputs": [],
   "source": [
    "import h5py\n",
    "import matplotlib.pyplot as plt"
   ]
  },
  {
   "attachments": {},
   "cell_type": "markdown",
   "metadata": {},
   "source": [
    "# Explore the options used in the solver"
   ]
  },
  {
   "cell_type": "code",
   "execution_count": 11,
   "metadata": {},
   "outputs": [
    {
     "name": "stdout",
     "output_type": "stream",
     "text": [
      "<KeysViewHDF5 ['cuda', 'hdf5file', 'opt', 'qmctorch_version', 'sampler', 'save_model', 'wf']>\n"
     ]
    }
   ],
   "source": [
    "with h5py.File('./hdf5/H2_adf_dzp_QMCTorch.hdf5', 'r') as f5:\n",
    "    print(f5['Solver'].keys())"
   ]
  },
  {
   "cell_type": "code",
   "execution_count": 12,
   "metadata": {},
   "outputs": [
    {
     "name": "stdout",
     "output_type": "stream",
     "text": [
      "<KeysViewHDF5 ['ao', 'atoms', 'configs', 'configs_method', 'cuda', 'fc', 'gradients', 'highest_occ_mo', 'include_all_mo', 'jastrow', 'jastrow_type', 'kinetic', 'kinetic_energy', 'kinetic_method', 'mo', 'mol', 'natom', 'nci', 'ndim', 'ndim_tot', 'nelec', 'nmo_opt', 'orb_confs', 'pool', 'training', 'use_backflow', 'use_jastrow']>\n"
     ]
    }
   ],
   "source": [
    "with h5py.File('./hdf5/H2_adf_dzp_QMCTorch.hdf5', 'r') as f5:\n",
    "    print(f5['Solver']['wf'].keys())"
   ]
  },
  {
   "cell_type": "code",
   "execution_count": 16,
   "metadata": {},
   "outputs": [
    {
     "name": "stdout",
     "output_type": "stream",
     "text": [
      "b'single_double(2,2)'\n"
     ]
    }
   ],
   "source": [
    "with h5py.File('./hdf5/H2_adf_dzp_QMCTorch.hdf5', 'r') as f5:\n",
    "    print(f5['Solver']['wf']['configs_method'][()])"
   ]
  },
  {
   "attachments": {},
   "cell_type": "markdown",
   "metadata": {},
   "source": [
    "# Explore the results of the wave function optimization"
   ]
  },
  {
   "cell_type": "code",
   "execution_count": 17,
   "metadata": {},
   "outputs": [
    {
     "name": "stdout",
     "output_type": "stream",
     "text": [
      "<KeysViewHDF5 ['ao.bas_exp', 'energy', 'fc.weight', 'geometry', 'jastrow.jastrow_kernel.weight', 'local_energy', 'mo.mo_modifier', 'models', 'qmctorch_version']>\n"
     ]
    }
   ],
   "source": [
    "with h5py.File('./hdf5/H2_adf_dzp_QMCTorch.hdf5', 'r') as f5:\n",
    "    print(f5['wf_opt'].keys())"
   ]
  },
  {
   "cell_type": "code",
   "execution_count": 18,
   "metadata": {},
   "outputs": [],
   "source": [
    "with h5py.File('./hdf5/H2_adf_dzp_QMCTorch.hdf5', 'r') as f5:\n",
    "    det_weigts = f5['wf_opt']['fc.weight'][()]"
   ]
  },
  {
   "cell_type": "code",
   "execution_count": 19,
   "metadata": {},
   "outputs": [
    {
     "data": {
      "text/plain": [
       "[<matplotlib.lines.Line2D at 0x743fd87eddc0>,\n",
       " <matplotlib.lines.Line2D at 0x743fd87ede20>,\n",
       " <matplotlib.lines.Line2D at 0x743fd87ede50>,\n",
       " <matplotlib.lines.Line2D at 0x743fd87edf40>]"
      ]
     },
     "execution_count": 19,
     "metadata": {},
     "output_type": "execute_result"
    },
    {
     "data": {
      "image/png": "[encoded data removed]",
      "text/plain": [
       "<Figure size 640x480 with 1 Axes>"
      ]
     },
     "metadata": {},
     "output_type": "display_data"
    }
   ],
   "source": [
    "plt.plot(det_weigts.squeeze())"
   ]
  },
  {
   "cell_type": "code",
   "execution_count": null,
   "metadata": {},
   "outputs": [],
   "source": []
  }
 ],
 "metadata": {
  "kernelspec": {
   "display_name": "qmctorch",
   "language": "python",
   "name": "python3"
  },
  "language_info": {
   "codemirror_mode": {
    "name": "ipython",
    "version": 3
   },
   "file_extension": ".py",
   "mimetype": "text/x-python",
   "name": "python",
   "nbconvert_exporter": "python",
   "pygments_lexer": "ipython3",
   "version": "3.8.0"
  },
  "orig_nbformat": 4
 },
 "nbformat": 4,
 "nbformat_minor": 2
}
