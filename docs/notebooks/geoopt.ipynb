{
 "cells": [
  {
   "attachments": {},
   "cell_type": "markdown",
   "metadata": {},
   "source": [
    "# Geometry Optimization\n",
    "\n",
    "We present here a complete example on how to use QMCTorch to optimize the geometry of a H2 molecule.\n",
    "As previously the firs task is to import all the modules needed"
   ]
  },
  {
   "cell_type": "code",
   "execution_count": 1,
   "metadata": {},
   "outputs": [
    {
     "name": "stdout",
     "output_type": "stream",
     "text": [
      "INFO:QMCTorch|  ____    __  ______________             _\n",
      "INFO:QMCTorch| / __ \\  /  |/  / ___/_  __/__  ________/ /  \n",
      "INFO:QMCTorch|/ /_/ / / /|_/ / /__  / / / _ \\/ __/ __/ _ \\ \n",
      "INFO:QMCTorch|\\___\\_\\/_/  /_/\\___/ /_/  \\___/_/  \\__/_//_/ \n"
     ]
    }
   ],
   "source": [
    "from torch import optim\n",
    "from torch.optim import Adam\n",
    "from qmctorch.wavefunction import SlaterJastrow\n",
    "from qmctorch.solver import SolverSlaterJastrow\n",
    "from qmctorch.sampler import Metropolis\n",
    "from qmctorch.scf import Molecule\n",
    "from qmctorch.utils import plot_energy"
   ]
  },
  {
   "attachments": {},
   "cell_type": "markdown",
   "metadata": {},
   "source": [
    "We then define the molecule. We create a H2 molecule with a short atomic distance that we will then try to relax\n"
   ]
  },
  {
   "cell_type": "code",
   "execution_count": 2,
   "metadata": {},
   "outputs": [
    {
     "name": "stdout",
     "output_type": "stream",
     "text": [
      "INFO:QMCTorch|\n",
      "INFO:QMCTorch| SCF Calculation\n",
      "INFO:QMCTorch|  Removing H2_pyscf_sto-3g.hdf5 and redo SCF calculations\n",
      "INFO:QMCTorch|  Running scf  calculation\n",
      "converged SCF energy = -0.40332644165448\n",
      "INFO:QMCTorch|  Molecule name       : H2\n",
      "INFO:QMCTorch|  Number of electrons : 2\n",
      "INFO:QMCTorch|  SCF calculator      : pyscf\n",
      "INFO:QMCTorch|  Basis set           : sto-3g\n",
      "INFO:QMCTorch|  SCF                 : HF\n",
      "INFO:QMCTorch|  Number of AOs       : 2\n",
      "INFO:QMCTorch|  Number of MOs       : 2\n",
      "INFO:QMCTorch|  SCF Energy          : -0.403 Hartree\n"
     ]
    }
   ],
   "source": [
    "mol = Molecule(atom = 'H 0. 0. 0.25; H 0. 0. -0.25', unit='bohr', calculator='pyscf', basis='sto-3g', redo_scf=True)"
   ]
  },
  {
   "attachments": {},
   "cell_type": "markdown",
   "metadata": {},
   "source": [
    "As for the wave function optimization example we need to define a wave function, a sampler an optimizer and a solver."
   ]
  },
  {
   "cell_type": "code",
   "execution_count": 3,
   "metadata": {},
   "outputs": [
    {
     "name": "stdout",
     "output_type": "stream",
     "text": [
      "INFO:QMCTorch|\n",
      "INFO:QMCTorch| Wave Function\n",
      "INFO:QMCTorch|  Jastrow factor      : True\n",
      "INFO:QMCTorch|  Jastrow kernel      : PadeJastrowKernel\n",
      "INFO:QMCTorch|  Highest MO included : 2\n",
      "INFO:QMCTorch|  Configurations      : ground_state\n",
      "INFO:QMCTorch|  Number of confs     : 1\n",
      "INFO:QMCTorch|  Kinetic energy      : jacobi\n",
      "INFO:QMCTorch|  Number var  param   : 18\n",
      "INFO:QMCTorch|  Cuda support        : False\n",
      "INFO:QMCTorch|  Fit GTOs to STOs  : \n",
      "INFO:QMCTorch|\n",
      "INFO:QMCTorch| Wave Function\n",
      "INFO:QMCTorch|  Jastrow factor      : True\n",
      "INFO:QMCTorch|  Jastrow kernel      : PadeJastrowKernel\n",
      "INFO:QMCTorch|  Highest MO included : 2\n",
      "INFO:QMCTorch|  Configurations      : ground_state\n",
      "INFO:QMCTorch|  Number of confs     : 1\n",
      "INFO:QMCTorch|  Kinetic energy      : jacobi\n",
      "INFO:QMCTorch|  Number var  param   : 14\n",
      "INFO:QMCTorch|  Cuda support        : False\n",
      "INFO:QMCTorch|\n",
      "INFO:QMCTorch| Monte-Carlo Sampler\n",
      "INFO:QMCTorch|  Number of walkers   : 1000\n",
      "INFO:QMCTorch|  Number of steps     : 2000\n",
      "INFO:QMCTorch|  Step size           : 0.5\n",
      "INFO:QMCTorch|  Thermalization steps: -1\n",
      "INFO:QMCTorch|  Decorelation steps  : 1\n",
      "INFO:QMCTorch|  Walkers init pos    : normal\n",
      "INFO:QMCTorch|  Move type           : all-elec\n",
      "INFO:QMCTorch|  Move proba          : normal\n"
     ]
    }
   ],
   "source": [
    "# wave function with only the ground state determinant\n",
    "wf = SlaterJastrow(mol, configs='ground_state').gto2sto()\n",
    "\n",
    "# sampler\n",
    "sampler = Metropolis(nwalkers=200, nstep=2000, step_size=0.5,\n",
    "                     nelec=wf.nelec, ndim=wf.ndim,\n",
    "                     init=mol.domain('normal'),\n",
    "                     move={'type': 'all-elec', 'proba': 'normal'})\n",
    "# optimizer\n",
    "opt = Adam(wf.parameters(), lr=0.005)\n",
    "\n",
    "# scheduler\n",
    "scheduler = optim.lr_scheduler.StepLR(opt, step_size=20, gamma=0.75)"
   ]
  },
  {
   "cell_type": "code",
   "execution_count": 5,
   "metadata": {},
   "outputs": [
    {
     "name": "stdout",
     "output_type": "stream",
     "text": [
      "INFO:QMCTorch|\n",
      "INFO:QMCTorch| Warning : dump to hdf5\n",
      "INFO:QMCTorch| Object SolverSlaterJastrow already exists in H2_pyscf_sto-3g_QMCTorch.hdf5\n",
      "INFO:QMCTorch| Object name changed to SolverSlaterJastrow_2\n",
      "INFO:QMCTorch|\n",
      "INFO:QMCTorch|\n",
      "INFO:QMCTorch| QMC Solver \n",
      "INFO:QMCTorch|  WaveFunction        : SlaterJastrow\n",
      "INFO:QMCTorch|  Sampler             : Metropolis\n",
      "INFO:QMCTorch|  Optimizer           : Adam\n",
      "INFO:QMCTorch|  Scheduler           : StepLR\n"
     ]
    }
   ],
   "source": [
    "solver = SolverSlaterJastrow(wf=wf,\n",
    "                       sampler=sampler,\n",
    "                       optimizer=opt,\n",
    "                       scheduler=scheduler)\n",
    "solver.configure(loss='energy', grad='manual', track=['local_energy','geometry'])"
   ]
  },
  {
   "attachments": {},
   "cell_type": "markdown",
   "metadata": {},
   "source": [
    "To optimize the geometry of the molecule we must use the `set_params_requires_grad` method of the solver. We here set all the wave function parameters and all the atomic positions as variational parameters, leading to a simultaneous optimization of the wave function and of the atomic coordinates. We can then run the optimization here using 50 epochs"
   ]
  },
  {
   "cell_type": "code",
   "execution_count": 6,
   "metadata": {},
   "outputs": [
    {
     "ename": "RuntimeError",
     "evalue": "expected scalar type Double but found Float",
     "output_type": "error",
     "traceback": [
      "\u001b[0;31m---------------------------------------------------------------------------\u001b[0m",
      "\u001b[0;31mRuntimeError\u001b[0m                              Traceback (most recent call last)",
      "Cell \u001b[0;32mIn[6], line 2\u001b[0m\n\u001b[1;32m      1\u001b[0m solver\u001b[39m.\u001b[39mset_params_requires_grad(wf_params\u001b[39m=\u001b[39m\u001b[39mTrue\u001b[39;00m, geo_params\u001b[39m=\u001b[39m\u001b[39mTrue\u001b[39;00m)\n\u001b[0;32m----> 2\u001b[0m obs \u001b[39m=\u001b[39m solver\u001b[39m.\u001b[39;49mrun(\u001b[39m50\u001b[39;49m)\n",
      "File \u001b[0;32m~/QMCTorch/qmctorch/solver/solver_slater_jastrow.py:249\u001b[0m, in \u001b[0;36mSolverSlaterJastrow.run\u001b[0;34m(self, nepoch, batchsize, hdf5_group, chkpt_every, tqdm)\u001b[0m\n\u001b[1;32m    235\u001b[0m \u001b[39m\u001b[39m\u001b[39m\"\"\"Run a wave function optimization\u001b[39;00m\n\u001b[1;32m    236\u001b[0m \n\u001b[1;32m    237\u001b[0m \u001b[39mArgs:\u001b[39;00m\n\u001b[0;32m   (...)\u001b[0m\n\u001b[1;32m    245\u001b[0m \u001b[39m                                 Defaults to half the number of epoch\u001b[39;00m\n\u001b[1;32m    246\u001b[0m \u001b[39m\"\"\"\u001b[39;00m\n\u001b[1;32m    248\u001b[0m \u001b[39m# prepare the optimization\u001b[39;00m\n\u001b[0;32m--> 249\u001b[0m \u001b[39mself\u001b[39;49m\u001b[39m.\u001b[39;49mprepare_optimization(batchsize, chkpt_every, tqdm)\n\u001b[1;32m    250\u001b[0m \u001b[39mself\u001b[39m\u001b[39m.\u001b[39mlog_data_opt(nepoch, \u001b[39m'\u001b[39m\u001b[39mwave function optimization\u001b[39m\u001b[39m'\u001b[39m)\n\u001b[1;32m    252\u001b[0m \u001b[39m# run the epochs\u001b[39;00m\n",
      "File \u001b[0;32m~/QMCTorch/qmctorch/solver/solver_slater_jastrow.py:287\u001b[0m, in \u001b[0;36mSolverSlaterJastrow.prepare_optimization\u001b[0;34m(self, batchsize, chkpt_every, tqdm)\u001b[0m\n\u001b[1;32m    283\u001b[0m \u001b[39mself\u001b[39m\u001b[39m.\u001b[39mdataloader \u001b[39m=\u001b[39m DataLoader(\n\u001b[1;32m    284\u001b[0m     \u001b[39mself\u001b[39m\u001b[39m.\u001b[39mdataset, batch_size\u001b[39m=\u001b[39mbatchsize)\n\u001b[1;32m    286\u001b[0m \u001b[39mfor\u001b[39;00m ibatch, data \u001b[39min\u001b[39;00m \u001b[39menumerate\u001b[39m(\u001b[39mself\u001b[39m\u001b[39m.\u001b[39mdataloader):\n\u001b[0;32m--> 287\u001b[0m     \u001b[39mself\u001b[39;49m\u001b[39m.\u001b[39;49mstore_observable(data, ibatch\u001b[39m=\u001b[39;49mibatch)\n\u001b[1;32m    289\u001b[0m \u001b[39m# chkpt\u001b[39;00m\n\u001b[1;32m    290\u001b[0m \u001b[39mself\u001b[39m\u001b[39m.\u001b[39mchkpt_every \u001b[39m=\u001b[39m chkpt_every\n",
      "File \u001b[0;32m~/QMCTorch/qmctorch/solver/solver_base.py:200\u001b[0m, in \u001b[0;36mSolverBase.store_observable\u001b[0;34m(self, pos, local_energy, ibatch, **kwargs)\u001b[0m\n\u001b[1;32m    198\u001b[0m \u001b[39melif\u001b[39;00m \u001b[39mhasattr\u001b[39m(\u001b[39mself\u001b[39m\u001b[39m.\u001b[39mwf, obs):\n\u001b[1;32m    199\u001b[0m     func \u001b[39m=\u001b[39m \u001b[39mself\u001b[39m\u001b[39m.\u001b[39mwf\u001b[39m.\u001b[39m\u001b[39m__getattribute__\u001b[39m(obs)\n\u001b[0;32m--> 200\u001b[0m     data \u001b[39m=\u001b[39m func(pos)\n\u001b[1;32m    201\u001b[0m     \u001b[39mif\u001b[39;00m \u001b[39misinstance\u001b[39m(data, torch\u001b[39m.\u001b[39mTensor):\n\u001b[1;32m    202\u001b[0m         data \u001b[39m=\u001b[39m data\u001b[39m.\u001b[39mcpu()\u001b[39m.\u001b[39mdetach()\u001b[39m.\u001b[39mnumpy()\n",
      "File \u001b[0;32m~/QMCTorch/qmctorch/wavefunction/wf_base.py:190\u001b[0m, in \u001b[0;36mWaveFunction.local_energy\u001b[0;34m(self, pos)\u001b[0m\n\u001b[1;32m    166\u001b[0m \u001b[39mdef\u001b[39;00m \u001b[39mlocal_energy\u001b[39m(\u001b[39mself\u001b[39m, pos):\n\u001b[1;32m    167\u001b[0m \u001b[39m    \u001b[39m\u001b[39m\"\"\"Computes the local energy\u001b[39;00m\n\u001b[1;32m    168\u001b[0m \n\u001b[1;32m    169\u001b[0m \u001b[39m     .. math::\u001b[39;00m\n\u001b[0;32m   (...)\u001b[0m\n\u001b[1;32m    187\u001b[0m \u001b[39m        see kinetic_energy_jacobi in wf_orbital\u001b[39;00m\n\u001b[1;32m    188\u001b[0m \u001b[39m     \"\"\"\u001b[39;00m\n\u001b[0;32m--> 190\u001b[0m     ke \u001b[39m=\u001b[39m \u001b[39mself\u001b[39;49m\u001b[39m.\u001b[39;49mkinetic_energy(pos)\n\u001b[1;32m    192\u001b[0m     \u001b[39mreturn\u001b[39;00m ke  \\\n\u001b[1;32m    193\u001b[0m         \u001b[39m+\u001b[39m \u001b[39mself\u001b[39m\u001b[39m.\u001b[39mnuclear_potential(pos)  \\\n\u001b[1;32m    194\u001b[0m         \u001b[39m+\u001b[39m \u001b[39mself\u001b[39m\u001b[39m.\u001b[39melectronic_potential(pos) \\\n\u001b[1;32m    195\u001b[0m         \u001b[39m+\u001b[39m \u001b[39mself\u001b[39m\u001b[39m.\u001b[39mnuclear_repulsion()\n",
      "File \u001b[0;32m~/QMCTorch/qmctorch/wavefunction/slater_jastrow.py:137\u001b[0m, in \u001b[0;36mSlaterJastrow.kinetic_energy_jacobi\u001b[0;34m(self, x, **kwargs)\u001b[0m\n\u001b[1;32m    135\u001b[0m ao, dao, d2ao \u001b[39m=\u001b[39m \u001b[39mself\u001b[39m\u001b[39m.\u001b[39mao(x, derivative\u001b[39m=\u001b[39m[\u001b[39m0\u001b[39m, \u001b[39m1\u001b[39m, \u001b[39m2\u001b[39m])\n\u001b[1;32m    136\u001b[0m mo \u001b[39m=\u001b[39m \u001b[39mself\u001b[39m\u001b[39m.\u001b[39mao2mo(ao)\n\u001b[0;32m--> 137\u001b[0m bkin \u001b[39m=\u001b[39m \u001b[39mself\u001b[39;49m\u001b[39m.\u001b[39;49mget_kinetic_operator(x, ao, dao, d2ao, mo)\n\u001b[1;32m    139\u001b[0m kin \u001b[39m=\u001b[39m \u001b[39mself\u001b[39m\u001b[39m.\u001b[39mpool\u001b[39m.\u001b[39moperator(mo, bkin)\n\u001b[1;32m    140\u001b[0m psi \u001b[39m=\u001b[39m \u001b[39mself\u001b[39m\u001b[39m.\u001b[39mpool(mo)\n",
      "File \u001b[0;32m~/QMCTorch/qmctorch/wavefunction/slater_jastrow.py:255\u001b[0m, in \u001b[0;36mSlaterJastrow.get_kinetic_operator\u001b[0;34m(self, x, ao, dao, d2ao, mo)\u001b[0m\n\u001b[1;32m    244\u001b[0m \u001b[39mdef\u001b[39;00m \u001b[39mget_kinetic_operator\u001b[39m(\u001b[39mself\u001b[39m, x, ao, dao, d2ao,  mo):\n\u001b[1;32m    245\u001b[0m \u001b[39m    \u001b[39m\u001b[39m\"\"\"Compute the Bkin matrix\u001b[39;00m\n\u001b[1;32m    246\u001b[0m \n\u001b[1;32m    247\u001b[0m \u001b[39m    Args:\u001b[39;00m\n\u001b[0;32m   (...)\u001b[0m\n\u001b[1;32m    252\u001b[0m \u001b[39m        torch.tensor: matrix of the kinetic operator\u001b[39;00m\n\u001b[1;32m    253\u001b[0m \u001b[39m    \"\"\"\u001b[39;00m\n\u001b[0;32m--> 255\u001b[0m     bkin \u001b[39m=\u001b[39m \u001b[39mself\u001b[39;49m\u001b[39m.\u001b[39;49mao2mo(d2ao)\n\u001b[1;32m    257\u001b[0m     \u001b[39mif\u001b[39;00m \u001b[39mself\u001b[39m\u001b[39m.\u001b[39muse_jastrow:\n\u001b[1;32m    259\u001b[0m         jast, djast, d2jast \u001b[39m=\u001b[39m \u001b[39mself\u001b[39m\u001b[39m.\u001b[39mjastrow(x,\n\u001b[1;32m    260\u001b[0m                                            derivative\u001b[39m=\u001b[39m[\u001b[39m0\u001b[39m, \u001b[39m1\u001b[39m, \u001b[39m2\u001b[39m],\n\u001b[1;32m    261\u001b[0m                                            sum_grad\u001b[39m=\u001b[39m\u001b[39mFalse\u001b[39;00m)\n",
      "File \u001b[0;32m~/QMCTorch/qmctorch/wavefunction/slater_jastrow.py:96\u001b[0m, in \u001b[0;36mSlaterJastrow.ao2mo\u001b[0;34m(self, ao)\u001b[0m\n\u001b[1;32m     95\u001b[0m \u001b[39mdef\u001b[39;00m \u001b[39mao2mo\u001b[39m(\u001b[39mself\u001b[39m, ao):\n\u001b[0;32m---> 96\u001b[0m     \u001b[39mreturn\u001b[39;00m \u001b[39mself\u001b[39m\u001b[39m.\u001b[39mmo(\u001b[39mself\u001b[39;49m\u001b[39m.\u001b[39;49mmo_scf(ao))\n",
      "File \u001b[0;32m~/miniconda3/envs/qmctorch/lib/python3.8/site-packages/torch/nn/modules/module.py:1501\u001b[0m, in \u001b[0;36mModule._call_impl\u001b[0;34m(self, *args, **kwargs)\u001b[0m\n\u001b[1;32m   1496\u001b[0m \u001b[39m# If we don't have any hooks, we want to skip the rest of the logic in\u001b[39;00m\n\u001b[1;32m   1497\u001b[0m \u001b[39m# this function, and just call forward.\u001b[39;00m\n\u001b[1;32m   1498\u001b[0m \u001b[39mif\u001b[39;00m \u001b[39mnot\u001b[39;00m (\u001b[39mself\u001b[39m\u001b[39m.\u001b[39m_backward_hooks \u001b[39mor\u001b[39;00m \u001b[39mself\u001b[39m\u001b[39m.\u001b[39m_backward_pre_hooks \u001b[39mor\u001b[39;00m \u001b[39mself\u001b[39m\u001b[39m.\u001b[39m_forward_hooks \u001b[39mor\u001b[39;00m \u001b[39mself\u001b[39m\u001b[39m.\u001b[39m_forward_pre_hooks\n\u001b[1;32m   1499\u001b[0m         \u001b[39mor\u001b[39;00m _global_backward_pre_hooks \u001b[39mor\u001b[39;00m _global_backward_hooks\n\u001b[1;32m   1500\u001b[0m         \u001b[39mor\u001b[39;00m _global_forward_hooks \u001b[39mor\u001b[39;00m _global_forward_pre_hooks):\n\u001b[0;32m-> 1501\u001b[0m     \u001b[39mreturn\u001b[39;00m forward_call(\u001b[39m*\u001b[39;49margs, \u001b[39m*\u001b[39;49m\u001b[39m*\u001b[39;49mkwargs)\n\u001b[1;32m   1502\u001b[0m \u001b[39m# Do not call functions when jit is used\u001b[39;00m\n\u001b[1;32m   1503\u001b[0m full_backward_hooks, non_full_backward_hooks \u001b[39m=\u001b[39m [], []\n",
      "File \u001b[0;32m~/miniconda3/envs/qmctorch/lib/python3.8/site-packages/torch/nn/modules/linear.py:114\u001b[0m, in \u001b[0;36mLinear.forward\u001b[0;34m(self, input)\u001b[0m\n\u001b[1;32m    113\u001b[0m \u001b[39mdef\u001b[39;00m \u001b[39mforward\u001b[39m(\u001b[39mself\u001b[39m, \u001b[39minput\u001b[39m: Tensor) \u001b[39m-\u001b[39m\u001b[39m>\u001b[39m Tensor:\n\u001b[0;32m--> 114\u001b[0m     \u001b[39mreturn\u001b[39;00m F\u001b[39m.\u001b[39;49mlinear(\u001b[39minput\u001b[39;49m, \u001b[39mself\u001b[39;49m\u001b[39m.\u001b[39;49mweight, \u001b[39mself\u001b[39;49m\u001b[39m.\u001b[39;49mbias)\n",
      "\u001b[0;31mRuntimeError\u001b[0m: expected scalar type Double but found Float"
     ]
    }
   ],
   "source": [
    "solver.set_params_requires_grad(wf_params=True, geo_params=True)\n",
    "obs = solver.run(50)\n"
   ]
  },
  {
   "cell_type": "code",
   "execution_count": 10,
   "metadata": {},
   "outputs": [
    {
     "ename": "IndexError",
     "evalue": "list index out of range",
     "output_type": "error",
     "traceback": [
      "\u001b[0;31m---------------------------------------------------------------------------\u001b[0m",
      "\u001b[0;31mIndexError\u001b[0m                                Traceback (most recent call last)",
      "Cell \u001b[0;32mIn[10], line 1\u001b[0m\n\u001b[0;32m----> 1\u001b[0m solver\u001b[39m.\u001b[39;49msave_traj(\u001b[39m'\u001b[39;49m\u001b[39mh2_traj.xyz\u001b[39;49m\u001b[39m'\u001b[39;49m, obs)\n",
      "File \u001b[0;32m~/QMCTorch/qmctorch/solver/solver_base.py:438\u001b[0m, in \u001b[0;36mSolverBase.save_traj\u001b[0;34m(self, fname, obs)\u001b[0m\n\u001b[1;32m    436\u001b[0m f \u001b[39m=\u001b[39m \u001b[39mopen\u001b[39m(fname, \u001b[39m'\u001b[39m\u001b[39mw\u001b[39m\u001b[39m'\u001b[39m)\n\u001b[1;32m    437\u001b[0m xyz \u001b[39m=\u001b[39m obs\u001b[39m.\u001b[39mgeometry\n\u001b[0;32m--> 438\u001b[0m natom \u001b[39m=\u001b[39m \u001b[39mlen\u001b[39m(xyz[\u001b[39m0\u001b[39;49m])\n\u001b[1;32m    439\u001b[0m nm2bohr \u001b[39m=\u001b[39m \u001b[39m1.88973\u001b[39m\n\u001b[1;32m    440\u001b[0m \u001b[39mfor\u001b[39;00m snap \u001b[39min\u001b[39;00m xyz:\n",
      "\u001b[0;31mIndexError\u001b[0m: list index out of range"
     ]
    }
   ],
   "source": [
    "solver.save_traj('h2_traj.xyz', obs)"
   ]
  },
  {
   "cell_type": "code",
   "execution_count": 13,
   "metadata": {},
   "outputs": [
    {
     "data": {
      "text/plain": [
       "[]"
      ]
     },
     "execution_count": 13,
     "metadata": {},
     "output_type": "execute_result"
    }
   ],
   "source": [
    "obs.geometry"
   ]
  },
  {
   "cell_type": "code",
   "execution_count": null,
   "metadata": {},
   "outputs": [],
   "source": []
  }
 ],
 "metadata": {
  "kernelspec": {
   "display_name": "qmctorch",
   "language": "python",
   "name": "python3"
  },
  "language_info": {
   "codemirror_mode": {
    "name": "ipython",
    "version": 3
   },
   "file_extension": ".py",
   "mimetype": "text/x-python",
   "name": "python",
   "nbconvert_exporter": "python",
   "pygments_lexer": "ipython3",
   "version": "3.8.0"
  },
  "orig_nbformat": 4
 },
 "nbformat": 4,
 "nbformat_minor": 2
}
