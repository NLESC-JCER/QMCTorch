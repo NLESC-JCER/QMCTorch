{
 "cells": [
  {
   "cell_type": "markdown",
   "metadata": {},
   "source": [
    "# Geometry Optimization\n",
    "\n",
    "We present here a complete example on how to use QMCTorch to optimize the geometry of a H2 molecule.\n",
    "As previously the first task is to import all the modules needed"
   ]
  },
  {
   "cell_type": "code",
   "execution_count": null,
   "metadata": {},
   "outputs": [],
   "source": [
    "from torch import optim\n",
    "from torch.optim import Adam\n",
    "from qmctorch.wavefunction import SlaterJastrow\n",
    "from qmctorch.solver import Solver\n",
    "from qmctorch.sampler import Metropolis\n",
    "from qmctorch.scf import Molecule\n",
    "from qmctorch.utils import plot_energy\n",
    "from qmctorch.utils import set_torch_double_precision\n",
    "set_torch_double_precision()"
   ]
  },
  {
   "cell_type": "markdown",
   "metadata": {},
   "source": [
    "We then define the molecule. We create a H2 molecule with a short atomic distance that we will then try to relax\n"
   ]
  },
  {
   "cell_type": "code",
   "execution_count": null,
   "metadata": {},
   "outputs": [],
   "source": [
    "mol = Molecule(atom = 'H 0. 0. -0.5; H 0. 0. 0.5', unit='bohr', \n",
    "               calculator='pyscf', basis='sto-3g', redo_scf=True)"
   ]
  },
  {
   "cell_type": "markdown",
   "metadata": {},
   "source": [
    "As for the wave function optimization example we need to define a wave function, a sampler an optimizer and a solver."
   ]
  },
  {
   "cell_type": "code",
   "execution_count": null,
   "metadata": {},
   "outputs": [],
   "source": [
    "# wave function with only the ground state determinant\n",
    "wf = SlaterJastrow(mol, configs='single_double(2,2)').gto2sto()\n",
    "\n",
    "# sampler\n",
    "sampler = Metropolis(nwalkers=1000, nstep=200, step_size=0.5,\n",
    "                     nelec=wf.nelec, ndim=wf.ndim,\n",
    "                     ntherm=-1, ndecor=100,\n",
    "                     init=mol.domain('normal'),\n",
    "                     move={'type': 'all-elec', 'proba': 'normal'})\n",
    "# optimizer\n",
    "opt = Adam(wf.parameters(), lr=0.005)\n",
    "\n",
    "# scheduler\n",
    "scheduler = optim.lr_scheduler.StepLR(opt, step_size=20, gamma=0.75)"
   ]
  },
  {
   "cell_type": "code",
   "execution_count": null,
   "metadata": {},
   "outputs": [],
   "source": [
    "solver = Solver(wf=wf,\n",
    "                       sampler=sampler,\n",
    "                       optimizer=opt,\n",
    "                       scheduler=None)\n",
    "solver.configure(loss='energy', grad='auto', track=['local_energy','geometry'], freeze = ['ao'])"
   ]
  },
  {
   "cell_type": "markdown",
   "metadata": {},
   "source": [
    "Note that we must set `grad='auto'` to perform a geometry optimization. To optimize the geometry of the molecule we must use the `set_params_requires_grad` method of the solver. We here set all the wave function parameters and all the atomic positions as variational parameters, leading to a simultaneous optimization of the wave function and of the atomic coordinates. We can then run the optimization here using 50 epochs"
   ]
  },
  {
   "cell_type": "code",
   "execution_count": null,
   "metadata": {},
   "outputs": [],
   "source": [
    "solver.set_params_requires_grad(wf_params=False, geo_params=True)\n",
    "obs = solver.run(50)\n"
   ]
  },
  {
   "cell_type": "code",
   "execution_count": null,
   "metadata": {},
   "outputs": [],
   "source": [
    "solver.save_traj('h2_traj.xyz', obs)"
   ]
  },
  {
   "cell_type": "code",
   "execution_count": null,
   "metadata": {},
   "outputs": [],
   "source": [
    "plot_energy(obs.local_energy)"
   ]
  }
 ],
 "metadata": {
  "kernelspec": {
   "display_name": "Python 3 (ipykernel)",
   "language": "python",
   "name": "python3"
  },
  "language_info": {
   "codemirror_mode": {
    "name": "ipython",
    "version": 3
   },
   "file_extension": ".py",
   "mimetype": "text/x-python",
   "name": "python",
   "nbconvert_exporter": "python",
   "pygments_lexer": "ipython3",
   "version": "3.8.0"
  }
 },
 "nbformat": 4,
 "nbformat_minor": 2
}
