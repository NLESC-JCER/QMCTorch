{
 "cells": [
  {
   "attachments": {},
   "cell_type": "markdown",
   "metadata": {},
   "source": [
    "# Correlation and Blocking\n",
    "\n",
    "One important part of the sampling is to estimate the correlation between the different sampling points.\n",
    "To this end let's import the following modules"
   ]
  },
  {
   "cell_type": "code",
   "execution_count": null,
   "metadata": {},
   "outputs": [],
   "source": [
    "from qmctorch.scf import Molecule\n",
    "from qmctorch.wavefunction import SlaterJastrow\n",
    "from qmctorch.sampler import Metropolis\n",
    "from qmctorch.solver import Solver\n",
    "from qmctorch.utils import set_torch_double_precision\n",
    "from qmctorch.utils import blocking, plot_blocking_energy\n",
    "from qmctorch.utils import plot_correlation_coefficient, plot_integrated_autocorrelation_time"
   ]
  },
  {
   "attachments": {},
   "cell_type": "markdown",
   "metadata": {},
   "source": [
    "## Setting up the system\n",
    "\n",
    "Let's create a simple H2 molecule and a Slater Jastrow wave fuction to demonstrate the correlation properties of the sampling"
   ]
  },
  {
   "cell_type": "code",
   "execution_count": null,
   "metadata": {},
   "outputs": [],
   "source": [
    "set_torch_double_precision()\n",
    "mol = Molecule(atom = 'H 0. 0. 0; H 0. 0. 1.', unit='bohr', redo_scf=True)"
   ]
  },
  {
   "cell_type": "code",
   "execution_count": null,
   "metadata": {},
   "outputs": [],
   "source": [
    "wf = SlaterJastrow(mol, configs='ground_state')"
   ]
  },
  {
   "attachments": {},
   "cell_type": "markdown",
   "metadata": {},
   "source": [
    "We can also define a simple Metropolis sampler:"
   ]
  },
  {
   "cell_type": "code",
   "execution_count": null,
   "metadata": {},
   "outputs": [],
   "source": [
    "sampler = Metropolis(nwalkers=100, nstep=500, step_size=0.25,\n",
    "                    nelec=wf.nelec, ndim=wf.ndim,\n",
    "                    init=mol.domain('normal'),\n",
    "                    ntherm=0, ndecor=1,\n",
    "                    move={'type': 'all-elec', 'proba': 'normal'})"
   ]
  },
  {
   "attachments": {},
   "cell_type": "markdown",
   "metadata": {},
   "source": [
    "note that by setting `nthemr=0` and `ndecor=1`, we record all the walker positions along the trajectory. \n",
    "\n",
    "We can then define the solver:"
   ]
  },
  {
   "cell_type": "code",
   "execution_count": null,
   "metadata": {},
   "outputs": [],
   "source": [
    "solver = Solver(wf=wf, sampler=sampler)"
   ]
  },
  {
   "attachments": {},
   "cell_type": "markdown",
   "metadata": {},
   "source": [
    "## Correlation coefficient\n",
    "\n",
    "The simplest way to estimate the decorelation time is to compute the autocorrelation coefficient of the local energy. To this end we must first record the sampling trajectory, i.e. the values of the local energies along the path of the walkers:"
   ]
  },
  {
   "cell_type": "code",
   "execution_count": null,
   "metadata": {},
   "outputs": [],
   "source": [
    "pos = solver.sampler(solver.wf.pdf)\n",
    "obs = solver.sampling_traj(pos)"
   ]
  },
  {
   "attachments": {},
   "cell_type": "markdown",
   "metadata": {},
   "source": [
    "We can then plot the correlation coefficient with:"
   ]
  },
  {
   "cell_type": "code",
   "execution_count": null,
   "metadata": {},
   "outputs": [],
   "source": [
    "rho, tau = plot_correlation_coefficient(obs.local_energy)"
   ]
  },
  {
   "attachments": {},
   "cell_type": "markdown",
   "metadata": {},
   "source": [
    "On this picture is represented the autocorrelation coefficient of the local energy of all the walkers (transparent colorful line)\n",
    "and the average of the autocorrelation coefficient (thick black line). This mean value is fitted with an exponential decay\n",
    "to obtain the autocorrelation time that is here equal to 1.79 MCs.\n",
    "\n",
    "## Integrated autocorrelation time\n",
    "\n",
    "Another way to estimate the correlation time is to compute the integrated autocorrelation time. This can be done with"
   ]
  },
  {
   "cell_type": "code",
   "execution_count": null,
   "metadata": {},
   "outputs": [],
   "source": [
    "plot_integrated_autocorrelation_time(obs.local_energy)"
   ]
  },
  {
   "attachments": {},
   "cell_type": "markdown",
   "metadata": {},
   "source": [
    "A conservative estimate of the correlation time can be obtain when the iac cross the dashed line, leading here to a value of about 20 steps.\n",
    "\n",
    "## Energy blocking\n",
    "\n",
    "It is also common practice to use blocking of the local energy values to reduce the variance. This can easily be done with"
   ]
  },
  {
   "cell_type": "code",
   "execution_count": null,
   "metadata": {},
   "outputs": [],
   "source": [
    "eb = plot_blocking_energy(obs.local_energy, block_size=100, walkers='mean')"
   ]
  },
  {
   "attachments": {},
   "cell_type": "markdown",
   "metadata": {},
   "source": [
    "That shows the raw and blocked values of the mean local energy values."
   ]
  }
 ],
 "metadata": {
  "kernelspec": {
   "display_name": "qmctorch",
   "language": "python",
   "name": "python3"
  },
  "language_info": {
   "codemirror_mode": {
    "name": "ipython",
    "version": 3
   },
   "file_extension": ".py",
   "mimetype": "text/x-python",
   "name": "python",
   "nbconvert_exporter": "python",
   "pygments_lexer": "ipython3",
   "version": "3.8.0"
  },
  "orig_nbformat": 4
 },
 "nbformat": 4,
 "nbformat_minor": 2
}
